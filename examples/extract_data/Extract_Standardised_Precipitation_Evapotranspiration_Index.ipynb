{
  "nbformat": 4,
  "nbformat_minor": 0,
  "metadata": {
    "colab": {
      "provenance": [],
      "include_colab_link": true
    },
    "kernelspec": {
      "name": "python3",
      "display_name": "Python 3"
    },
    "language_info": {
      "name": "python"
    }
  },
  "cells": [
    {
      "cell_type": "markdown",
      "metadata": {
        "id": "view-in-github",
        "colab_type": "text"
      },
      "source": [
        "<a href=\"https://colab.research.google.com/github/remotesensinginfo/pb_gee_tools/blob/main/examples/extract_data/Extract_Standardised_Precipitation_Evapotranspiration_Index.ipynb\" target=\"_parent\"><img src=\"https://colab.research.google.com/assets/colab-badge.svg\" alt=\"Open In Colab\"/></a>"
      ]
    },
    {
      "cell_type": "code",
      "execution_count": null,
      "metadata": {
        "id": "BO3E3c63DaqX"
      },
      "outputs": [],
      "source": [
        "# The Google Earth Engine module\n",
        "import ee\n",
        "\n",
        "# The datetime module is used to specify the dates\n",
        "# to search for imagery\n",
        "import datetime\n",
        "\n",
        "# Geopandas allows us to read the shapefile used to\n",
        "# define the region of interest (ROI)\n",
        "import geopandas\n",
        "\n",
        "# Pandas allows us to create a spreadsheet output\n",
        "# datasets\n",
        "import pandas\n",
        "\n",
        "# The colab module to access data from your google drive\n",
        "from google.colab import drive"
      ]
    },
    {
      "cell_type": "code",
      "source": [
        "try:\n",
        "  import pb_gee_tools.convert_types\n",
        "except:\n",
        "  !git clone https://github.com/remotesensinginfo/pb_gee_tools.git\n",
        "  !pip install ./pb_gee_tools/.\n",
        "  import pb_gee_tools.convert_types"
      ],
      "metadata": {
        "id": "vv5C-zTbD2d2"
      },
      "execution_count": null,
      "outputs": []
    },
    {
      "cell_type": "code",
      "source": [
        "ee_prj_name = \"ee-pb-dev\"  # <==== Replace this with your own EE project string\n",
        "ee.Authenticate()\n",
        "ee.Initialize(project=ee_prj_name)"
      ],
      "metadata": {
        "id": "WsWC37qJDj8e"
      },
      "execution_count": null,
      "outputs": []
    },
    {
      "cell_type": "code",
      "source": [
        "drive.mount(\"/content/drive\")"
      ],
      "metadata": {
        "id": "J6zNhIbCDmP3"
      },
      "execution_count": null,
      "outputs": []
    },
    {
      "cell_type": "code",
      "source": [
        "# The region of interest\n",
        "vec_roi_file = \"/content/drive/MyDrive/burnt_veg/burnt_area_roi.geojson\"\n",
        "\n",
        "\n",
        "# Dates before the fire\n",
        "start_date = datetime.datetime(year=2020, month=1, day=1)\n",
        "end_date = datetime.datetime(year=2024, month=5, day=28)\n",
        "\n",
        "# No Data Value\n",
        "out_no_data_val = 0.0"
      ],
      "metadata": {
        "id": "RiBP7rJDDmSl"
      },
      "execution_count": null,
      "outputs": []
    },
    {
      "cell_type": "code",
      "source": [
        "# Read the vector layer and make sure it is project using WGS84 (EPSG:4326)\n",
        "vec_gdf = geopandas.read_file(vec_roi_file).to_crs(4326)\n",
        "\n",
        "# Get layer bbox: minx, miny, maxx, maxy\n",
        "gp_bbox = vec_gdf.total_bounds\n",
        "\n",
        "# Create the GEE geometry from the bbox.\n",
        "roi_west = gp_bbox[0]\n",
        "roi_east = gp_bbox[2]\n",
        "roi_north = gp_bbox[3]\n",
        "roi_south = gp_bbox[1]\n",
        "gee_bbox_aoi = ee.Geometry.BBox(roi_west, roi_south, roi_east, roi_north)"
      ],
      "metadata": {
        "id": "BDTL_ptlDmVK"
      },
      "execution_count": null,
      "outputs": []
    },
    {
      "cell_type": "code",
      "source": [
        "roi_ee_poly = pb_gee_tools.convert_types.convert_vector_to_gee_polygon(vec_file = vec_roi_file)"
      ],
      "metadata": {
        "id": "srBmyYQJDmXv"
      },
      "execution_count": null,
      "outputs": []
    },
    {
      "cell_type": "code",
      "source": [
        "spei_img_col = ee.ImageCollection('CSIC/SPEI/2_10').filterBounds(gee_bbox_aoi).filter(ee.Filter.date(start_date, end_date))"
      ],
      "metadata": {
        "id": "-NmXccgBDmaW"
      },
      "execution_count": null,
      "outputs": []
    },
    {
      "cell_type": "code",
      "source": [
        "def create_time_series(image):\n",
        "    stats = image.reduceRegion(\n",
        "        reducer=ee.Reducer.mean(), geometry=roi_ee_poly)\n",
        "    data_lut = {\"date\": image.date().format()}\n",
        "    for mnth in [\"01\", \"02\", \"03\", \"04\", \"05\", \"06\", \"07\", \"08\", \"09\", \"10\", \"11\", \"12\", \"13\", \"14\", \"15\", \"16\", \"17\", \"18\", \"19\", \"20\", \"21\", \"22\", \"23\", \"24\", \"25\", \"26\", \"27\", \"28\", \"29\", \"30\", \"31\", \"32\", \"33\", \"34\", \"35\", \"36\", \"37\", \"38\", \"39\", \"40\", \"41\", \"42\", \"43\", \"44\", \"45\", \"46\", \"47\", \"48\"]:\n",
        "        data_lut[f\"SPEI_{mnth}_month\"] = stats.get(f\"SPEI_{mnth}_month\")\n",
        "\n",
        "    return ee.Feature(None, data_lut)"
      ],
      "metadata": {
        "id": "KvaF0mH7IA8f"
      },
      "execution_count": null,
      "outputs": []
    },
    {
      "cell_type": "code",
      "source": [
        "spei_time_series = spei_img_col.map(create_time_series).getInfo()"
      ],
      "metadata": {
        "id": "ozHIMn_6FG9b"
      },
      "execution_count": null,
      "outputs": []
    },
    {
      "cell_type": "code",
      "source": [
        "# Convert time series to a pandas DataFrame\n",
        "spei_feats = spei_time_series[\"features\"]\n",
        "\n",
        "# Create a list of the dates and temperature data\n",
        "spei_data = list()\n",
        "for spei_feat in spei_feats:\n",
        "    if \"date\" in spei_feat[\"properties\"]:\n",
        "        data_lut = {\"date\": spei_feat[\"properties\"][\"date\"]}\n",
        "        for mnth in [\"01\", \"02\", \"03\", \"04\", \"05\", \"06\", \"07\", \"08\", \"09\", \"10\", \"11\", \"12\", \"13\", \"14\", \"15\", \"16\", \"17\", \"18\", \"19\", \"20\", \"21\", \"22\", \"23\", \"24\", \"25\", \"26\", \"27\", \"28\", \"29\", \"30\", \"31\", \"32\", \"33\", \"34\", \"35\", \"36\", \"37\", \"38\", \"39\", \"40\", \"41\", \"42\", \"43\", \"44\", \"45\", \"46\", \"47\", \"48\"]:\n",
        "            data_lut[f\"SPEI_{mnth}_month\"] = spei_feat[\"properties\"][f\"SPEI_{mnth}_month\"]\n",
        "        spei_data.append(data_lut)\n",
        "\n",
        "# Convert the list of a Pandas Dataframe\n",
        "spei_df = pandas.DataFrame(spei_data)\n",
        "# Convert the date column to a datatime object\n",
        "spei_df[\"date\"] = pandas.to_datetime(spei_df[\"date\"])\n",
        "# Sort the Dataframe by the date\n",
        "spei_df = spei_df.sort_values(\"date\")\n",
        "spei_df"
      ],
      "metadata": {
        "id": "OToiG6qcIIFm"
      },
      "execution_count": null,
      "outputs": []
    },
    {
      "cell_type": "code",
      "source": [
        "# Save the pandas dataframes to the google drive\n",
        "spei_df.to_excel(\n",
        "    \"/content/drive/MyDrive/burnt_veg/burnt_area_Standardised_Precipitation_Evapotranspiration_Index_data.xlsx\", index=False\n",
        ")\n"
      ],
      "metadata": {
        "id": "pCNRf1C6FHFF"
      },
      "execution_count": null,
      "outputs": []
    },
    {
      "cell_type": "code",
      "source": [],
      "metadata": {
        "id": "Jap5JEs7G3nA"
      },
      "execution_count": null,
      "outputs": []
    }
  ]
}