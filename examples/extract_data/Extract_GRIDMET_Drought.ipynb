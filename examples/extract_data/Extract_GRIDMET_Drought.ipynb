{
  "nbformat": 4,
  "nbformat_minor": 0,
  "metadata": {
    "colab": {
      "provenance": [],
      "authorship_tag": "ABX9TyPQU5mbsVnyZ6+jun4rmVrm",
      "include_colab_link": true
    },
    "kernelspec": {
      "name": "python3",
      "display_name": "Python 3"
    },
    "language_info": {
      "name": "python"
    }
  },
  "cells": [
    {
      "cell_type": "markdown",
      "metadata": {
        "id": "view-in-github",
        "colab_type": "text"
      },
      "source": [
        "<a href=\"https://colab.research.google.com/github/remotesensinginfo/pb_gee_tools/blob/main/examples/extract_data/Extract_GRIDMET_Drought.ipynb\" target=\"_parent\"><img src=\"https://colab.research.google.com/assets/colab-badge.svg\" alt=\"Open In Colab\"/></a>"
      ]
    },
    {
      "cell_type": "code",
      "execution_count": null,
      "metadata": {
        "id": "BO3E3c63DaqX"
      },
      "outputs": [],
      "source": [
        "# The Google Earth Engine module\n",
        "import ee\n",
        "\n",
        "# The datetime module is used to specify the dates\n",
        "# to search for imagery\n",
        "import datetime\n",
        "\n",
        "# Geopandas allows us to read the shapefile used to\n",
        "# define the region of interest (ROI)\n",
        "import geopandas\n",
        "\n",
        "# Pandas allows us to create a spreadsheet output\n",
        "# datasets\n",
        "import pandas\n",
        "\n",
        "# The colab module to access data from your google drive\n",
        "from google.colab import drive"
      ]
    },
    {
      "cell_type": "code",
      "source": [
        "try:\n",
        "  import pb_gee_tools.convert_types\n",
        "except:\n",
        "  !git clone https://github.com/remotesensinginfo/pb_gee_tools.git\n",
        "  !pip install ./pb_gee_tools/.\n",
        "  import pb_gee_tools.convert_types"
      ],
      "metadata": {
        "id": "vv5C-zTbD2d2"
      },
      "execution_count": null,
      "outputs": []
    },
    {
      "cell_type": "code",
      "source": [
        "ee_prj_name = \"ee-pb-dev\"  # <==== Replace this with your own EE project string\n",
        "ee.Authenticate()\n",
        "ee.Initialize(project=ee_prj_name)"
      ],
      "metadata": {
        "id": "WsWC37qJDj8e"
      },
      "execution_count": null,
      "outputs": []
    },
    {
      "cell_type": "code",
      "source": [
        "drive.mount(\"/content/drive\")"
      ],
      "metadata": {
        "id": "J6zNhIbCDmP3"
      },
      "execution_count": null,
      "outputs": []
    },
    {
      "cell_type": "code",
      "source": [
        "# The region of interest\n",
        "vec_roi_file = \"/content/drive/MyDrive/drought_data_florida_mangroves/south_florida_mangroves.geojson\"\n",
        "\n",
        "\n",
        "# Dates before the fire\n",
        "start_date = datetime.datetime(year=2020, month=1, day=1)\n",
        "end_date = datetime.datetime(year=2024, month=5, day=28)\n",
        "\n",
        "# No Data Value\n",
        "out_no_data_val = 0.0"
      ],
      "metadata": {
        "id": "RiBP7rJDDmSl"
      },
      "execution_count": null,
      "outputs": []
    },
    {
      "cell_type": "code",
      "source": [
        "# Read the vector layer and make sure it is project using WGS84 (EPSG:4326)\n",
        "vec_gdf = geopandas.read_file(vec_roi_file).to_crs(4326)\n",
        "\n",
        "# Get layer bbox: minx, miny, maxx, maxy\n",
        "gp_bbox = vec_gdf.total_bounds\n",
        "\n",
        "# Create the GEE geometry from the bbox.\n",
        "roi_west = gp_bbox[0]\n",
        "roi_east = gp_bbox[2]\n",
        "roi_north = gp_bbox[3]\n",
        "roi_south = gp_bbox[1]\n",
        "gee_bbox_aoi = ee.Geometry.BBox(roi_west, roi_south, roi_east, roi_north)"
      ],
      "metadata": {
        "id": "BDTL_ptlDmVK"
      },
      "execution_count": null,
      "outputs": []
    },
    {
      "cell_type": "code",
      "source": [
        "roi_ee_poly = pb_gee_tools.convert_types.convert_vector_to_gee_polygon(vec_file = vec_roi_file)"
      ],
      "metadata": {
        "id": "srBmyYQJDmXv"
      },
      "execution_count": null,
      "outputs": []
    },
    {
      "cell_type": "code",
      "source": [
        "###########################################################\n",
        "# *** Note this dataset is only available for the USA. ***\n",
        "###########################################################\n",
        "drought_img_col = ee.ImageCollection('GRIDMET/DROUGHT').filterBounds(gee_bbox_aoi).filter(ee.Filter.date(start_date, end_date))"
      ],
      "metadata": {
        "id": "-NmXccgBDmaW"
      },
      "execution_count": null,
      "outputs": []
    },
    {
      "cell_type": "code",
      "source": [
        "def create_time_series(image):\n",
        "    stats = image.reduceRegion(\n",
        "        reducer=ee.Reducer.mean(), geometry=roi_ee_poly)\n",
        "    return ee.Feature(None, {\"date\": image.date().format(),\n",
        "                             \"spi14d\": stats.get(\"spi14d\"),\n",
        "                             \"spi30d\": stats.get(\"spi30d\"),\n",
        "                             \"spi90d\": stats.get(\"spi90d\"),\n",
        "                             \"spi180d\": stats.get(\"spi180d\"),\n",
        "                             \"spi270d\": stats.get(\"spi270d\"),\n",
        "                             \"spi1y\": stats.get(\"spi1y\"),\n",
        "                             \"spi2y\": stats.get(\"spi2y\"),\n",
        "                             \"spi5y\": stats.get(\"spi5y\"),\n",
        "                             \"eddi14d\": stats.get(\"eddi14d\"),\n",
        "                             \"eddi30d\": stats.get(\"eddi30d\"),\n",
        "                             \"eddi90d\": stats.get(\"eddi90d\"),\n",
        "                             \"eddi180d\": stats.get(\"eddi180d\"),\n",
        "                             \"eddi270d\": stats.get(\"eddi270d\"),\n",
        "                             \"eddi1y\": stats.get(\"eddi1y\"),\n",
        "                             \"eddi2y\": stats.get(\"eddi2y\"),\n",
        "                             \"eddi5y\": stats.get(\"eddi5y\"),\n",
        "                             \"spei14d\": stats.get(\"spei14d\"),\n",
        "                             \"spei30d\": stats.get(\"spei30d\"),\n",
        "                             \"spei90d\": stats.get(\"spei90d\"),\n",
        "                             \"spei180d\": stats.get(\"spei180d\"),\n",
        "                             \"spei270d\": stats.get(\"spei270d\"),\n",
        "                             \"spei1y\": stats.get(\"spei1y\"),\n",
        "                             \"spei2y\": stats.get(\"spei2y\"),\n",
        "                             \"spei5y\": stats.get(\"spei5y\"),\n",
        "                             \"pdsi\": stats.get(\"pdsi\"),\n",
        "                             \"z\": stats.get(\"z\"),})"
      ],
      "metadata": {
        "id": "KvaF0mH7IA8f"
      },
      "execution_count": null,
      "outputs": []
    },
    {
      "cell_type": "code",
      "source": [
        "drought_time_series = drought_img_col.map(create_time_series).getInfo()"
      ],
      "metadata": {
        "id": "ozHIMn_6FG9b"
      },
      "execution_count": null,
      "outputs": []
    },
    {
      "cell_type": "code",
      "source": [
        "# Convert time series to a pandas DataFrame\n",
        "drought_feats = drought_time_series[\"features\"]\n",
        "\n",
        "# Create a list of the dates and drought data\n",
        "drought_data = list()\n",
        "for drought_feat in drought_feats:\n",
        "    if \"date\" in drought_feat[\"properties\"]:\n",
        "        drought_data.append(\n",
        "            {\n",
        "                \"date\": drought_feat[\"properties\"][\"date\"],\n",
        "                \"spi14d\": drought_feat[\"properties\"][\"spi14d\"],\n",
        "                \"spi30d\": drought_feat[\"properties\"][\"spi30d\"],\n",
        "                \"spi90d\": drought_feat[\"properties\"][\"spi90d\"],\n",
        "                \"spi180d\": drought_feat[\"properties\"][\"spi180d\"],\n",
        "                \"spi270d\": drought_feat[\"properties\"][\"spi270d\"],\n",
        "                \"spi1y\": drought_feat[\"properties\"][\"spi1y\"],\n",
        "                \"spi2y\": drought_feat[\"properties\"][\"spi2y\"],\n",
        "                \"spi5y\": drought_feat[\"properties\"][\"spi5y\"],\n",
        "                \"eddi14d\": drought_feat[\"properties\"][\"eddi14d\"],\n",
        "                \"eddi30d\": drought_feat[\"properties\"][\"eddi30d\"],\n",
        "                \"eddi90d\": drought_feat[\"properties\"][\"eddi90d\"],\n",
        "                \"eddi180d\": drought_feat[\"properties\"][\"eddi180d\"],\n",
        "                \"eddi270d\": drought_feat[\"properties\"][\"eddi270d\"],\n",
        "                \"eddi1y\": drought_feat[\"properties\"][\"eddi1y\"],\n",
        "                \"eddi2y\": drought_feat[\"properties\"][\"eddi2y\"],\n",
        "                \"eddi5y\": drought_feat[\"properties\"][\"eddi5y\"],\n",
        "                \"spei14d\": drought_feat[\"properties\"][\"spei14d\"],\n",
        "                \"spei30d\": drought_feat[\"properties\"][\"spei30d\"],\n",
        "                \"spei90d\": drought_feat[\"properties\"][\"spei90d\"],\n",
        "                \"spei180d\": drought_feat[\"properties\"][\"spei180d\"],\n",
        "                \"spei270d\": drought_feat[\"properties\"][\"spei270d\"],\n",
        "                \"spei1y\": drought_feat[\"properties\"][\"spei1y\"],\n",
        "                \"spei2y\": drought_feat[\"properties\"][\"spei2y\"],\n",
        "                \"spei5y\": drought_feat[\"properties\"][\"spei5y\"],\n",
        "                \"pdsi\": drought_feat[\"properties\"][\"pdsi\"],\n",
        "                \"z\": drought_feat[\"properties\"][\"z\"],\n",
        "            }\n",
        "        )\n",
        "\n",
        "# Convert the list of a Pandas Dataframe\n",
        "drought_df = pandas.DataFrame(drought_data)\n",
        "# Convert the date column to a datatime object\n",
        "drought_df[\"date\"] = pandas.to_datetime(drought_df[\"date\"])\n",
        "# Sort the Dataframe by the date\n",
        "drought_df = drought_df.sort_values(\"date\")\n",
        "drought_df"
      ],
      "metadata": {
        "id": "OToiG6qcIIFm"
      },
      "execution_count": null,
      "outputs": []
    },
    {
      "cell_type": "code",
      "source": [
        "# Save the pandas dataframes to the google drive\n",
        "drought_df.to_excel(\n",
        "    \"/content/drive/MyDrive/drought_data_florida_mangroves/south_florida_mangroves_drought_data.xlsx\", index=False\n",
        ")\n"
      ],
      "metadata": {
        "id": "pCNRf1C6FHFF"
      },
      "execution_count": null,
      "outputs": []
    },
    {
      "cell_type": "code",
      "source": [],
      "metadata": {
        "id": "Jap5JEs7G3nA"
      },
      "execution_count": null,
      "outputs": []
    }
  ]
}