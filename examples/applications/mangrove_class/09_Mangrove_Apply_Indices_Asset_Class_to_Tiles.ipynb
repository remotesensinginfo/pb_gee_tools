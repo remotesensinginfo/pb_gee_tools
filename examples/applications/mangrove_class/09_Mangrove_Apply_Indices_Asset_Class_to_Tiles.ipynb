{
  "nbformat": 4,
  "nbformat_minor": 0,
  "metadata": {
    "colab": {
      "provenance": []
    },
    "kernelspec": {
      "name": "python3",
      "display_name": "Python 3"
    },
    "language_info": {
      "name": "python"
    }
  },
  "cells": [
    {
      "cell_type": "code",
      "execution_count": 1,
      "metadata": {
        "id": "3HVYHfa17v2a"
      },
      "outputs": [],
      "source": [
        "# The Google Earth Engine module\n",
        "import ee\n",
        "\n",
        "# The datetime module is used to specify the dates\n",
        "# to search for imagery\n",
        "import datetime\n",
        "\n",
        "# Import the geemap (https://geemap.org/) module which\n",
        "# has a visualisation tool\n",
        "import geemap\n",
        "\n",
        "# Geopandas allows us to read the shapefile used to\n",
        "# define the region of interest (ROI)\n",
        "import geopandas\n",
        "\n",
        "# The colab module to access data from your google drive\n",
        "from google.colab import drive"
      ]
    },
    {
      "cell_type": "code",
      "source": [
        "try:\n",
        "  import pb_gee_tools\n",
        "  import pb_gee_tools.datasets\n",
        "  import pb_gee_tools.convert_types\n",
        "except:\n",
        "  !git clone https://github.com/remotesensinginfo/pb_gee_tools.git\n",
        "  !pip install ./pb_gee_tools/.\n",
        "  import pb_gee_tools\n",
        "  import pb_gee_tools.datasets\n",
        "  import pb_gee_tools.convert_types"
      ],
      "metadata": {
        "id": "FJu5EY_Y8BRd",
        "colab": {
          "base_uri": "https://localhost:8080/",
          "height": 948
        },
        "outputId": "9b33b606-25ee-4c49-f376-4f0391a9b049"
      },
      "execution_count": 2,
      "outputs": [
        {
          "output_type": "display_data",
          "data": {
            "text/plain": [
              "<IPython.core.display.HTML object>"
            ],
            "text/html": [
              "\n",
              "            <style>\n",
              "                .geemap-dark {\n",
              "                    --jp-widgets-color: white;\n",
              "                    --jp-widgets-label-color: white;\n",
              "                    --jp-ui-font-color1: white;\n",
              "                    --jp-layout-color2: #454545;\n",
              "                    background-color: #383838;\n",
              "                }\n",
              "\n",
              "                .geemap-dark .jupyter-button {\n",
              "                    --jp-layout-color3: #383838;\n",
              "                }\n",
              "\n",
              "                .geemap-colab {\n",
              "                    background-color: var(--colab-primary-surface-color, white);\n",
              "                }\n",
              "\n",
              "                .geemap-colab .jupyter-button {\n",
              "                    --jp-layout-color3: var(--colab-primary-surface-color, white);\n",
              "                }\n",
              "            </style>\n",
              "            "
            ]
          },
          "metadata": {}
        },
        {
          "output_type": "stream",
          "name": "stdout",
          "text": [
            "Cloning into 'pb_gee_tools'...\n",
            "remote: Enumerating objects: 375, done.\u001b[K\n",
            "remote: Counting objects: 100% (104/104), done.\u001b[K\n",
            "remote: Compressing objects: 100% (83/83), done.\u001b[K\n",
            "remote: Total 375 (delta 49), reused 56 (delta 21), pack-reused 271 (from 1)\u001b[K\n",
            "Receiving objects: 100% (375/375), 672.79 KiB | 2.69 MiB/s, done.\n",
            "Resolving deltas: 100% (197/197), done.\n",
            "Processing ./pb_gee_tools\n",
            "  Preparing metadata (setup.py) ... \u001b[?25l\u001b[?25hdone\n",
            "Requirement already satisfied: earthengine-api in /usr/local/lib/python3.10/dist-packages (from pb_gee_tools==0.3.0) (1.4.3)\n",
            "Requirement already satisfied: geopandas in /usr/local/lib/python3.10/dist-packages (from pb_gee_tools==0.3.0) (1.0.1)\n",
            "Requirement already satisfied: google-cloud-storage in /usr/local/lib/python3.10/dist-packages (from earthengine-api->pb_gee_tools==0.3.0) (2.19.0)\n",
            "Requirement already satisfied: google-api-python-client>=1.12.1 in /usr/local/lib/python3.10/dist-packages (from earthengine-api->pb_gee_tools==0.3.0) (2.155.0)\n",
            "Requirement already satisfied: google-auth>=1.4.1 in /usr/local/lib/python3.10/dist-packages (from earthengine-api->pb_gee_tools==0.3.0) (2.27.0)\n",
            "Requirement already satisfied: google-auth-httplib2>=0.0.3 in /usr/local/lib/python3.10/dist-packages (from earthengine-api->pb_gee_tools==0.3.0) (0.2.0)\n",
            "Requirement already satisfied: httplib2<1dev,>=0.9.2 in /usr/local/lib/python3.10/dist-packages (from earthengine-api->pb_gee_tools==0.3.0) (0.22.0)\n",
            "Requirement already satisfied: requests in /usr/local/lib/python3.10/dist-packages (from earthengine-api->pb_gee_tools==0.3.0) (2.32.3)\n",
            "Requirement already satisfied: numpy>=1.22 in /usr/local/lib/python3.10/dist-packages (from geopandas->pb_gee_tools==0.3.0) (1.26.4)\n",
            "Requirement already satisfied: pyogrio>=0.7.2 in /usr/local/lib/python3.10/dist-packages (from geopandas->pb_gee_tools==0.3.0) (0.10.0)\n",
            "Requirement already satisfied: packaging in /usr/local/lib/python3.10/dist-packages (from geopandas->pb_gee_tools==0.3.0) (24.2)\n",
            "Requirement already satisfied: pandas>=1.4.0 in /usr/local/lib/python3.10/dist-packages (from geopandas->pb_gee_tools==0.3.0) (2.2.2)\n",
            "Requirement already satisfied: pyproj>=3.3.0 in /usr/local/lib/python3.10/dist-packages (from geopandas->pb_gee_tools==0.3.0) (3.7.0)\n",
            "Requirement already satisfied: shapely>=2.0.0 in /usr/local/lib/python3.10/dist-packages (from geopandas->pb_gee_tools==0.3.0) (2.0.6)\n",
            "Requirement already satisfied: google-api-core!=2.0.*,!=2.1.*,!=2.2.*,!=2.3.0,<3.0.0.dev0,>=1.31.5 in /usr/local/lib/python3.10/dist-packages (from google-api-python-client>=1.12.1->earthengine-api->pb_gee_tools==0.3.0) (2.19.2)\n",
            "Requirement already satisfied: uritemplate<5,>=3.0.1 in /usr/local/lib/python3.10/dist-packages (from google-api-python-client>=1.12.1->earthengine-api->pb_gee_tools==0.3.0) (4.1.1)\n",
            "Requirement already satisfied: cachetools<6.0,>=2.0.0 in /usr/local/lib/python3.10/dist-packages (from google-auth>=1.4.1->earthengine-api->pb_gee_tools==0.3.0) (5.5.0)\n",
            "Requirement already satisfied: pyasn1-modules>=0.2.1 in /usr/local/lib/python3.10/dist-packages (from google-auth>=1.4.1->earthengine-api->pb_gee_tools==0.3.0) (0.4.1)\n",
            "Requirement already satisfied: rsa<5,>=3.1.4 in /usr/local/lib/python3.10/dist-packages (from google-auth>=1.4.1->earthengine-api->pb_gee_tools==0.3.0) (4.9)\n",
            "Requirement already satisfied: pyparsing!=3.0.0,!=3.0.1,!=3.0.2,!=3.0.3,<4,>=2.4.2 in /usr/local/lib/python3.10/dist-packages (from httplib2<1dev,>=0.9.2->earthengine-api->pb_gee_tools==0.3.0) (3.2.0)\n",
            "Requirement already satisfied: python-dateutil>=2.8.2 in /usr/local/lib/python3.10/dist-packages (from pandas>=1.4.0->geopandas->pb_gee_tools==0.3.0) (2.8.2)\n",
            "Requirement already satisfied: pytz>=2020.1 in /usr/local/lib/python3.10/dist-packages (from pandas>=1.4.0->geopandas->pb_gee_tools==0.3.0) (2024.2)\n",
            "Requirement already satisfied: tzdata>=2022.7 in /usr/local/lib/python3.10/dist-packages (from pandas>=1.4.0->geopandas->pb_gee_tools==0.3.0) (2024.2)\n",
            "Requirement already satisfied: certifi in /usr/local/lib/python3.10/dist-packages (from pyogrio>=0.7.2->geopandas->pb_gee_tools==0.3.0) (2024.12.14)\n",
            "Requirement already satisfied: google-cloud-core<3.0dev,>=2.3.0 in /usr/local/lib/python3.10/dist-packages (from google-cloud-storage->earthengine-api->pb_gee_tools==0.3.0) (2.4.1)\n",
            "Requirement already satisfied: google-resumable-media>=2.7.2 in /usr/local/lib/python3.10/dist-packages (from google-cloud-storage->earthengine-api->pb_gee_tools==0.3.0) (2.7.2)\n",
            "Requirement already satisfied: google-crc32c<2.0dev,>=1.0 in /usr/local/lib/python3.10/dist-packages (from google-cloud-storage->earthengine-api->pb_gee_tools==0.3.0) (1.6.0)\n",
            "Requirement already satisfied: charset-normalizer<4,>=2 in /usr/local/lib/python3.10/dist-packages (from requests->earthengine-api->pb_gee_tools==0.3.0) (3.4.0)\n",
            "Requirement already satisfied: idna<4,>=2.5 in /usr/local/lib/python3.10/dist-packages (from requests->earthengine-api->pb_gee_tools==0.3.0) (3.10)\n",
            "Requirement already satisfied: urllib3<3,>=1.21.1 in /usr/local/lib/python3.10/dist-packages (from requests->earthengine-api->pb_gee_tools==0.3.0) (2.2.3)\n",
            "Requirement already satisfied: googleapis-common-protos<2.0.dev0,>=1.56.2 in /usr/local/lib/python3.10/dist-packages (from google-api-core!=2.0.*,!=2.1.*,!=2.2.*,!=2.3.0,<3.0.0.dev0,>=1.31.5->google-api-python-client>=1.12.1->earthengine-api->pb_gee_tools==0.3.0) (1.66.0)\n",
            "Requirement already satisfied: protobuf!=3.20.0,!=3.20.1,!=4.21.0,!=4.21.1,!=4.21.2,!=4.21.3,!=4.21.4,!=4.21.5,<6.0.0.dev0,>=3.19.5 in /usr/local/lib/python3.10/dist-packages (from google-api-core!=2.0.*,!=2.1.*,!=2.2.*,!=2.3.0,<3.0.0.dev0,>=1.31.5->google-api-python-client>=1.12.1->earthengine-api->pb_gee_tools==0.3.0) (4.25.5)\n",
            "Requirement already satisfied: proto-plus<2.0.0dev,>=1.22.3 in /usr/local/lib/python3.10/dist-packages (from google-api-core!=2.0.*,!=2.1.*,!=2.2.*,!=2.3.0,<3.0.0.dev0,>=1.31.5->google-api-python-client>=1.12.1->earthengine-api->pb_gee_tools==0.3.0) (1.25.0)\n",
            "Requirement already satisfied: pyasn1<0.7.0,>=0.4.6 in /usr/local/lib/python3.10/dist-packages (from pyasn1-modules>=0.2.1->google-auth>=1.4.1->earthengine-api->pb_gee_tools==0.3.0) (0.6.1)\n",
            "Requirement already satisfied: six>=1.5 in /usr/local/lib/python3.10/dist-packages (from python-dateutil>=2.8.2->pandas>=1.4.0->geopandas->pb_gee_tools==0.3.0) (1.17.0)\n",
            "Building wheels for collected packages: pb_gee_tools\n",
            "  Building wheel for pb_gee_tools (setup.py) ... \u001b[?25l\u001b[?25hdone\n",
            "  Created wheel for pb_gee_tools: filename=pb_gee_tools-0.3.0-py3-none-any.whl size=17966 sha256=04a5a97a3e7824cdbb16d90a0d40113051e87cdf8c2d6299a2c7c12e80c16d87\n",
            "  Stored in directory: /tmp/pip-ephem-wheel-cache-lpiu0d29/wheels/e8/da/17/69dc01c6cbd07adb00923d8c1dd9a22fb31e96a17b74c93812\n",
            "Successfully built pb_gee_tools\n",
            "Installing collected packages: pb_gee_tools\n",
            "Successfully installed pb_gee_tools-0.3.0\n"
          ]
        }
      ]
    },
    {
      "cell_type": "code",
      "source": [
        "ee_prj_name = \"ee-pb-dev\"  # <==== Replace this with your own EE project string\n",
        "ee.Authenticate()\n",
        "ee.Initialize(project=ee_prj_name)"
      ],
      "metadata": {
        "id": "3jX-JASI8BUV",
        "colab": {
          "base_uri": "https://localhost:8080/",
          "height": 17
        },
        "outputId": "a4422092-2d90-498e-b3dd-50cfdfcb4fa4"
      },
      "execution_count": 3,
      "outputs": [
        {
          "output_type": "display_data",
          "data": {
            "text/plain": [
              "<IPython.core.display.HTML object>"
            ],
            "text/html": [
              "\n",
              "            <style>\n",
              "                .geemap-dark {\n",
              "                    --jp-widgets-color: white;\n",
              "                    --jp-widgets-label-color: white;\n",
              "                    --jp-ui-font-color1: white;\n",
              "                    --jp-layout-color2: #454545;\n",
              "                    background-color: #383838;\n",
              "                }\n",
              "\n",
              "                .geemap-dark .jupyter-button {\n",
              "                    --jp-layout-color3: #383838;\n",
              "                }\n",
              "\n",
              "                .geemap-colab {\n",
              "                    background-color: var(--colab-primary-surface-color, white);\n",
              "                }\n",
              "\n",
              "                .geemap-colab .jupyter-button {\n",
              "                    --jp-layout-color3: var(--colab-primary-surface-color, white);\n",
              "                }\n",
              "            </style>\n",
              "            "
            ]
          },
          "metadata": {}
        }
      ]
    },
    {
      "cell_type": "code",
      "source": [
        "drive.mount(\"/content/drive\")"
      ],
      "metadata": {
        "id": "HWIe6Pqy8BXB",
        "colab": {
          "base_uri": "https://localhost:8080/",
          "height": 35
        },
        "outputId": "fcabb6fa-9aa0-4672-9003-883569a4f1ae"
      },
      "execution_count": 4,
      "outputs": [
        {
          "output_type": "display_data",
          "data": {
            "text/plain": [
              "<IPython.core.display.HTML object>"
            ],
            "text/html": [
              "\n",
              "            <style>\n",
              "                .geemap-dark {\n",
              "                    --jp-widgets-color: white;\n",
              "                    --jp-widgets-label-color: white;\n",
              "                    --jp-ui-font-color1: white;\n",
              "                    --jp-layout-color2: #454545;\n",
              "                    background-color: #383838;\n",
              "                }\n",
              "\n",
              "                .geemap-dark .jupyter-button {\n",
              "                    --jp-layout-color3: #383838;\n",
              "                }\n",
              "\n",
              "                .geemap-colab {\n",
              "                    background-color: var(--colab-primary-surface-color, white);\n",
              "                }\n",
              "\n",
              "                .geemap-colab .jupyter-button {\n",
              "                    --jp-layout-color3: var(--colab-primary-surface-color, white);\n",
              "                }\n",
              "            </style>\n",
              "            "
            ]
          },
          "metadata": {}
        },
        {
          "output_type": "stream",
          "name": "stdout",
          "text": [
            "Mounted at /content/drive\n"
          ]
        }
      ]
    },
    {
      "cell_type": "code",
      "source": [
        "# The file path on google drive for ROI output vector file.\n",
        "vec_tiles_file = \"/content/drive/MyDrive/mangrove_chng_cls/cls_tiles.geojson\"\n",
        "\n",
        "# Start and End date\n",
        "start_date = datetime.datetime(year=2020, month=1, day=1)\n",
        "end_date = datetime.datetime(year=2020, month=12, day=31)\n",
        "\n",
        "# Output no data value\n",
        "no_data_val = 0.0\n",
        "\n",
        "# Define the output directory on gdrive\n",
        "out_gdrive_dir = \"mangrove_chng_indices_cls_tiles\""
      ],
      "metadata": {
        "id": "RBcP0BV58BZz",
        "colab": {
          "base_uri": "https://localhost:8080/",
          "height": 17
        },
        "outputId": "75616a41-2c53-4dbe-d9f0-371db014efd2"
      },
      "execution_count": 9,
      "outputs": [
        {
          "output_type": "display_data",
          "data": {
            "text/plain": [
              "<IPython.core.display.HTML object>"
            ],
            "text/html": [
              "\n",
              "            <style>\n",
              "                .geemap-dark {\n",
              "                    --jp-widgets-color: white;\n",
              "                    --jp-widgets-label-color: white;\n",
              "                    --jp-ui-font-color1: white;\n",
              "                    --jp-layout-color2: #454545;\n",
              "                    background-color: #383838;\n",
              "                }\n",
              "\n",
              "                .geemap-dark .jupyter-button {\n",
              "                    --jp-layout-color3: #383838;\n",
              "                }\n",
              "\n",
              "                .geemap-colab {\n",
              "                    background-color: var(--colab-primary-surface-color, white);\n",
              "                }\n",
              "\n",
              "                .geemap-colab .jupyter-button {\n",
              "                    --jp-layout-color3: var(--colab-primary-surface-color, white);\n",
              "                }\n",
              "            </style>\n",
              "            "
            ]
          },
          "metadata": {}
        }
      ]
    },
    {
      "cell_type": "code",
      "source": [
        "# A function which will be used to calculate a number of image band indices\n",
        "# for each input image.\n",
        "def calc_band_indices(img):\n",
        "    img = img.multiply(.0001).float()\n",
        "    ndvi = img.normalizedDifference([\"B8\", \"B4\"]).rename(\"NDVI\")\n",
        "    ndwi = img.normalizedDifference([\"B8\", \"B11\"]).rename(\"NDWI\")\n",
        "    nbr = img.normalizedDifference([\"B8\", \"B12\"]).rename(\"NBR\")\n",
        "    evi = img.expression(\n",
        "      '2.5 * ((NIR - RED) / (NIR + 6 * RED - 7.5 * BLUE + 1))',\n",
        "      {\n",
        "          'NIR': img.select('B8'),\n",
        "          'RED': img.select('B4'),\n",
        "          'BLUE': img.select('B2'),\n",
        "      },\n",
        "    ).rename(['EVI'])\n",
        "    mvi = img.expression(\n",
        "      '((NIR - GREEN) / (SWIR - GREEN))',\n",
        "      {\n",
        "          'NIR': img.select('B8'),\n",
        "          'SWIR': img.select('B11'),\n",
        "          'GREEN': img.select('B3'),\n",
        "      },\n",
        "    ).rename(['MVI'])\n",
        "    remi = img.expression(\n",
        "      '((REDEDGE - RED) / (SWIR + GREEN))',\n",
        "      {\n",
        "          'REDEDGE': img.select('B6'),\n",
        "          'RED': img.select('B4'),\n",
        "          'SWIR': img.select('B11'),\n",
        "          'GREEN': img.select('B3'),\n",
        "      },\n",
        "    ).rename(['REMI'])\n",
        "    return img.addBands([ndvi, ndwi, nbr, evi, mvi, remi])"
      ],
      "metadata": {
        "id": "e1MKIL7r1ihT"
      },
      "execution_count": null,
      "outputs": []
    },
    {
      "cell_type": "code",
      "source": [
        "# Create an Image Collection of valid pixel masks\n",
        "# for each of the Sentinel-2 images\n",
        "def calc_vld_msk(img):\n",
        "  return img.select('B8').gt(0).rename('VLD_MSK')"
      ],
      "metadata": {
        "colab": {
          "base_uri": "https://localhost:8080/",
          "height": 17
        },
        "id": "awGNQUv43M5V",
        "outputId": "8b1adaa1-8807-41eb-f871-a899920dd6ec"
      },
      "execution_count": 7,
      "outputs": [
        {
          "output_type": "display_data",
          "data": {
            "text/plain": [
              "<IPython.core.display.HTML object>"
            ],
            "text/html": [
              "\n",
              "            <style>\n",
              "                .geemap-dark {\n",
              "                    --jp-widgets-color: white;\n",
              "                    --jp-widgets-label-color: white;\n",
              "                    --jp-ui-font-color1: white;\n",
              "                    --jp-layout-color2: #454545;\n",
              "                    background-color: #383838;\n",
              "                }\n",
              "\n",
              "                .geemap-dark .jupyter-button {\n",
              "                    --jp-layout-color3: #383838;\n",
              "                }\n",
              "\n",
              "                .geemap-colab {\n",
              "                    background-color: var(--colab-primary-surface-color, white);\n",
              "                }\n",
              "\n",
              "                .geemap-colab .jupyter-button {\n",
              "                    --jp-layout-color3: var(--colab-primary-surface-color, white);\n",
              "                }\n",
              "            </style>\n",
              "            "
            ]
          },
          "metadata": {}
        }
      ]
    },
    {
      "cell_type": "code",
      "source": [
        "# Load the classifier from asset\n",
        "cls_mdl_asset_id = f'projects/{ee_prj_name}/assets/mng_test_rf_cls'\n",
        "rf_cls_mdl = ee.Classifier.load(cls_mdl_asset_id)\n",
        "\n",
        "# Apply the classifers to each of the input images.\n",
        "# Mask the classification results so a binary mask\n",
        "# mangroves (1), non-mangroves (0) is product for\n",
        "# each Sentinel-2 image.\n",
        "def apply_cls(img):\n",
        "    out_cls = img.classify(rf_cls_mdl)\n",
        "    mng_msk_img = out_cls.eq(1).mask(out_cls.eq(1)).rename(\"Mangroves\")\n",
        "    return mng_msk_img"
      ],
      "metadata": {
        "id": "DV3rOc8oj-NE",
        "colab": {
          "base_uri": "https://localhost:8080/",
          "height": 17
        },
        "outputId": "bdece65d-cf70-434a-90e4-ddde52b411fd"
      },
      "execution_count": 6,
      "outputs": [
        {
          "output_type": "display_data",
          "data": {
            "text/plain": [
              "<IPython.core.display.HTML object>"
            ],
            "text/html": [
              "\n",
              "            <style>\n",
              "                .geemap-dark {\n",
              "                    --jp-widgets-color: white;\n",
              "                    --jp-widgets-label-color: white;\n",
              "                    --jp-ui-font-color1: white;\n",
              "                    --jp-layout-color2: #454545;\n",
              "                    background-color: #383838;\n",
              "                }\n",
              "\n",
              "                .geemap-dark .jupyter-button {\n",
              "                    --jp-layout-color3: #383838;\n",
              "                }\n",
              "\n",
              "                .geemap-colab {\n",
              "                    background-color: var(--colab-primary-surface-color, white);\n",
              "                }\n",
              "\n",
              "                .geemap-colab .jupyter-button {\n",
              "                    --jp-layout-color3: var(--colab-primary-surface-color, white);\n",
              "                }\n",
              "            </style>\n",
              "            "
            ]
          },
          "metadata": {}
        }
      ]
    },
    {
      "cell_type": "code",
      "source": [
        "# Import the elevation dataset.\n",
        "dem_img = ee.ImageCollection('COPERNICUS/DEM/GLO30').select([\"DEM\"]).mean()\n",
        "\n",
        "# Create an elevation mask where mangroves are found below an\n",
        "# elevation of 35 m.\n",
        "mng_elev_msk = dem_img.lt(35).toInt().rename(\"Elev_Mask\")\n",
        "mng_elev_msk = mng_elev_msk.updateMask(mng_elev_msk)"
      ],
      "metadata": {
        "colab": {
          "base_uri": "https://localhost:8080/",
          "height": 17
        },
        "id": "V90hXBci4FZj",
        "outputId": "a744fe99-5d35-4e0b-f764-546827180b52"
      },
      "execution_count": 8,
      "outputs": [
        {
          "output_type": "display_data",
          "data": {
            "text/plain": [
              "<IPython.core.display.HTML object>"
            ],
            "text/html": [
              "\n",
              "            <style>\n",
              "                .geemap-dark {\n",
              "                    --jp-widgets-color: white;\n",
              "                    --jp-widgets-label-color: white;\n",
              "                    --jp-ui-font-color1: white;\n",
              "                    --jp-layout-color2: #454545;\n",
              "                    background-color: #383838;\n",
              "                }\n",
              "\n",
              "                .geemap-dark .jupyter-button {\n",
              "                    --jp-layout-color3: #383838;\n",
              "                }\n",
              "\n",
              "                .geemap-colab {\n",
              "                    background-color: var(--colab-primary-surface-color, white);\n",
              "                }\n",
              "\n",
              "                .geemap-colab .jupyter-button {\n",
              "                    --jp-layout-color3: var(--colab-primary-surface-color, white);\n",
              "                }\n",
              "            </style>\n",
              "            "
            ]
          },
          "metadata": {}
        }
      ]
    },
    {
      "cell_type": "code",
      "source": [
        "# Read the vector layer and make sure it is project using WGS84 (EPSG:4326)\n",
        "vec_cls_roi_gdf = geopandas.read_file(vec_tiles_file).to_crs(4326)\n",
        "\n",
        "vec_cls_roi_gdf.head()"
      ],
      "metadata": {
        "id": "DxiHOLF08Bk_"
      },
      "execution_count": null,
      "outputs": []
    },
    {
      "cell_type": "code",
      "source": [
        "# Get the list of tile names from the input vector\n",
        "tile_names = vec_cls_roi_gdf[\"tile_names\"]\n",
        "# Loop through the tiles.\n",
        "for tile_name in tile_names:\n",
        "  print(tile_name)\n",
        "  # Subset the input vector to just the tile geometry\n",
        "  vec_tile_gdf = vec_cls_roi_gdf[vec_cls_roi_gdf[\"tile_names\"] == tile_name]\n",
        "\n",
        "  # Get layer bbox: minx, miny, maxx, maxy\n",
        "  gp_roi_bbox = vec_tile_gdf.total_bounds\n",
        "\n",
        "  # Create the GEE geometry from the bbox.\n",
        "  roi_cls_west = gp_roi_bbox[0]\n",
        "  roi_cls_east = gp_roi_bbox[2]\n",
        "  roi_cls_north = gp_roi_bbox[3]\n",
        "  roi_cls_south = gp_roi_bbox[1]\n",
        "  cls_tile_aoi = ee.Geometry.BBox(roi_cls_west, roi_cls_south, roi_cls_east, roi_cls_north)\n",
        "\n",
        "  # Load the Sentinel-2 imagery.\n",
        "  s2_img_col = pb_gee_tools.datasets.get_sen2_sr_collection(\n",
        "      aoi=cls_tile_aoi,\n",
        "      start_date=start_date,\n",
        "      end_date=end_date,\n",
        "      cloud_thres = 70,\n",
        "  )\n",
        "\n",
        "  # Calculate the valid image mask.\n",
        "  s2_vld_msk_img_col = s2_img_col.map(calc_vld_msk)\n",
        "\n",
        "  # Map the input images to calculate the indices for\n",
        "  # each the input images.\n",
        "  s2_indices_img_col = s2_img_col.map(calc_band_indices)\n",
        "\n",
        "  # Get the list of image bands.\n",
        "  img_bands = s2_indices_img_col.first().bandNames()\n",
        "\n",
        "  # Classify the individual scenes\n",
        "  cls_mng_imgs = s2_indices_img_col.map(apply_cls)\n",
        "\n",
        "  # Sum the number of times the classifier classified a pixel\n",
        "  # as mangroves.\n",
        "  cls_mng_img = cls_mng_imgs.reduce(ee.Reducer.sum())\n",
        "  # Sum the number of valid Sentinel-2 observations.\n",
        "  vld_msk_img = s2_vld_msk_img_col.reduce(ee.Reducer.sum())\n",
        "\n",
        "  # Calculate the percentage of observations each pixel\n",
        "  # was identified as mangroves.\n",
        "  mng_cls_percent = cls_mng_img.divide(vld_msk_img).multiply(100)\n",
        "\n",
        "  # Threshold the percentage of mangrove observations\n",
        "  # so to be mangroves over 50% of the observations\n",
        "  # were classified as mangroves.\n",
        "  mng_cls_img = mng_cls_percent.gt(50).toInt().rename(\"Mangroves\")\n",
        "\n",
        "  # Apply the elevation mask to the mangrove mask.\n",
        "  mng_cls_img = mng_cls_img.mask(mng_elev_msk)\n",
        "  mng_cls_img = mng_cls_img.mask(mng_cls_img)\n",
        "\n",
        "  # Define the output file name\n",
        "  out_cls_img_file = f\"{tile_name}_asset_mdl_cls\"\n",
        "\n",
        "  # Export the classification image to your Google Drive\n",
        "  task = ee.batch.Export.image.toDrive(\n",
        "          image=mng_cls_img,\n",
        "          description=out_cls_img_file,\n",
        "          folder=out_gdrive_dir,\n",
        "          scale=10,\n",
        "          region=cls_tile_aoi,\n",
        "          fileFormat=\"GeoTIFF\",\n",
        "          formatOptions={\"cloudOptimized\": True, 'noData': 0},\n",
        "  )\n",
        "  task.start()\n"
      ],
      "metadata": {
        "id": "NXj89cawjJ7i"
      },
      "execution_count": null,
      "outputs": []
    }
  ]
}