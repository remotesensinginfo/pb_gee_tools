{
  "nbformat": 4,
  "nbformat_minor": 0,
  "metadata": {
    "colab": {
      "provenance": [],
      "include_colab_link": true
    },
    "kernelspec": {
      "name": "python3",
      "display_name": "Python 3"
    },
    "language_info": {
      "name": "python"
    }
  },
  "cells": [
    {
      "cell_type": "markdown",
      "metadata": {
        "id": "view-in-github",
        "colab_type": "text"
      },
      "source": [
        "<a href=\"https://colab.research.google.com/github/remotesensinginfo/pb_gee_tools/blob/main/examples/applications/mangrove_class/05_Mangrove_Train_Class_as_Asset.ipynb\" target=\"_parent\"><img src=\"https://colab.research.google.com/assets/colab-badge.svg\" alt=\"Open In Colab\"/></a>"
      ]
    },
    {
      "cell_type": "code",
      "execution_count": null,
      "metadata": {
        "id": "3HVYHfa17v2a"
      },
      "outputs": [],
      "source": [
        "# The Google Earth Engine module\n",
        "import ee\n",
        "\n",
        "# The datetime module is used to specify the dates\n",
        "# to search for imagery\n",
        "import datetime\n",
        "\n",
        "# Import the geemap (https://geemap.org/) module which\n",
        "# has a visualisation tool\n",
        "import geemap\n",
        "\n",
        "# Geopandas allows us to read the shapefile used to\n",
        "# define the region of interest (ROI)\n",
        "import geopandas\n",
        "\n",
        "# The colab module to access data from your google drive\n",
        "from google.colab import drive"
      ]
    },
    {
      "cell_type": "code",
      "source": [
        "try:\n",
        "  import pb_gee_tools\n",
        "  import pb_gee_tools.datasets\n",
        "  import pb_gee_tools.convert_types\n",
        "except:\n",
        "  !git clone https://github.com/remotesensinginfo/pb_gee_tools.git\n",
        "  !pip install ./pb_gee_tools/.\n",
        "  import pb_gee_tools\n",
        "  import pb_gee_tools.datasets\n",
        "  import pb_gee_tools.convert_types"
      ],
      "metadata": {
        "id": "FJu5EY_Y8BRd"
      },
      "execution_count": null,
      "outputs": []
    },
    {
      "cell_type": "code",
      "source": [
        "ee_prj_name = \"ee-pb-dev\"  # <==== Replace this with your own EE project string\n",
        "ee.Authenticate()\n",
        "ee.Initialize(project=ee_prj_name)"
      ],
      "metadata": {
        "id": "3jX-JASI8BUV"
      },
      "execution_count": null,
      "outputs": []
    },
    {
      "cell_type": "code",
      "source": [
        "drive.mount(\"/content/drive\")"
      ],
      "metadata": {
        "id": "HWIe6Pqy8BXB"
      },
      "execution_count": null,
      "outputs": []
    },
    {
      "cell_type": "code",
      "source": [
        "# The file path on google drive for ROI output vector file.\n",
        "vec_cls_roi_file = \"/content/drive/MyDrive/mangrove_chng_cls/roi_poly.geojson\"\n",
        "\n",
        "# Start and End date\n",
        "start_date = datetime.datetime(year=2020, month=1, day=1)\n",
        "end_date = datetime.datetime(year=2020, month=12, day=31)\n",
        "\n",
        "# Output no data value\n",
        "no_data_val = 0.0"
      ],
      "metadata": {
        "id": "RBcP0BV58BZz"
      },
      "execution_count": null,
      "outputs": []
    },
    {
      "cell_type": "code",
      "source": [
        "# Specify the paths to the vector files with the training points for each of\n",
        "# classes. Note these files include samples for a larger areas than defined\n",
        "# in the roi file.\n",
        "vec_mng_smpls_file = '/content/drive/MyDrive/mangrove_chng_cls/mng_smpls.geojson'\n",
        "vec_wtr_smpls_file = '/content/drive/MyDrive/mangrove_chng_cls/wtr_smpls.geojson'\n",
        "vec_oth_smpls_file = '/content/drive/MyDrive/mangrove_chng_cls/oth_smpls.geojson'"
      ],
      "metadata": {
        "id": "dy9Mb6UQ8Bcn"
      },
      "execution_count": null,
      "outputs": []
    },
    {
      "cell_type": "code",
      "source": [
        "# The following function calls convert the training sample points to GEE\n",
        "# point geometries. In addition, the points a clipped to the ROI for the\n",
        "# region being classified and subsampled to reduce the number of points\n",
        "# used to train the classifier as this reduced the memory footprint of\n",
        "# the notebook which is limited.\n",
        "gee_mng_pts = pb_gee_tools.convert_types.get_gee_pts(vec_mng_smpls_file, rnd_smpl = 2500, rnd_seed = 42, vec_roi_file=vec_cls_roi_file)\n",
        "gee_wtr_pts = pb_gee_tools.convert_types.get_gee_pts(vec_wtr_smpls_file, rnd_smpl = 2500, rnd_seed = 42, vec_roi_file=vec_cls_roi_file)\n",
        "gee_oth_pts = pb_gee_tools.convert_types.get_gee_pts(vec_oth_smpls_file, rnd_smpl = 2500, rnd_seed = 42, vec_roi_file=vec_cls_roi_file)\n"
      ],
      "metadata": {
        "id": "71uetDha8BfZ"
      },
      "execution_count": null,
      "outputs": []
    },
    {
      "cell_type": "code",
      "source": [
        "# Merge the training samples into a single Feature Collection with a variable\n",
        "# for the ID of each class.\n",
        "train_smpls = ee.FeatureCollection([\n",
        "    ee.Feature(gee_mng_pts, {'class': 1}),\n",
        "    ee.Feature(gee_wtr_pts, {'class': 2}),\n",
        "    ee.Feature(gee_oth_pts, {'class': 3}),\n",
        "])"
      ],
      "metadata": {
        "id": "-9nNaUZR8BiO"
      },
      "execution_count": null,
      "outputs": []
    },
    {
      "cell_type": "code",
      "source": [
        "# Get the vector polygon from the vector file as a Google Earth Polygon\n",
        "roi_gee_poly = pb_gee_tools.convert_types.convert_vector_to_gee_polygon(vec_cls_roi_file)"
      ],
      "metadata": {
        "id": "DxiHOLF08Bk_"
      },
      "execution_count": null,
      "outputs": []
    },
    {
      "cell_type": "code",
      "source": [
        "# Load the Sentinel-2 imagery.\n",
        "s2_img_col = pb_gee_tools.datasets.get_sen2_sr_collection(\n",
        "    aoi=roi_gee_poly,\n",
        "    start_date=start_date,\n",
        "    end_date=end_date,\n",
        "    cloud_thres = 70,\n",
        ")\n",
        "\n",
        "# Create a median composite clipped to the ROI.\n",
        "s2_med_image = s2_img_col.median().clip(roi_gee_poly).unmask(no_data_val)"
      ],
      "metadata": {
        "id": "7HKqfw2s8Bn1"
      },
      "execution_count": null,
      "outputs": []
    },
    {
      "cell_type": "code",
      "source": [
        "map_obj = geemap.Map()\n",
        "\n",
        "# Define a centre point for the map to start at.\n",
        "cls_cnt_pt_x = 93.89789\n",
        "cls_cnt_pt_y = 19.30903\n",
        "cls_cnt_pt = ee.Geometry.Point([cls_cnt_pt_x, cls_cnt_pt_y])\n",
        "\n",
        "# Specify the centre point and scale of the map\n",
        "map_obj.centerObject(cls_cnt_pt, 12)\n",
        "\n",
        "# Add Google Maps Basemap\n",
        "gg_maps_url = \"https://mt1.google.com/vt/lyrs=m&x={x}&y={y}&z={z}\"\n",
        "map_obj.add_tile_layer(gg_maps_url, name=\"Google Maps\", attribution=\"Google\")\n",
        "\n",
        "# Add Google Satellite Imagery Basemap\n",
        "gg_img_url = \"http://www.google.cn/maps/vt?lyrs=s@189&gl=cn&x={x}&y={y}&z={z}\"\n",
        "map_obj.add_tile_layer(gg_img_url, name=\"Google Imagery\", attribution=\"Google\")\n",
        "\n",
        "# Specify the visualisation options.\n",
        "vis_params = {\"min\": [150, 100, 187], \"max\": [4136, 4000, 2712], \"bands\": [\"B8\", \"B11\", \"B4\"]}\n",
        "\n",
        "# Add the Sentinel-2 Composite\n",
        "map_obj.addLayer(s2_med_image, vis_params, \"Sentinel-2\")\n",
        "\n",
        "map_obj"
      ],
      "metadata": {
        "id": "Byb5At3b8Bqj"
      },
      "execution_count": null,
      "outputs": []
    },
    {
      "cell_type": "code",
      "source": [
        "# Get the list of image bands.\n",
        "img_bands = s2_med_image.bandNames()\n",
        "img_bands"
      ],
      "metadata": {
        "id": "smf_6pJB8BtV"
      },
      "execution_count": null,
      "outputs": []
    },
    {
      "cell_type": "code",
      "source": [
        "# Extract the training samples fromt the input imagery.\n",
        "train_data = s2_med_image.select(img_bands).sampleRegions(\n",
        "    collection=train_smpls, properties=[\"class\"], scale=10\n",
        ")"
      ],
      "metadata": {
        "id": "hUUCNYxF8BwK"
      },
      "execution_count": null,
      "outputs": []
    },
    {
      "cell_type": "code",
      "source": [
        "# Train the classifier\n",
        "rf_cls_mdl = ee.Classifier.smileRandomForest(numberOfTrees=100).train(train_data, \"class\", img_bands)\n"
      ],
      "metadata": {
        "id": "fKXS6zfQ8By7"
      },
      "execution_count": null,
      "outputs": []
    },
    {
      "cell_type": "code",
      "source": [
        "# Save the classifier as an asset in your Google Earth Engine account\n",
        "asset_id = f'projects/{ee_prj_name}/assets/mng_test_rf_cls'\n",
        "task = ee.batch.Export.classifier.toAsset(\n",
        "  classifier=rf_cls_mdl,\n",
        "  description=f'mng_test_rf_cls',\n",
        "  assetId=asset_id\n",
        ")\n",
        "task.start()"
      ],
      "metadata": {
        "id": "cdSeRAxx-Dn3"
      },
      "execution_count": null,
      "outputs": []
    },
    {
      "cell_type": "code",
      "source": [],
      "metadata": {
        "id": "xWGH_zcz-Dql"
      },
      "execution_count": null,
      "outputs": []
    }
  ]
}