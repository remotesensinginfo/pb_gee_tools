{
  "nbformat": 4,
  "nbformat_minor": 0,
  "metadata": {
    "colab": {
      "provenance": [],
      "include_colab_link": true
    },
    "kernelspec": {
      "name": "python3",
      "display_name": "Python 3"
    },
    "language_info": {
      "name": "python"
    }
  },
  "cells": [
    {
      "cell_type": "markdown",
      "metadata": {
        "id": "view-in-github",
        "colab_type": "text"
      },
      "source": [
        "<a href=\"https://colab.research.google.com/github/remotesensinginfo/pb_gee_tools/blob/main/examples/applications/mangrove_class/07_Mangrove_Apply_Asset_Class_to_Tiles.ipynb\" target=\"_parent\"><img src=\"https://colab.research.google.com/assets/colab-badge.svg\" alt=\"Open In Colab\"/></a>"
      ]
    },
    {
      "cell_type": "code",
      "execution_count": null,
      "metadata": {
        "id": "3HVYHfa17v2a"
      },
      "outputs": [],
      "source": [
        "# The Google Earth Engine module\n",
        "import ee\n",
        "\n",
        "# The datetime module is used to specify the dates\n",
        "# to search for imagery\n",
        "import datetime\n",
        "\n",
        "# Import the geemap (https://geemap.org/) module which\n",
        "# has a visualisation tool\n",
        "import geemap\n",
        "\n",
        "# Geopandas allows us to read the shapefile used to\n",
        "# define the region of interest (ROI)\n",
        "import geopandas\n",
        "\n",
        "# The colab module to access data from your google drive\n",
        "from google.colab import drive"
      ]
    },
    {
      "cell_type": "code",
      "source": [
        "try:\n",
        "  import pb_gee_tools\n",
        "  import pb_gee_tools.datasets\n",
        "  import pb_gee_tools.convert_types\n",
        "except:\n",
        "  !git clone https://github.com/remotesensinginfo/pb_gee_tools.git\n",
        "  !pip install ./pb_gee_tools/.\n",
        "  import pb_gee_tools\n",
        "  import pb_gee_tools.datasets\n",
        "  import pb_gee_tools.convert_types"
      ],
      "metadata": {
        "id": "FJu5EY_Y8BRd"
      },
      "execution_count": null,
      "outputs": []
    },
    {
      "cell_type": "code",
      "source": [
        "ee_prj_name = \"ee-pb-dev\"  # <==== Replace this with your own EE project string\n",
        "ee.Authenticate()\n",
        "ee.Initialize(project=ee_prj_name)"
      ],
      "metadata": {
        "id": "3jX-JASI8BUV"
      },
      "execution_count": null,
      "outputs": []
    },
    {
      "cell_type": "code",
      "source": [
        "drive.mount(\"/content/drive\")"
      ],
      "metadata": {
        "id": "HWIe6Pqy8BXB"
      },
      "execution_count": null,
      "outputs": []
    },
    {
      "cell_type": "code",
      "source": [
        "# The file path on google drive for ROI output vector file.\n",
        "vec_tiles_file = \"/content/drive/MyDrive/mangrove_chng_cls/cls_tiles.geojson\"\n",
        "\n",
        "# Start and End date\n",
        "start_date = datetime.datetime(year=2020, month=1, day=1)\n",
        "end_date = datetime.datetime(year=2020, month=12, day=31)\n",
        "\n",
        "# Output no data value\n",
        "no_data_val = 0.0\n",
        "\n",
        "# Define the output directory on gdrive\n",
        "out_gdrive_dir = \"mangrove_chng_cls_tiles\""
      ],
      "metadata": {
        "id": "RBcP0BV58BZz"
      },
      "execution_count": null,
      "outputs": []
    },
    {
      "cell_type": "code",
      "source": [
        "# Load the classifier from asset\n",
        "cls_mdl_asset_id = f'projects/{ee_prj_name}/assets/mng_test_rf_cls'\n",
        "rf_cls_mdl = ee.Classifier.load(cls_mdl_asset_id)"
      ],
      "metadata": {
        "id": "DV3rOc8oj-NE"
      },
      "execution_count": null,
      "outputs": []
    },
    {
      "cell_type": "code",
      "source": [
        "# Read the vector layer and make sure it is project using WGS84 (EPSG:4326)\n",
        "vec_cls_roi_gdf = geopandas.read_file(vec_tiles_file).to_crs(4326)\n",
        "\n",
        "vec_cls_roi_gdf.head()"
      ],
      "metadata": {
        "id": "DxiHOLF08Bk_"
      },
      "execution_count": null,
      "outputs": []
    },
    {
      "cell_type": "code",
      "source": [
        "# Get the list of tile names from the input vector\n",
        "tile_names = vec_cls_roi_gdf[\"tile_names\"]\n",
        "# Loop through the tiles.\n",
        "for tile_name in tile_names:\n",
        "  print(tile_name)\n",
        "  # Subset the input vector to just the tile geometry\n",
        "  vec_tile_gdf = vec_cls_roi_gdf[vec_cls_roi_gdf[\"tile_names\"] == tile_name]\n",
        "\n",
        "  # Get layer bbox: minx, miny, maxx, maxy\n",
        "  gp_roi_bbox = vec_tile_gdf.total_bounds\n",
        "\n",
        "  # Create the GEE geometry from the bbox.\n",
        "  roi_cls_west = gp_roi_bbox[0]\n",
        "  roi_cls_east = gp_roi_bbox[2]\n",
        "  roi_cls_north = gp_roi_bbox[3]\n",
        "  roi_cls_south = gp_roi_bbox[1]\n",
        "  cls_tile_aoi = ee.Geometry.BBox(roi_cls_west, roi_cls_south, roi_cls_east, roi_cls_north)\n",
        "\n",
        "  # Load the Sentinel-2 imagery.\n",
        "  s2_img_col = pb_gee_tools.datasets.get_sen2_sr_collection(\n",
        "      aoi=cls_tile_aoi,\n",
        "      start_date=start_date,\n",
        "      end_date=end_date,\n",
        "      cloud_thres = 70,\n",
        "  )\n",
        "\n",
        "  # Create a median composite clipped to the ROI.\n",
        "  s2_med_image = s2_img_col.median().clip(cls_tile_aoi).unmask(no_data_val)\n",
        "\n",
        "  # Get the list of image bands.\n",
        "  img_bands = s2_med_image.bandNames()\n",
        "\n",
        "  # Apply the Classification.\n",
        "  cls_rslts_img = s2_med_image.classify(rf_cls_mdl)\n",
        "\n",
        "  # Define the output file name\n",
        "  out_cls_img_file = f\"{tile_name}_asset_mdl_cls\"\n",
        "\n",
        "  # Export the classification image to your Google Drive\n",
        "  task = ee.batch.Export.image.toDrive(\n",
        "          image=cls_rslts_img,\n",
        "          description=out_cls_img_file,\n",
        "          folder=out_gdrive_dir,\n",
        "          scale=10,\n",
        "          region=cls_tile_aoi,\n",
        "          fileFormat=\"GeoTIFF\",\n",
        "          formatOptions={\"cloudOptimized\": True, 'noData': 0},\n",
        "  )\n",
        "  task.start()\n",
        ""
      ],
      "metadata": {
        "id": "NXj89cawjJ7i"
      },
      "execution_count": null,
      "outputs": []
    }
  ]
}