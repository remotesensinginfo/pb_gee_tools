{
  "nbformat": 4,
  "nbformat_minor": 0,
  "metadata": {
    "colab": {
      "provenance": [],
      "include_colab_link": true
    },
    "kernelspec": {
      "name": "python3",
      "display_name": "Python 3"
    },
    "language_info": {
      "name": "python"
    }
  },
  "cells": [
    {
      "cell_type": "markdown",
      "metadata": {
        "id": "view-in-github",
        "colab_type": "text"
      },
      "source": [
        "<a href=\"https://colab.research.google.com/github/remotesensinginfo/pb_gee_tools/blob/main/examples/applications/mangrove_class/03_Mangrove_Class_Percentiles_DEM.ipynb\" target=\"_parent\"><img src=\"https://colab.research.google.com/assets/colab-badge.svg\" alt=\"Open In Colab\"/></a>"
      ]
    },
    {
      "cell_type": "code",
      "execution_count": null,
      "metadata": {
        "id": "yMF199p7ivTQ"
      },
      "outputs": [],
      "source": [
        "# The Google Earth Engine module\n",
        "import ee\n",
        "\n",
        "# The datetime module is used to specify the dates\n",
        "# to search for imagery\n",
        "import datetime\n",
        "\n",
        "# Import the geemap (https://geemap.org/) module which\n",
        "# has a visualisation tool\n",
        "import geemap\n",
        "\n",
        "# Geopandas allows us to read the shapefile used to\n",
        "# define the region of interest (ROI)\n",
        "import geopandas\n",
        "\n",
        "# The colab module to access data from your google drive\n",
        "from google.colab import drive"
      ]
    },
    {
      "cell_type": "code",
      "source": [
        "try:\n",
        "  import pb_gee_tools\n",
        "  import pb_gee_tools.datasets\n",
        "  import pb_gee_tools.convert_types\n",
        "except:\n",
        "  !git clone https://github.com/remotesensinginfo/pb_gee_tools.git\n",
        "  !pip install ./pb_gee_tools/.\n",
        "  import pb_gee_tools\n",
        "  import pb_gee_tools.datasets\n",
        "  import pb_gee_tools.convert_types"
      ],
      "metadata": {
        "id": "saivkCXSi_-v"
      },
      "execution_count": null,
      "outputs": []
    },
    {
      "cell_type": "code",
      "source": [
        "ee_prj_name = \"ee-pb-dev\"  # <==== Replace this with your own EE project string\n",
        "ee.Authenticate()\n",
        "ee.Initialize(project=ee_prj_name)"
      ],
      "metadata": {
        "id": "I46H5SBbkBKQ"
      },
      "execution_count": null,
      "outputs": []
    },
    {
      "cell_type": "code",
      "source": [
        "drive.mount(\"/content/drive\")"
      ],
      "metadata": {
        "id": "SvKc4WGvkG_Y"
      },
      "execution_count": null,
      "outputs": []
    },
    {
      "cell_type": "code",
      "source": [
        "# The file path on google drive for ROI output vector file.\n",
        "vec_cls_roi_file = \"/content/drive/MyDrive/mangrove_chng_cls/n0940e0190_tile.geojson\"\n",
        "\n",
        "# Start and End date\n",
        "start_date = datetime.datetime(year=2020, month=1, day=1)\n",
        "end_date = datetime.datetime(year=2020, month=12, day=31)\n",
        "\n",
        "# Output no data value\n",
        "no_data_val = 0.0\n"
      ],
      "metadata": {
        "id": "jM8yZL2jkHB8"
      },
      "execution_count": null,
      "outputs": []
    },
    {
      "cell_type": "code",
      "source": [
        "# Specify the paths to the vector files with the training points for each of\n",
        "# classes. Note these files include samples for a larger areas than defined\n",
        "# in the roi file.\n",
        "vec_mng_smpls_file = '/content/drive/MyDrive/mangrove_chng_cls/mng_smpls.geojson'\n",
        "vec_wtr_smpls_file = '/content/drive/MyDrive/mangrove_chng_cls/wtr_smpls.geojson'\n",
        "vec_oth_smpls_file = '/content/drive/MyDrive/mangrove_chng_cls/oth_smpls.geojson'"
      ],
      "metadata": {
        "id": "BdAg7phmkHEr"
      },
      "execution_count": null,
      "outputs": []
    },
    {
      "cell_type": "code",
      "source": [
        "# The following function calls convert the training sample points to GEE\n",
        "# point geometries. In addition, the points a clipped to the ROI for the\n",
        "# region being classified and subsampled to reduce the number of points\n",
        "# used to train the classifier as this reduced the memory footprint of\n",
        "# the notebook which is limited.\n",
        "gee_mng_pts = pb_gee_tools.convert_types.get_gee_pts(vec_mng_smpls_file, rnd_smpl = 50, rnd_seed = 42, vec_roi_file=vec_cls_roi_file)\n",
        "gee_wtr_pts = pb_gee_tools.convert_types.get_gee_pts(vec_wtr_smpls_file, rnd_smpl = 50, rnd_seed = 42, vec_roi_file=vec_cls_roi_file)\n",
        "gee_oth_pts = pb_gee_tools.convert_types.get_gee_pts(vec_oth_smpls_file, rnd_smpl = 50, rnd_seed = 42, vec_roi_file=vec_cls_roi_file)"
      ],
      "metadata": {
        "id": "iQgmFbv6kHHl"
      },
      "execution_count": null,
      "outputs": []
    },
    {
      "cell_type": "code",
      "source": [
        "# Merge the training samples into a single Feature Collection with a variable\n",
        "# for the ID of each class.\n",
        "train_smpls = ee.FeatureCollection([\n",
        "    ee.Feature(gee_mng_pts, {'class': 1}),\n",
        "    ee.Feature(gee_wtr_pts, {'class': 2}),\n",
        "    ee.Feature(gee_oth_pts, {'class': 3}),\n",
        "])"
      ],
      "metadata": {
        "id": "5YYO28jRkHKU"
      },
      "execution_count": null,
      "outputs": []
    },
    {
      "cell_type": "code",
      "source": [
        "# Read the vector layer and make sure it is project using WGS84 (EPSG:4326)\n",
        "vec_cls_roi_gdf = geopandas.read_file(vec_cls_roi_file).to_crs(4326)\n",
        "\n",
        "# Get layer bbox: minx, miny, maxx, maxy\n",
        "gp_cls_roi_bbox = vec_cls_roi_gdf.total_bounds\n",
        "\n",
        "# Create the GEE geometry from the bbox.\n",
        "roi_cls_west = gp_cls_roi_bbox[0]\n",
        "roi_cls_east = gp_cls_roi_bbox[2]\n",
        "roi_cls_north = gp_cls_roi_bbox[3]\n",
        "roi_cls_south = gp_cls_roi_bbox[1]\n",
        "cls_tile_aoi = ee.Geometry.BBox(roi_cls_west, roi_cls_south, roi_cls_east, roi_cls_north)\n",
        "\n",
        "cls_cnt_pt_x = roi_cls_west + (roi_cls_east - roi_cls_west) / 2\n",
        "cls_cnt_pt_y = roi_cls_south + (roi_cls_north - roi_cls_south) / 2\n",
        "cls_cnt_pt = ee.Geometry.Point([cls_cnt_pt_x, cls_cnt_pt_y])"
      ],
      "metadata": {
        "id": "EuIJTH--ANip"
      },
      "execution_count": null,
      "outputs": []
    },
    {
      "cell_type": "code",
      "source": [
        "# Load the Sentinel-2 imagery.\n",
        "s2_img_col = pb_gee_tools.datasets.get_sen2_sr_collection(\n",
        "    aoi=cls_tile_aoi,\n",
        "    start_date=start_date,\n",
        "    end_date=end_date,\n",
        "    cloud_thres = 70,\n",
        ")\n",
        "\n",
        "# Create a median composite clipped to the ROI.\n",
        "s2_med_image = s2_img_col.median().clip(cls_tile_aoi).unmask(no_data_val)"
      ],
      "metadata": {
        "id": "SsmkdE-ikHPy"
      },
      "execution_count": null,
      "outputs": []
    },
    {
      "cell_type": "code",
      "source": [
        "# A function which will be used to calculate a number of image band indices\n",
        "# for each input image.\n",
        "def calc_band_indices(img):\n",
        "    img = img.multiply(.0001).float()\n",
        "    ndvi = img.normalizedDifference([\"B8\", \"B4\"]).rename(\"NDVI\")\n",
        "    ndwi = img.normalizedDifference([\"B8\", \"B11\"]).rename(\"NDWI\")\n",
        "    nbr = img.normalizedDifference([\"B8\", \"B12\"]).rename(\"NBR\")\n",
        "    evi = img.expression(\n",
        "      '2.5 * ((NIR - RED) / (NIR + 6 * RED - 7.5 * BLUE + 1))',\n",
        "      {\n",
        "          'NIR': img.select('B8'),\n",
        "          'RED': img.select('B4'),\n",
        "          'BLUE': img.select('B2'),\n",
        "      },\n",
        "    ).rename(['EVI'])\n",
        "    mvi = img.expression(\n",
        "      '((NIR - GREEN) / (SWIR - GREEN))',\n",
        "      {\n",
        "          'NIR': img.select('B8'),\n",
        "          'SWIR': img.select('B11'),\n",
        "          'GREEN': img.select('B3'),\n",
        "      },\n",
        "    ).rename(['MVI'])\n",
        "    remi = img.expression(\n",
        "      '((REDEDGE - RED) / (SWIR + GREEN))',\n",
        "      {\n",
        "          'REDEDGE': img.select('B6'),\n",
        "          'RED': img.select('B4'),\n",
        "          'SWIR': img.select('B11'),\n",
        "          'GREEN': img.select('B3'),\n",
        "      },\n",
        "    ).rename(['REMI'])\n",
        "    return img.addBands([ndvi, ndwi, nbr, evi, mvi, remi])"
      ],
      "metadata": {
        "id": "IhPdzPwSb7XQ"
      },
      "execution_count": null,
      "outputs": []
    },
    {
      "cell_type": "code",
      "source": [
        "# Map the input images to calculate the indices for\n",
        "# each the input images.\n",
        "s2_indices = s2_img_col.map(calc_band_indices)"
      ],
      "metadata": {
        "id": "E4BOqFHDb7aO"
      },
      "execution_count": null,
      "outputs": []
    },
    {
      "cell_type": "code",
      "source": [
        "# List the bands in each image\n",
        "bands = [\"B2\", \"B3\", \"B4\", \"B5\", \"B6\", \"B7\", \"B8\", \"B8A\", \"B11\", \"B12\", \"NDVI\", \"NDWI\", \"NBR\", \"EVI\", \"MVI\", \"REMI\"]"
      ],
      "metadata": {
        "id": "fh-j4Pt-b7dL"
      },
      "execution_count": null,
      "outputs": []
    },
    {
      "cell_type": "code",
      "source": [
        "# Loop through the input bands to calculate the 10th, 50th (median) and 90th\n",
        "# percentiles for the reflectance bands and indices.\n",
        "s2_img_percents = []\n",
        "for band in bands:\n",
        "  s2_img_percent = s2_indices.select(band).reduce(ee.Reducer.percentile([10, 50, 90]))\n",
        "  s2_img_percents.append(s2_img_percent)"
      ],
      "metadata": {
        "id": "L_BjM7YCb7gL"
      },
      "execution_count": null,
      "outputs": []
    },
    {
      "cell_type": "code",
      "source": [
        "# Convert the list of percentile images to a single image\n",
        "s2_img_percent = ee.ImageCollection.fromImages(s2_img_percents).toBands()\n",
        "s2_img_percent"
      ],
      "metadata": {
        "id": "M8XLy3HAcIb_"
      },
      "execution_count": null,
      "outputs": []
    },
    {
      "cell_type": "code",
      "source": [
        "# Import the elevation dataset.\n",
        "dem_img = ee.ImageCollection('COPERNICUS/DEM/GLO30').select([\"DEM\"]).mean()\n",
        "\n",
        "# Add the elevation data to the s2_img_percent.\n",
        "s2_img_percent_dem = s2_img_percent.addBands(dem_img)"
      ],
      "metadata": {
        "id": "costfJF3RmfU"
      },
      "execution_count": null,
      "outputs": []
    },
    {
      "cell_type": "code",
      "source": [
        "map_obj = geemap.Map()\n",
        "\n",
        "# Specify the centre point and scale of the map\n",
        "map_obj.centerObject(cls_cnt_pt, 12)\n",
        "\n",
        "# Add Google Maps Basemap\n",
        "gg_maps_url = \"https://mt1.google.com/vt/lyrs=m&x={x}&y={y}&z={z}\"\n",
        "map_obj.add_tile_layer(gg_maps_url, name=\"Google Maps\", attribution=\"Google\")\n",
        "\n",
        "# Add Google Satellite Imagery Basemap\n",
        "gg_img_url = \"http://www.google.cn/maps/vt?lyrs=s@189&gl=cn&x={x}&y={y}&z={z}\"\n",
        "map_obj.add_tile_layer(gg_img_url, name=\"Google Imagery\", attribution=\"Google\")\n",
        "\n",
        "# Specify the visualisation options.\n",
        "vis_params = {\"min\": [150, 100, 187], \"max\": [4136, 4000, 2712], \"bands\": [\"B8\", \"B11\", \"B4\"]}\n",
        "\n",
        "# Add the Sentinel-2 Composite\n",
        "map_obj.addLayer(s2_med_image, vis_params, \"Sentinel-2\")\n",
        "\n",
        "map_obj"
      ],
      "metadata": {
        "id": "7ybAni46kHSp"
      },
      "execution_count": null,
      "outputs": []
    },
    {
      "cell_type": "code",
      "source": [
        "# Get a list of the bands names.\n",
        "img_bands = s2_img_percent_dem.bandNames()\n",
        "img_bands"
      ],
      "metadata": {
        "id": "8J-A3tgUkHVY"
      },
      "execution_count": null,
      "outputs": []
    },
    {
      "cell_type": "code",
      "source": [
        "# Extract the training samples fromt the input imagery.\n",
        "train_data = s2_img_percent_dem.select(img_bands).sampleRegions(\n",
        "    collection=train_smpls, properties=[\"class\"], scale=10\n",
        ")"
      ],
      "metadata": {
        "id": "0wSIz--BkHYH"
      },
      "execution_count": null,
      "outputs": []
    },
    {
      "cell_type": "code",
      "source": [
        "# Train the classifier.\n",
        "rf_cls_mdl = ee.Classifier.smileRandomForest(numberOfTrees=100).train(train_data, \"class\", img_bands)\n"
      ],
      "metadata": {
        "id": "6u69rvO3kHav"
      },
      "execution_count": null,
      "outputs": []
    },
    {
      "cell_type": "code",
      "source": [
        "# Apply the Classification.\n",
        "cls_rslts_img = s2_img_percent_dem.classify(rf_cls_mdl)"
      ],
      "metadata": {
        "id": "hYsn_a1gxvF_"
      },
      "execution_count": null,
      "outputs": []
    },
    {
      "cell_type": "code",
      "source": [
        "map_obj = geemap.Map()\n",
        "\n",
        "map_obj.centerObject(cls_cnt_pt, 12)\n",
        "\n",
        "# Add Google Maps Basemap\n",
        "gg_maps_url = \"https://mt1.google.com/vt/lyrs=m&x={x}&y={y}&z={z}\"\n",
        "map_obj.add_tile_layer(gg_maps_url, name=\"Google Maps\", attribution=\"Google\")\n",
        "\n",
        "# Add Google Satellite Imagery Basemap\n",
        "gg_img_url = \"http://www.google.cn/maps/vt?lyrs=s@189&gl=cn&x={x}&y={y}&z={z}\"\n",
        "map_obj.add_tile_layer(gg_img_url, name=\"Google Imagery\", attribution=\"Google\")\n",
        "\n",
        "# Specify the visualisation options.\n",
        "s2_vis_params = {\"min\": [150, 100, 187], \"max\": [4136, 4000, 2712], \"bands\": [\"B8\", \"B11\", \"B4\"]}\n",
        "\n",
        "# Add the Sentinel-2 Composite\n",
        "map_obj.addLayer(s2_med_image, s2_vis_params, \"Sentinel-2\")\n",
        "\n",
        "# Specify the visualisation options.\n",
        "cls_vis_params = {'min': 1, 'max': 3, 'palette': ['green', 'blue', 'grey']}\n",
        "\n",
        "# Add the Sentinel-2 Classification\n",
        "map_obj.addLayer(cls_rslts_img, cls_vis_params, \"Class\")\n",
        "\n",
        "map_obj"
      ],
      "metadata": {
        "id": "Hr8aeukYxvIs"
      },
      "execution_count": null,
      "outputs": []
    },
    {
      "cell_type": "code",
      "source": [
        "out_cls_img_file = \"n0940e0190_init_dem_cls\"\n",
        "out_gdrive_dir = \"mangrove_chng_cls\"\n",
        "\n",
        "# Export the classification image to your Google Drive\n",
        "task = ee.batch.Export.image.toDrive(\n",
        "        image=cls_rslts_img,\n",
        "        description=out_cls_img_file,\n",
        "        folder=out_gdrive_dir,\n",
        "        scale=10,\n",
        "        region=cls_tile_aoi,\n",
        "        fileFormat=\"GeoTIFF\",\n",
        "        formatOptions={\"cloudOptimized\": True, 'noData': 0},\n",
        ")\n",
        "task.start()"
      ],
      "metadata": {
        "id": "6ZPRrJGrxvLf"
      },
      "execution_count": null,
      "outputs": []
    },
    {
      "cell_type": "code",
      "source": [],
      "metadata": {
        "id": "_yTbIzuTxvOT"
      },
      "execution_count": null,
      "outputs": []
    },
    {
      "cell_type": "code",
      "source": [],
      "metadata": {
        "id": "mWv8geS3xvRO"
      },
      "execution_count": null,
      "outputs": []
    }
  ]
}