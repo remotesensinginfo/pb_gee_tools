{
  "nbformat": 4,
  "nbformat_minor": 0,
  "metadata": {
    "colab": {
      "provenance": [],
      "include_colab_link": true
    },
    "kernelspec": {
      "name": "python3",
      "display_name": "Python 3"
    },
    "language_info": {
      "name": "python"
    }
  },
  "cells": [
    {
      "cell_type": "markdown",
      "metadata": {
        "id": "view-in-github",
        "colab_type": "text"
      },
      "source": [
        "<a href=\"https://colab.research.google.com/github/remotesensinginfo/pb_gee_tools/blob/main/examples/applications/mangrove_class/06_Mangrove_Apply_Asset_Class.ipynb\" target=\"_parent\"><img src=\"https://colab.research.google.com/assets/colab-badge.svg\" alt=\"Open In Colab\"/></a>"
      ]
    },
    {
      "cell_type": "code",
      "execution_count": null,
      "metadata": {
        "id": "3HVYHfa17v2a"
      },
      "outputs": [],
      "source": [
        "# The Google Earth Engine module\n",
        "import ee\n",
        "\n",
        "# The datetime module is used to specify the dates\n",
        "# to search for imagery\n",
        "import datetime\n",
        "\n",
        "# Import the geemap (https://geemap.org/) module which\n",
        "# has a visualisation tool\n",
        "import geemap\n",
        "\n",
        "# Geopandas allows us to read the shapefile used to\n",
        "# define the region of interest (ROI)\n",
        "import geopandas\n",
        "\n",
        "# The colab module to access data from your google drive\n",
        "from google.colab import drive"
      ]
    },
    {
      "cell_type": "code",
      "source": [
        "try:\n",
        "  import pb_gee_tools\n",
        "  import pb_gee_tools.datasets\n",
        "  import pb_gee_tools.convert_types\n",
        "except:\n",
        "  !git clone https://github.com/remotesensinginfo/pb_gee_tools.git\n",
        "  !pip install ./pb_gee_tools/.\n",
        "  import pb_gee_tools\n",
        "  import pb_gee_tools.datasets\n",
        "  import pb_gee_tools.convert_types"
      ],
      "metadata": {
        "id": "FJu5EY_Y8BRd"
      },
      "execution_count": null,
      "outputs": []
    },
    {
      "cell_type": "code",
      "source": [
        "ee_prj_name = \"ee-pb-dev\"  # <==== Replace this with your own EE project string\n",
        "ee.Authenticate()\n",
        "ee.Initialize(project=ee_prj_name)"
      ],
      "metadata": {
        "id": "3jX-JASI8BUV"
      },
      "execution_count": null,
      "outputs": []
    },
    {
      "cell_type": "code",
      "source": [
        "drive.mount(\"/content/drive\")"
      ],
      "metadata": {
        "id": "HWIe6Pqy8BXB"
      },
      "execution_count": null,
      "outputs": []
    },
    {
      "cell_type": "code",
      "source": [
        "# The file path on google drive for ROI output vector file.\n",
        "vec_cls_roi_file = \"/content/drive/MyDrive/mangrove_chng_cls/n0940e0190_tile.geojson\"\n",
        "\n",
        "# Start and End date\n",
        "start_date = datetime.datetime(year=2020, month=1, day=1)\n",
        "end_date = datetime.datetime(year=2020, month=12, day=31)\n",
        "\n",
        "# Output no data value\n",
        "no_data_val = 0.0"
      ],
      "metadata": {
        "id": "RBcP0BV58BZz"
      },
      "execution_count": null,
      "outputs": []
    },
    {
      "cell_type": "code",
      "source": [
        "# Read the vector layer and make sure it is project using WGS84 (EPSG:4326)\n",
        "vec_cls_roi_gdf = geopandas.read_file(vec_cls_roi_file).to_crs(4326)\n",
        "\n",
        "# Get layer bbox: minx, miny, maxx, maxy\n",
        "gp_cls_roi_bbox = vec_cls_roi_gdf.total_bounds\n",
        "\n",
        "# Create the GEE geometry from the bbox.\n",
        "roi_cls_west = gp_cls_roi_bbox[0]\n",
        "roi_cls_east = gp_cls_roi_bbox[2]\n",
        "roi_cls_north = gp_cls_roi_bbox[3]\n",
        "roi_cls_south = gp_cls_roi_bbox[1]\n",
        "cls_tile_aoi = ee.Geometry.BBox(roi_cls_west, roi_cls_south, roi_cls_east, roi_cls_north)\n",
        "\n",
        "cls_cnt_pt_x = roi_cls_west + (roi_cls_east - roi_cls_west) / 2\n",
        "cls_cnt_pt_y = roi_cls_south + (roi_cls_north - roi_cls_south) / 2\n",
        "cls_cnt_pt = ee.Geometry.Point([cls_cnt_pt_x, cls_cnt_pt_y])"
      ],
      "metadata": {
        "id": "DxiHOLF08Bk_"
      },
      "execution_count": null,
      "outputs": []
    },
    {
      "cell_type": "code",
      "source": [
        "# Load the Sentinel-2 imagery.\n",
        "s2_img_col = pb_gee_tools.datasets.get_sen2_sr_collection(\n",
        "    aoi=cls_tile_aoi,\n",
        "    start_date=start_date,\n",
        "    end_date=end_date,\n",
        "    cloud_thres = 70,\n",
        ")\n",
        "\n",
        "# Create a median composite clipped to the ROI.\n",
        "s2_med_image = s2_img_col.median().clip(cls_tile_aoi).unmask(no_data_val)"
      ],
      "metadata": {
        "id": "7HKqfw2s8Bn1"
      },
      "execution_count": null,
      "outputs": []
    },
    {
      "cell_type": "code",
      "source": [
        "map_obj = geemap.Map()\n",
        "\n",
        "# Define a centre point for the map to start at.\n",
        "cls_cnt_pt_x = 93.89789\n",
        "cls_cnt_pt_y = 19.30903\n",
        "cls_cnt_pt = ee.Geometry.Point([cls_cnt_pt_x, cls_cnt_pt_y])\n",
        "\n",
        "# Specify the centre point and scale of the map\n",
        "map_obj.centerObject(cls_cnt_pt, 12)\n",
        "\n",
        "# Add Google Maps Basemap\n",
        "gg_maps_url = \"https://mt1.google.com/vt/lyrs=m&x={x}&y={y}&z={z}\"\n",
        "map_obj.add_tile_layer(gg_maps_url, name=\"Google Maps\", attribution=\"Google\")\n",
        "\n",
        "# Add Google Satellite Imagery Basemap\n",
        "gg_img_url = \"http://www.google.cn/maps/vt?lyrs=s@189&gl=cn&x={x}&y={y}&z={z}\"\n",
        "map_obj.add_tile_layer(gg_img_url, name=\"Google Imagery\", attribution=\"Google\")\n",
        "\n",
        "# Specify the visualisation options.\n",
        "vis_params = {\"min\": [150, 100, 187], \"max\": [4136, 4000, 2712], \"bands\": [\"B8\", \"B11\", \"B4\"]}\n",
        "\n",
        "# Add the Sentinel-2 Composite\n",
        "map_obj.addLayer(s2_med_image, vis_params, \"Sentinel-2\")\n",
        "\n",
        "map_obj"
      ],
      "metadata": {
        "id": "Byb5At3b8Bqj"
      },
      "execution_count": null,
      "outputs": []
    },
    {
      "cell_type": "code",
      "source": [
        "# Get the list of image bands.\n",
        "img_bands = s2_med_image.bandNames()\n",
        "img_bands"
      ],
      "metadata": {
        "id": "smf_6pJB8BtV"
      },
      "execution_count": null,
      "outputs": []
    },
    {
      "cell_type": "code",
      "source": [
        "# Load the classifier from asset\n",
        "cls_mdl_asset_id = f'projects/{ee_prj_name}/assets/mng_test_rf_cls'\n",
        "rf_cls_mdl = ee.Classifier.load(cls_mdl_asset_id)\n"
      ],
      "metadata": {
        "id": "fKXS6zfQ8By7"
      },
      "execution_count": null,
      "outputs": []
    },
    {
      "cell_type": "code",
      "source": [
        "# Apply the Classification.\n",
        "cls_rslts_img = s2_med_image.classify(rf_cls_mdl)"
      ],
      "metadata": {
        "id": "xWGH_zcz-Dql"
      },
      "execution_count": null,
      "outputs": []
    },
    {
      "cell_type": "code",
      "source": [
        "map_obj = geemap.Map()\n",
        "\n",
        "map_obj.centerObject(cls_cnt_pt, 12)\n",
        "\n",
        "# Add Google Maps Basemap\n",
        "gg_maps_url = \"https://mt1.google.com/vt/lyrs=m&x={x}&y={y}&z={z}\"\n",
        "map_obj.add_tile_layer(gg_maps_url, name=\"Google Maps\", attribution=\"Google\")\n",
        "\n",
        "# Add Google Satellite Imagery Basemap\n",
        "gg_img_url = \"http://www.google.cn/maps/vt?lyrs=s@189&gl=cn&x={x}&y={y}&z={z}\"\n",
        "map_obj.add_tile_layer(gg_img_url, name=\"Google Imagery\", attribution=\"Google\")\n",
        "\n",
        "# Specify the visualisation options.\n",
        "s2_vis_params = {\"min\": [150, 100, 187], \"max\": [4136, 4000, 2712], \"bands\": [\"B8\", \"B11\", \"B4\"]}\n",
        "\n",
        "# Add the Sentinel-2 Composite\n",
        "map_obj.addLayer(s2_med_image, s2_vis_params, \"Sentinel-2\")\n",
        "\n",
        "# Specify the visualisation options.\n",
        "cls_vis_params = {'min': 1, 'max': 3, 'palette': ['green', 'blue', 'grey']}\n",
        "\n",
        "# Add the Sentinel-2 Classification\n",
        "map_obj.addLayer(cls_rslts_img, cls_vis_params, \"Class\")\n",
        "\n",
        "map_obj"
      ],
      "metadata": {
        "id": "bXRVaFWSJxEy"
      },
      "execution_count": null,
      "outputs": []
    },
    {
      "cell_type": "code",
      "source": [
        "out_cls_img_file = \"n0940e0190_asset_mdl_cls\"\n",
        "out_gdrive_dir = \"mangrove_chng_cls\"\n",
        "\n",
        "# Export the classification image to your Google Drive\n",
        "task = ee.batch.Export.image.toDrive(\n",
        "        image=cls_rslts_img,\n",
        "        description=out_cls_img_file,\n",
        "        folder=out_gdrive_dir,\n",
        "        scale=10,\n",
        "        region=cls_tile_aoi,\n",
        "        fileFormat=\"GeoTIFF\",\n",
        "        formatOptions={\"cloudOptimized\": True, 'noData': 0},\n",
        ")\n",
        "task.start()"
      ],
      "metadata": {
        "id": "xIfY2mrpJxBl"
      },
      "execution_count": null,
      "outputs": []
    }
  ]
}