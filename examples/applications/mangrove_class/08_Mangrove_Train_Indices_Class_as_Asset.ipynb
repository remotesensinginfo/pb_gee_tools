{
  "nbformat": 4,
  "nbformat_minor": 0,
  "metadata": {
    "colab": {
      "provenance": [],
      "include_colab_link": true
    },
    "kernelspec": {
      "name": "python3",
      "display_name": "Python 3"
    },
    "language_info": {
      "name": "python"
    }
  },
  "cells": [
    {
      "cell_type": "markdown",
      "metadata": {
        "id": "view-in-github",
        "colab_type": "text"
      },
      "source": [
        "<a href=\"https://colab.research.google.com/github/remotesensinginfo/pb_gee_tools/blob/main/examples/applications/mangrove_class/08_Mangrove_Train_Indices_Class_as_Asset.ipynb\" target=\"_parent\"><img src=\"https://colab.research.google.com/assets/colab-badge.svg\" alt=\"Open In Colab\"/></a>"
      ]
    },
    {
      "cell_type": "code",
      "execution_count": null,
      "metadata": {
        "id": "3HVYHfa17v2a"
      },
      "outputs": [],
      "source": [
        "# The Google Earth Engine module\n",
        "import ee\n",
        "\n",
        "# The datetime module is used to specify the dates\n",
        "# to search for imagery\n",
        "import datetime\n",
        "\n",
        "# Import the geemap (https://geemap.org/) module which\n",
        "# has a visualisation tool\n",
        "import geemap\n",
        "\n",
        "# Geopandas allows us to read the shapefile used to\n",
        "# define the region of interest (ROI)\n",
        "import geopandas\n",
        "\n",
        "# The colab module to access data from your google drive\n",
        "from google.colab import drive"
      ]
    },
    {
      "cell_type": "code",
      "source": [
        "try:\n",
        "  import pb_gee_tools\n",
        "  import pb_gee_tools.datasets\n",
        "  import pb_gee_tools.convert_types\n",
        "except:\n",
        "  !git clone https://github.com/remotesensinginfo/pb_gee_tools.git\n",
        "  !pip install ./pb_gee_tools/.\n",
        "  import pb_gee_tools\n",
        "  import pb_gee_tools.datasets\n",
        "  import pb_gee_tools.convert_types"
      ],
      "metadata": {
        "id": "FJu5EY_Y8BRd"
      },
      "execution_count": null,
      "outputs": []
    },
    {
      "cell_type": "code",
      "source": [
        "ee_prj_name = \"ee-pb-dev\"  # <==== Replace this with your own EE project string\n",
        "ee.Authenticate()\n",
        "ee.Initialize(project=ee_prj_name)"
      ],
      "metadata": {
        "id": "3jX-JASI8BUV"
      },
      "execution_count": null,
      "outputs": []
    },
    {
      "cell_type": "code",
      "source": [
        "drive.mount(\"/content/drive\")"
      ],
      "metadata": {
        "id": "HWIe6Pqy8BXB"
      },
      "execution_count": null,
      "outputs": []
    },
    {
      "cell_type": "code",
      "source": [
        "# The file path on google drive for ROI output vector file.\n",
        "vec_cls_roi_file = \"/content/drive/MyDrive/mangrove_chng_cls/roi_poly.geojson\"\n",
        "\n",
        "# Start and End date\n",
        "start_date = datetime.datetime(year=2020, month=1, day=1)\n",
        "end_date = datetime.datetime(year=2020, month=12, day=31)\n",
        "\n",
        "# Output no data value\n",
        "no_data_val = 0.0"
      ],
      "metadata": {
        "id": "RBcP0BV58BZz"
      },
      "execution_count": null,
      "outputs": []
    },
    {
      "cell_type": "code",
      "source": [
        "# Specify the paths to the vector files with the training points for each of\n",
        "# classes. Note these files include samples for a larger areas than defined\n",
        "# in the roi file.\n",
        "vec_mng_smpls_file = '/content/drive/MyDrive/mangrove_chng_cls/mng_smpls.geojson'\n",
        "vec_wtr_smpls_file = '/content/drive/MyDrive/mangrove_chng_cls/wtr_smpls.geojson'\n",
        "vec_oth_smpls_file = '/content/drive/MyDrive/mangrove_chng_cls/oth_smpls.geojson'"
      ],
      "metadata": {
        "id": "dy9Mb6UQ8Bcn"
      },
      "execution_count": null,
      "outputs": []
    },
    {
      "cell_type": "code",
      "source": [
        "# The following function calls convert the training sample points to GEE\n",
        "# point geometries. In addition, the points a clipped to the ROI for the\n",
        "# region being classified and subsampled to reduce the number of points\n",
        "# used to train the classifier as this reduced the memory footprint of\n",
        "# the notebook which is limited.\n",
        "gee_mng_pts = pb_gee_tools.convert_types.get_gee_pts(vec_mng_smpls_file, rnd_smpl = 7500, rnd_seed = 42, vec_roi_file=vec_cls_roi_file)\n",
        "gee_wtr_pts = pb_gee_tools.convert_types.get_gee_pts(vec_wtr_smpls_file, rnd_smpl = 7500, rnd_seed = 42, vec_roi_file=vec_cls_roi_file)\n",
        "gee_oth_pts = pb_gee_tools.convert_types.get_gee_pts(vec_oth_smpls_file, rnd_smpl = 7500, rnd_seed = 42, vec_roi_file=vec_cls_roi_file)\n"
      ],
      "metadata": {
        "id": "71uetDha8BfZ"
      },
      "execution_count": null,
      "outputs": []
    },
    {
      "cell_type": "code",
      "source": [
        "# Merge the training samples into a single Feature Collection with a variable\n",
        "# for the ID of each class.\n",
        "train_smpls = ee.FeatureCollection([\n",
        "    ee.Feature(gee_mng_pts, {'class': 1}),\n",
        "    ee.Feature(gee_wtr_pts, {'class': 2}),\n",
        "    ee.Feature(gee_oth_pts, {'class': 3}),\n",
        "])"
      ],
      "metadata": {
        "id": "-9nNaUZR8BiO"
      },
      "execution_count": null,
      "outputs": []
    },
    {
      "cell_type": "code",
      "source": [
        "# Get the vector polygon from the vector file as a Google Earth Polygon\n",
        "roi_gee_poly = pb_gee_tools.convert_types.convert_vector_to_gee_polygon(vec_cls_roi_file)"
      ],
      "metadata": {
        "id": "DxiHOLF08Bk_"
      },
      "execution_count": null,
      "outputs": []
    },
    {
      "cell_type": "code",
      "source": [
        "# Load the Sentinel-2 imagery.\n",
        "s2_img_col = pb_gee_tools.datasets.get_sen2_sr_collection(\n",
        "    aoi=roi_gee_poly,\n",
        "    start_date=start_date,\n",
        "    end_date=end_date,\n",
        "    cloud_thres = 70,\n",
        ")"
      ],
      "metadata": {
        "id": "7HKqfw2s8Bn1"
      },
      "execution_count": null,
      "outputs": []
    },
    {
      "cell_type": "code",
      "source": [
        "# A function which will be used to calculate a number of image band indices\n",
        "# for each input image.\n",
        "def calc_band_indices(img):\n",
        "    img = img.multiply(.0001).float()\n",
        "    ndvi = img.normalizedDifference([\"B8\", \"B4\"]).rename(\"NDVI\")\n",
        "    ndwi = img.normalizedDifference([\"B8\", \"B11\"]).rename(\"NDWI\")\n",
        "    nbr = img.normalizedDifference([\"B8\", \"B12\"]).rename(\"NBR\")\n",
        "    evi = img.expression(\n",
        "      '2.5 * ((NIR - RED) / (NIR + 6 * RED - 7.5 * BLUE + 1))',\n",
        "      {\n",
        "          'NIR': img.select('B8'),\n",
        "          'RED': img.select('B4'),\n",
        "          'BLUE': img.select('B2'),\n",
        "      },\n",
        "    ).rename(['EVI'])\n",
        "    mvi = img.expression(\n",
        "      '((NIR - GREEN) / (SWIR - GREEN))',\n",
        "      {\n",
        "          'NIR': img.select('B8'),\n",
        "          'SWIR': img.select('B11'),\n",
        "          'GREEN': img.select('B3'),\n",
        "      },\n",
        "    ).rename(['MVI'])\n",
        "    remi = img.expression(\n",
        "      '((REDEDGE - RED) / (SWIR + GREEN))',\n",
        "      {\n",
        "          'REDEDGE': img.select('B6'),\n",
        "          'RED': img.select('B4'),\n",
        "          'SWIR': img.select('B11'),\n",
        "          'GREEN': img.select('B3'),\n",
        "      },\n",
        "    ).rename(['REMI'])\n",
        "    return img.addBands([ndvi, ndwi, nbr, evi, mvi, remi])"
      ],
      "metadata": {
        "id": "Af5U4f9ZxRuU"
      },
      "execution_count": null,
      "outputs": []
    },
    {
      "cell_type": "code",
      "source": [
        "# Map the input images to calculate the indices for\n",
        "# each the input images.\n",
        "s2_indices_img_col = s2_img_col.map(calc_band_indices)\n"
      ],
      "metadata": {
        "id": "Byb5At3b8Bqj"
      },
      "execution_count": null,
      "outputs": []
    },
    {
      "cell_type": "code",
      "source": [
        "# Get the list of image bands.\n",
        "img_bands = s2_indices_img_col.first().bandNames()\n",
        "img_bands"
      ],
      "metadata": {
        "id": "GSvXbQ7O0Dnu"
      },
      "execution_count": null,
      "outputs": []
    },
    {
      "cell_type": "code",
      "source": [
        "# Sample training data from each of the input images\n",
        "def sample_img_training(img):\n",
        "    train_smpl_data = img.sampleRegions(\n",
        "        collection=train_smpls, properties=[\"class\"], scale=10\n",
        "    )\n",
        "    return train_smpl_data\n",
        "\n",
        "training_data = s2_indices_img_col.map(sample_img_training)\n",
        "training_data = training_data.flatten()"
      ],
      "metadata": {
        "id": "67C4zG0V0Dqc"
      },
      "execution_count": null,
      "outputs": []
    },
    {
      "cell_type": "code",
      "source": [
        "# Train the classifier.\n",
        "rf_cls_mdl = ee.Classifier.smileRandomForest(numberOfTrees=100).train(training_data, \"class\", img_bands)"
      ],
      "metadata": {
        "id": "Ez95ZSdy0DtT"
      },
      "execution_count": null,
      "outputs": []
    },
    {
      "cell_type": "code",
      "source": [
        "# Save the classifier as an asset in your Google Earth Engine account\n",
        "asset_id = f'projects/{ee_prj_name}/assets/mng_indices_rf_cls'\n",
        "task = ee.batch.Export.classifier.toAsset(\n",
        "  classifier=rf_cls_mdl,\n",
        "  description=f'mng_test_rf_cls',\n",
        "  assetId=asset_id\n",
        ")\n",
        "task.start()"
      ],
      "metadata": {
        "id": "cdSeRAxx-Dn3"
      },
      "execution_count": null,
      "outputs": []
    },
    {
      "cell_type": "code",
      "source": [],
      "metadata": {
        "id": "xWGH_zcz-Dql"
      },
      "execution_count": null,
      "outputs": []
    }
  ]
}