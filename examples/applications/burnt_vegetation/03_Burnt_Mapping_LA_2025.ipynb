{
  "cells": [
    {
      "cell_type": "markdown",
      "metadata": {
        "id": "view-in-github",
        "colab_type": "text"
      },
      "source": [
        "<a href=\"https://colab.research.google.com/github/remotesensinginfo/pb_gee_tools/blob/main/examples/applications/burnt_vegetation/03_Burnt_Mapping_LA_2025.ipynb\" target=\"_parent\"><img src=\"https://colab.research.google.com/assets/colab-badge.svg\" alt=\"Open In Colab\"/></a>"
      ]
    },
    {
      "cell_type": "code",
      "execution_count": null,
      "metadata": {
        "id": "4QKP4bM-ujT4"
      },
      "outputs": [],
      "source": [
        "# The Google Earth Engine module\n",
        "import ee\n",
        "\n",
        "# The datetime module is used to specify the dates\n",
        "# to search for imagery\n",
        "import datetime\n",
        "\n",
        "# Import the geemap (https://geemap.org/) module which\n",
        "# has a visualisation tool\n",
        "import geemap\n",
        "\n",
        "# Geopandas allows us to read the shapefile used to\n",
        "# define the region of interest (ROI)\n",
        "import geopandas\n",
        "\n",
        "# The colab module to access data from your google drive\n",
        "from google.colab import drive"
      ]
    },
    {
      "cell_type": "code",
      "execution_count": null,
      "metadata": {
        "id": "DzFv5FiWxhlZ"
      },
      "outputs": [],
      "source": [
        "try:\n",
        "  import pb_gee_tools\n",
        "  import pb_gee_tools.datasets\n",
        "except:\n",
        "  !git clone https://github.com/remotesensinginfo/pb_gee_tools.git\n",
        "  !pip install ./pb_gee_tools/.\n",
        "  import pb_gee_tools\n",
        "  import pb_gee_tools.datasets"
      ]
    },
    {
      "cell_type": "code",
      "execution_count": null,
      "metadata": {
        "id": "p1rr97EDxoPD"
      },
      "outputs": [],
      "source": [
        "ee_prj_name = \"ee-pb-dev\"  # <==== Replace this with your own EE project string\n",
        "ee.Authenticate()\n",
        "ee.Initialize(project=ee_prj_name)"
      ]
    },
    {
      "cell_type": "code",
      "execution_count": null,
      "metadata": {
        "id": "OrW6m4lOxroi"
      },
      "outputs": [],
      "source": [
        "drive.mount(\"/content/drive\")"
      ]
    },
    {
      "cell_type": "code",
      "execution_count": null,
      "metadata": {
        "id": "ztYBloZXxrrF"
      },
      "outputs": [],
      "source": [
        "# The region of interest\n",
        "vec_roi_file = \"/content/drive/MyDrive/burnt_veg/la_2025_roi_poly.geojson\"\n",
        "\n",
        "# Dates before the fire\n",
        "pre_burn_start_date = datetime.datetime(year=2024, month=9, day=1)\n",
        "pre_burn_end_date = datetime.datetime(year=2024, month=11, day=30)\n",
        "\n",
        "# Dates after the fire\n",
        "post_burn_start_date = datetime.datetime(year=2025, month=1, day=8)\n",
        "post_burn_end_date = datetime.datetime(year=2025, month=1, day=20)\n",
        "\n",
        "# No Data Vaue\n",
        "out_no_data_val = 0.0"
      ]
    },
    {
      "cell_type": "code",
      "execution_count": null,
      "metadata": {
        "id": "mdMzgjEJxrtq"
      },
      "outputs": [],
      "source": [
        "# Read the vector layer and make sure it is project using WGS84 (EPSG:4326)\n",
        "vec_gdf = geopandas.read_file(vec_roi_file).to_crs(4326)\n",
        "\n",
        "# Get layer bbox: minx, miny, maxx, maxy\n",
        "gp_bbox = vec_gdf.total_bounds\n",
        "\n",
        "# Create the GEE geometry from the bbox.\n",
        "roi_west = gp_bbox[0]\n",
        "roi_east = gp_bbox[2]\n",
        "roi_north = gp_bbox[3]\n",
        "roi_south = gp_bbox[1]\n",
        "tile_aoi = ee.Geometry.BBox(roi_west, roi_south, roi_east, roi_north)"
      ]
    },
    {
      "cell_type": "code",
      "execution_count": null,
      "metadata": {
        "id": "cY5JP4LFxrwe"
      },
      "outputs": [],
      "source": [
        "# Get the landsat image collection\n",
        "pre_burn_s2_img_col = pb_gee_tools.datasets.get_sen2_sr_collection(\n",
        "    aoi=tile_aoi,\n",
        "    start_date=pre_burn_start_date,\n",
        "    end_date=pre_burn_end_date,\n",
        "    cloud_thres=70,\n",
        ")\n",
        "\n",
        "# Create a median composite\n",
        "pre_burn_s2_median = pre_burn_s2_img_col.median().unmask(out_no_data_val).clip(tile_aoi)"
      ]
    },
    {
      "cell_type": "code",
      "execution_count": null,
      "metadata": {
        "id": "CUlHD-m7xry1"
      },
      "outputs": [],
      "source": [
        "# Get the landsat image collection\n",
        "post_burn_s2_img_col = pb_gee_tools.datasets.get_sen2_sr_collection(\n",
        "    aoi=tile_aoi,\n",
        "    start_date=post_burn_start_date,\n",
        "    end_date=post_burn_end_date,\n",
        "    cloud_thres=70,\n",
        ")\n",
        "\n",
        "# Create a median composite\n",
        "post_burn_s2_median = (\n",
        "    post_burn_s2_img_col.median().unmask(out_no_data_val).clip(tile_aoi)\n",
        ")"
      ]
    },
    {
      "cell_type": "code",
      "source": [
        "post_burn_s2_median"
      ],
      "metadata": {
        "id": "RKa2sphorx4L"
      },
      "execution_count": null,
      "outputs": []
    },
    {
      "cell_type": "code",
      "execution_count": null,
      "metadata": {
        "id": "brW-iBYgxr1a"
      },
      "outputs": [],
      "source": [
        "map_obj = geemap.Map()\n",
        "\n",
        "# Create the centre point for the map\n",
        "cnt_pt_x = roi_west + (roi_east - roi_west) / 2\n",
        "cnt_pt_y = roi_south + (roi_north - roi_south) / 2\n",
        "cnt_pt = ee.Geometry.Point([cnt_pt_x, cnt_pt_y])\n",
        "# Specify the centre point and scale of the map\n",
        "map_obj.centerObject(cnt_pt, 12)\n",
        "\n",
        "# Add Google Satellite Imagery Basemap\n",
        "gg_img_url = \"http://www.google.cn/maps/vt?lyrs=s@189&gl=cn&x={x}&y={y}&z={z}\"\n",
        "map_obj.add_tile_layer(gg_img_url, name=\"Google Imagery\", attribution=\"Google\")\n",
        "\n",
        "# Specify the visualisation options.\n",
        "vis_params = {\n",
        "    \"min\": [1320, 810, 20],\n",
        "    \"max\": [4050, 4070, 1620],\n",
        "    \"bands\": [\"B8\", \"B11\", \"B4\"],\n",
        "}\n",
        "map_obj.addLayer(pre_burn_s2_median, vis_params, \"Pre-Burnt Sentinel-2 Median\")\n",
        "map_obj.addLayer(post_burn_s2_median, vis_params, \"Post-Burnt Sentinel-2 Median\")\n",
        "\n",
        "map_obj"
      ]
    },
    {
      "cell_type": "code",
      "execution_count": null,
      "metadata": {
        "id": "oAOtEhvXxr4A"
      },
      "outputs": [],
      "source": [
        "# Calculate the Normalised Burn Ratio (NBR) pre and post fire using the\n",
        "# median composite\n",
        "pre_med_nbr = pre_burn_s2_median.expression(\n",
        "    \"(NIR-SWIR)/(NIR+SWIR)\",\n",
        "    {\n",
        "        \"NIR\": pre_burn_s2_median.select(\"B8\"),\n",
        "        \"SWIR\": pre_burn_s2_median.select(\"B11\"),\n",
        "    },\n",
        ").rename(\"NBR\")\n",
        "\n",
        "post_med_nbr = post_burn_s2_median.expression(\n",
        "    \"(NIR-SWIR)/(NIR+SWIR)\",\n",
        "    {\n",
        "        \"NIR\": post_burn_s2_median.select(\"B8\"),\n",
        "        \"SWIR\": post_burn_s2_median.select(\"B11\"),\n",
        "    },\n",
        ").rename(\"NBR\")\n"
      ]
    },
    {
      "cell_type": "code",
      "execution_count": null,
      "metadata": {
        "id": "ss3QHk4x3PB1"
      },
      "outputs": [],
      "source": [
        "map_obj = geemap.Map()\n",
        "\n",
        "# Create the centre point for the map\n",
        "cnt_pt_x = roi_west + (roi_east - roi_west) / 2\n",
        "cnt_pt_y = roi_south + (roi_north - roi_south) / 2\n",
        "cnt_pt = ee.Geometry.Point([cnt_pt_x, cnt_pt_y])\n",
        "# Specify the centre point and scale of the map\n",
        "map_obj.centerObject(cnt_pt, 12)\n",
        "\n",
        "# Add Google Satellite Imagery Basemap\n",
        "gg_img_url = \"http://www.google.cn/maps/vt?lyrs=s@189&gl=cn&x={x}&y={y}&z={z}\"\n",
        "map_obj.add_tile_layer(gg_img_url, name=\"Google Imagery\", attribution=\"Google\")\n",
        "\n",
        "# Specify the visualisation options.\n",
        "vis_params = {\"min\": [-0.2], \"max\": [0.2], \"bands\": [\"NBR\"]}\n",
        "map_obj.addLayer(pre_med_nbr, vis_params, \"Pre-Burnt NBR\")\n",
        "map_obj.addLayer(post_med_nbr, vis_params, \"Post-Burnt NBR\")\n",
        "\n",
        "map_obj"
      ]
    },
    {
      "cell_type": "code",
      "execution_count": null,
      "metadata": {
        "id": "HX1oYjF-3PEF"
      },
      "outputs": [],
      "source": [
        "# Create the Normalised Burn Ratio Difference (dNBR)\n",
        "dNBR = pre_med_nbr.subtract(post_med_nbr).rename(\"dNBR\")"
      ]
    },
    {
      "cell_type": "code",
      "execution_count": null,
      "metadata": {
        "id": "NN-a0czu3PGq"
      },
      "outputs": [],
      "source": [
        "map_obj = geemap.Map()\n",
        "\n",
        "# Create the centre point for the map\n",
        "cnt_pt_x = roi_west + (roi_east - roi_west) / 2\n",
        "cnt_pt_y = roi_south + (roi_north - roi_south) / 2\n",
        "cnt_pt = ee.Geometry.Point([cnt_pt_x, cnt_pt_y])\n",
        "# Specify the centre point and scale of the map\n",
        "map_obj.centerObject(cnt_pt, 12)\n",
        "\n",
        "# Add Google Satellite Imagery Basemap\n",
        "gg_img_url = \"http://www.google.cn/maps/vt?lyrs=s@189&gl=cn&x={x}&y={y}&z={z}\"\n",
        "map_obj.add_tile_layer(gg_img_url, name=\"Google Imagery\", attribution=\"Google\")\n",
        "\n",
        "# Specify the visualisation options.\n",
        "vis_params = {\n",
        "    \"min\": [1320, 810, 20],\n",
        "    \"max\": [4050, 4070, 1620],\n",
        "    \"bands\": [\"B8\", \"B11\", \"B4\"],\n",
        "}\n",
        "\n",
        "# Add the Sentinel-2 Composite\n",
        "map_obj.addLayer(pre_burn_s2_median, vis_params, \"Pre-Burnt S2 Median\")\n",
        "map_obj.addLayer(post_burn_s2_median, vis_params, \"Post-Burnt S2 Median\")\n",
        "\n",
        "# Specify the visualisation options.\n",
        "vis_dnbr_params = {\"min\": [-0.2], \"max\": [0.2], \"bands\": [\"dNBR\"]}\n",
        "map_obj.addLayer(dNBR, vis_dnbr_params, \"dNBR\")\n",
        "\n",
        "map_obj"
      ]
    },
    {
      "cell_type": "markdown",
      "source": [
        "There is quite a lot of confusion with the water so before defining the burnt area we need to define a water mask - we'll use the pre-burn image for this."
      ],
      "metadata": {
        "id": "ttWM1Fe7tc4W"
      }
    },
    {
      "cell_type": "code",
      "source": [
        "# Calculate the Water Band Index (WBI) using the pre-fire median composite\n",
        "pre_med_ndvi = pre_burn_s2_median.expression(\n",
        "    \"(NIR-RED)/(NIR+RED)\",\n",
        "    {\n",
        "        \"RED\": pre_burn_s2_median.select(\"B4\"),\n",
        "        \"NIR\": pre_burn_s2_median.select(\"B8\"),\n",
        "    },\n",
        ").rename(\"NDVI\")\n",
        "\n",
        "# Calculate the Water Band Index (WBI) using the pre-fire median composite\n",
        "post_med_ndvi = post_burn_s2_median.expression(\n",
        "    \"(NIR-RED)/(NIR+RED)\",\n",
        "    {\n",
        "        \"RED\": post_burn_s2_median.select(\"B4\"),\n",
        "        \"NIR\": post_burn_s2_median.select(\"B8\"),\n",
        "    },\n",
        ").rename(\"NDVI\")\n",
        "\n",
        "# Calculate the Water Band Index (WBI) using the pre-fire median composite\n",
        "pre_med_wbi = pre_burn_s2_median.expression(\n",
        "    \"(BLUE)/(NIR)\",\n",
        "    {\n",
        "        \"BLUE\": pre_burn_s2_median.select(\"B2\"),\n",
        "        \"NIR\": pre_burn_s2_median.select(\"B8\"),\n",
        "    },\n",
        ").rename(\"WBI\")\n"
      ],
      "metadata": {
        "id": "awTsph0RtbEg"
      },
      "execution_count": null,
      "outputs": []
    },
    {
      "cell_type": "code",
      "source": [
        "# Threshold the dNBR to identify the burnt area as a unique region\n",
        "burnt_area_tmp = dNBR.gt(0.1).rename(\"burnt_area\").toInt()\n",
        "burnt_area_tmp = burnt_area_tmp.mask(burnt_area_tmp.eq(1))"
      ],
      "metadata": {
        "id": "3SQ-NUzRcxJ2"
      },
      "execution_count": null,
      "outputs": []
    },
    {
      "cell_type": "code",
      "source": [
        "map_obj = geemap.Map()\n",
        "\n",
        "# Create the centre point for the map\n",
        "cnt_pt_x = roi_west + (roi_east - roi_west) / 2\n",
        "cnt_pt_y = roi_south + (roi_north - roi_south) / 2\n",
        "cnt_pt = ee.Geometry.Point([cnt_pt_x, cnt_pt_y])\n",
        "# Specify the centre point and scale of the map\n",
        "map_obj.centerObject(cnt_pt, 12)\n",
        "\n",
        "# Add Google Satellite Imagery Basemap\n",
        "gg_img_url = \"http://www.google.cn/maps/vt?lyrs=s@189&gl=cn&x={x}&y={y}&z={z}\"\n",
        "map_obj.add_tile_layer(gg_img_url, name=\"Google Imagery\", attribution=\"Google\")\n",
        "\n",
        "# Specify the visualisation options.\n",
        "vis_params = {\"min\": [-0.2], \"max\": [0.2], \"bands\": [\"NBR\"]}\n",
        "map_obj.addLayer(pre_med_nbr, vis_params, \"Pre-Burnt NBR\")\n",
        "map_obj.addLayer(post_med_nbr, vis_params, \"Post-Burnt NBR\")\n",
        "\n",
        "# Specify the visualisation options.\n",
        "vis_dnbr_params = {\"min\": [-0.2], \"max\": [0.2], \"bands\": [\"dNBR\"]}\n",
        "map_obj.addLayer(dNBR, vis_dnbr_params, \"dNBR\")\n",
        "\n",
        "# Specify the visualisation options.\n",
        "vis_wbi_params = {\"min\": [0], \"max\": [1], \"bands\": [\"WBI\"]}\n",
        "map_obj.addLayer(pre_med_wbi, vis_wbi_params, \"WBI\")\n",
        "\n",
        "# Specify the visualisation options.\n",
        "vis_ndvi_params = {\"min\": [0], \"max\": [1], \"bands\": [\"NDVI\"]}\n",
        "map_obj.addLayer(pre_med_ndvi, vis_ndvi_params, \"NDVI (pre)\")\n",
        "map_obj.addLayer(post_med_ndvi, vis_ndvi_params, \"NDVI (post)\")\n",
        "\n",
        "# Specify the visualisation options.\n",
        "vis_burnt_params = {\n",
        "    \"min\": 0,\n",
        "    \"max\": 1,\n",
        "    \"palette\": [\"000000\", \"fcc200\"],\n",
        "    \"bands\": [\"burnt_area\"],\n",
        "}\n",
        "map_obj.addLayer(burnt_area_tmp, vis_burnt_params, \"Burnt Area\")\n",
        "\n",
        "map_obj"
      ],
      "metadata": {
        "id": "shyAQ0qztbHV"
      },
      "execution_count": null,
      "outputs": []
    },
    {
      "cell_type": "code",
      "source": [
        "# Threshold the WBI to identify the non-water areas as a unique region\n",
        "water_area = pre_med_wbi.lt(0.6).rename(\"water\").toInt()\n",
        "water_area = water_area.mask(water_area.eq(1))\n",
        "\n",
        "# Threshold the post-NDVI to identify the non-veg areas as a unique region\n",
        "veg_post_msk_area = post_med_ndvi.lt(0.3).rename(\"veg\").toInt()\n",
        "veg_post_msk_area = veg_post_msk_area.mask(veg_post_msk_area.eq(1))\n"
      ],
      "metadata": {
        "id": "KRg8KhzMtbJ5"
      },
      "execution_count": null,
      "outputs": []
    },
    {
      "cell_type": "code",
      "source": [
        "map_obj = geemap.Map()\n",
        "\n",
        "# Create the centre point for the map\n",
        "cnt_pt_x = roi_west + (roi_east - roi_west) / 2\n",
        "cnt_pt_y = roi_south + (roi_north - roi_south) / 2\n",
        "cnt_pt = ee.Geometry.Point([cnt_pt_x, cnt_pt_y])\n",
        "# Specify the centre point and scale of the map\n",
        "map_obj.centerObject(cnt_pt, 12)\n",
        "\n",
        "# Add Google Satellite Imagery Basemap\n",
        "gg_img_url = \"http://www.google.cn/maps/vt?lyrs=s@189&gl=cn&x={x}&y={y}&z={z}\"\n",
        "map_obj.add_tile_layer(gg_img_url, name=\"Google Imagery\", attribution=\"Google\")\n",
        "\n",
        "# Specify the visualisation options.\n",
        "vis_water_params = {\n",
        "    \"min\": 0,\n",
        "    \"max\": 1,\n",
        "    \"palette\": [\"000000\", \"0000FF\"],\n",
        "    \"bands\": [\"water\"],\n",
        "}\n",
        "map_obj.addLayer(water_area, vis_water_params, \"Water\")\n",
        "\n",
        "# Specify the visualisation options.\n",
        "vis_veg_params = {\n",
        "    \"min\": 0,\n",
        "    \"max\": 1,\n",
        "    \"palette\": [\"000000\", \"00FF00\"],\n",
        "    \"bands\": [\"veg\"],\n",
        "}\n",
        "map_obj.addLayer(veg_post_msk_area, vis_veg_params, \"Veg Msk\")\n",
        "\n",
        "map_obj"
      ],
      "metadata": {
        "id": "AeYBkOC9tbMu"
      },
      "execution_count": null,
      "outputs": []
    },
    {
      "cell_type": "code",
      "execution_count": null,
      "metadata": {
        "id": "hEQWQ4dc3PJP"
      },
      "outputs": [],
      "source": [
        "# Threshold the dNBR to identify the burnt area as a unique region\n",
        "burnt_area_msk_img = dNBR.gt(0.1).rename(\"burnt_area\").toInt()\n",
        "burnt_area_msk_img = burnt_area_msk_img.mask(burnt_area_msk_img.eq(1)).updateMask(water_area.eq(1)).updateMask(veg_post_msk_area.eq(1))"
      ]
    },
    {
      "cell_type": "code",
      "execution_count": null,
      "metadata": {
        "id": "VEcHs4zZ3PL1"
      },
      "outputs": [],
      "source": [
        "map_obj = geemap.Map()\n",
        "\n",
        "# Create the centre point for the map\n",
        "cnt_pt_x = roi_west + (roi_east - roi_west) / 2\n",
        "cnt_pt_y = roi_south + (roi_north - roi_south) / 2\n",
        "cnt_pt = ee.Geometry.Point([cnt_pt_x, cnt_pt_y])\n",
        "# Specify the centre point and scale of the map\n",
        "map_obj.centerObject(cnt_pt, 12)\n",
        "\n",
        "# Add Google Satellite Imagery Basemap\n",
        "gg_img_url = \"http://www.google.cn/maps/vt?lyrs=s@189&gl=cn&x={x}&y={y}&z={z}\"\n",
        "map_obj.add_tile_layer(gg_img_url, name=\"Google Imagery\", attribution=\"Google\")\n",
        "\n",
        "vis_wbi_params = {\"min\": [0], \"max\": [1], \"bands\": [\"WBI\"]}\n",
        "vis_ndvi_params = {\"min\": [0], \"max\": [1], \"bands\": [\"NDVI\"]}\n",
        "map_obj.addLayer(pre_med_wbi, vis_wbi_params, \"WBI\")\n",
        "map_obj.addLayer(post_med_ndvi, vis_ndvi_params, \"NDVI (post)\")\n",
        "\n",
        "# Specify the visualisation options.\n",
        "vis_dnbr_params = {\"min\": [-0.2], \"max\": [0.2], \"bands\": [\"dNBR\"]}\n",
        "\n",
        "# Add the Landsat Composite\n",
        "map_obj.addLayer(dNBR, vis_dnbr_params, \"dNBR\")\n",
        "\n",
        "# Specify the visualisation options.\n",
        "vis_burnt_params = {\n",
        "    \"min\": 0,\n",
        "    \"max\": 1,\n",
        "    \"palette\": [\"000000\", \"fcc200\"],\n",
        "    \"bands\": [\"burnt_area\"],\n",
        "}\n",
        "\n",
        "# Add the Landsat Composite\n",
        "map_obj.addLayer(burnt_area_msk_img, vis_burnt_params, \"Burnt Area\")\n",
        "\n",
        "map_obj"
      ]
    },
    {
      "cell_type": "code",
      "execution_count": null,
      "metadata": {
        "id": "2QE504cv9pE7"
      },
      "outputs": [],
      "source": [
        "# Classify fire severity based on dNBR thresholds\n",
        "fire_severity_img = (\n",
        "    dNBR.expression(\n",
        "        \"dNBR < 0.1 ? 0 : \"\n",
        "        + \"dNBR < 0.27 ? 1 : \"\n",
        "        + \"dNBR < 0.44 ? 2 : \"\n",
        "        + \"dNBR < 0.66 ? 3 : 4\",\n",
        "        {\"dNBR\": dNBR},\n",
        "    )\n",
        "    .rename(\"severity\")\n",
        "    .mask(burnt_area_msk_img.eq(1))\n",
        ")"
      ]
    },
    {
      "cell_type": "code",
      "execution_count": null,
      "metadata": {
        "id": "DxYPnjZxtJxj"
      },
      "outputs": [],
      "source": [
        "map_obj = geemap.Map()\n",
        "\n",
        "# Create the centre point for the map\n",
        "cnt_pt_x = roi_west + (roi_east - roi_west) / 2\n",
        "cnt_pt_y = roi_south + (roi_north - roi_south) / 2\n",
        "cnt_pt = ee.Geometry.Point([cnt_pt_x, cnt_pt_y])\n",
        "# Specify the centre point and scale of the map\n",
        "map_obj.centerObject(cnt_pt, 12)\n",
        "\n",
        "# Add Google Maps Basemap\n",
        "gg_maps_url = \"https://mt1.google.com/vt/lyrs=m&x={x}&y={y}&z={z}\"\n",
        "map_obj.add_tile_layer(gg_maps_url, name=\"Google Maps\", attribution=\"Google\")\n",
        "\n",
        "# Add Google Satellite Imagery Basemap\n",
        "gg_img_url = \"http://www.google.cn/maps/vt?lyrs=s@189&gl=cn&x={x}&y={y}&z={z}\"\n",
        "map_obj.add_tile_layer(gg_img_url, name=\"Google Imagery\", attribution=\"Google\")\n",
        "\n",
        "# Specify the visualisation options.\n",
        "vis_burnt_params = {\n",
        "    \"min\": 0,\n",
        "    \"max\": 4,\n",
        "    \"palette\": [\"003f5c\", \"58508d\", \"bc5090\", \"ff6361\", \"ffa600\"],\n",
        "}\n",
        "\n",
        "# Add the Landsat Composite\n",
        "map_obj.addLayer(fire_severity_img, vis_burnt_params, \"Burnt Severity\")\n",
        "\n",
        "map_obj"
      ]
    },
    {
      "cell_type": "code",
      "execution_count": null,
      "metadata": {
        "id": "BIvkzrNuu_Fg"
      },
      "outputs": [],
      "source": [
        "# Create an image collection with the burnt area and fire severity images\n",
        "out_img_collect = ee.ImageCollection([burnt_area_msk_img, fire_severity_img])\n",
        "# Convert the image collection to a 2 band image which will be exported.\n",
        "out_burn_img = out_img_collect.toBands().toInt().rename([\"burnt_area\", \"severity\"])"
      ]
    },
    {
      "cell_type": "code",
      "execution_count": null,
      "metadata": {
        "id": "V7-dc3hQGmuk"
      },
      "outputs": [],
      "source": [
        "out_burn_img"
      ]
    },
    {
      "cell_type": "code",
      "execution_count": null,
      "metadata": {
        "id": "CljPqz2mGj-a"
      },
      "outputs": [],
      "source": [
        "# Output file name and directory\n",
        "out_file_name = \"la_2025_fire_extent_severity\"\n",
        "out_gdrive_dir = \"burnt_area_outputs\"\n",
        "\n",
        "# Run export to save image to google drive\n",
        "task = ee.batch.Export.image.toDrive(\n",
        "    image=out_burn_img,\n",
        "    description=out_file_name,\n",
        "    folder=out_gdrive_dir,\n",
        "    scale=30,\n",
        "    region=tile_aoi,\n",
        "    fileFormat=\"GeoTIFF\",\n",
        "    formatOptions={\"cloudOptimized\": True, \"noData\": out_no_data_val},\n",
        ")\n",
        "task.start()"
      ]
    },
    {
      "cell_type": "code",
      "execution_count": null,
      "metadata": {
        "id": "7wy7_2IQEA3M"
      },
      "outputs": [],
      "source": []
    }
  ],
  "metadata": {
    "colab": {
      "provenance": [],
      "include_colab_link": true
    },
    "kernelspec": {
      "display_name": "Python 3 (ipykernel)",
      "language": "python",
      "name": "python3"
    },
    "language_info": {
      "codemirror_mode": {
        "name": "ipython",
        "version": 3
      },
      "file_extension": ".py",
      "mimetype": "text/x-python",
      "name": "python",
      "nbconvert_exporter": "python",
      "pygments_lexer": "ipython3",
      "version": "3.12.7"
    }
  },
  "nbformat": 4,
  "nbformat_minor": 0
}