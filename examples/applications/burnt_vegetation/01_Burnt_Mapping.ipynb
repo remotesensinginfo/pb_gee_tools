{
 "cells": [
  {
   "cell_type": "code",
   "execution_count": null,
   "metadata": {
    "id": "4QKP4bM-ujT4"
   },
   "outputs": [],
   "source": [
    "# The Google Earth Engine module\n",
    "import ee\n",
    "\n",
    "# The datetime module is used to specify the dates\n",
    "# to search for imagery\n",
    "import datetime\n",
    "\n",
    "# Import the geemap (https://geemap.org/) module which\n",
    "# has a visualisation tool\n",
    "import geemap\n",
    "\n",
    "# Geopandas allows us to read the shapefile used to\n",
    "# define the region of interest (ROI)\n",
    "import geopandas\n",
    "\n",
    "# The colab module to access data from your google drive\n",
    "from google.colab import drive"
   ]
  },
  {
   "cell_type": "code",
   "execution_count": null,
   "metadata": {
    "id": "DzFv5FiWxhlZ"
   },
   "outputs": [],
   "source": [
    "try:\n",
    "  import pb_gee_tools\n",
    "  import pb_gee_tools.datasets\n",
    "except:\n",
    "  !git clone https://github.com/remotesensinginfo/pb_gee_tools.git\n",
    "  !pip install ./pb_gee_tools/.\n",
    "  import pb_gee_tools\n",
    "  import pb_gee_tools.datasets"
   ]
  },
  {
   "cell_type": "code",
   "execution_count": null,
   "metadata": {
    "id": "p1rr97EDxoPD"
   },
   "outputs": [],
   "source": [
    "ee_prj_name = \"ee-pb-dev\"  # <==== Replace this with your own EE project string\n",
    "ee.Authenticate()\n",
    "ee.Initialize(project=ee_prj_name)"
   ]
  },
  {
   "cell_type": "code",
   "execution_count": null,
   "metadata": {
    "id": "OrW6m4lOxroi"
   },
   "outputs": [],
   "source": [
    "drive.mount(\"/content/drive\")"
   ]
  },
  {
   "cell_type": "code",
   "execution_count": null,
   "metadata": {
    "id": "ztYBloZXxrrF"
   },
   "outputs": [],
   "source": [
    "# The region of interest\n",
    "vec_roi_file = \"/content/drive/MyDrive/burnt_veg/burnt_area_roi.geojson\"\n",
    "\n",
    "# Dates before the fire\n",
    "pre_burn_start_date = datetime.datetime(year=2015, month=5, day=1)\n",
    "pre_burn_end_date = datetime.datetime(year=2015, month=7, day=31)\n",
    "\n",
    "# Dates after the fire\n",
    "post_burn_start_date = datetime.datetime(year=2015, month=8, day=1)\n",
    "post_burn_end_date = datetime.datetime(year=2015, month=10, day=31)\n",
    "\n",
    "# No Data Vaue\n",
    "out_no_data_val = 0.0"
   ]
  },
  {
   "cell_type": "code",
   "execution_count": null,
   "metadata": {
    "id": "mdMzgjEJxrtq"
   },
   "outputs": [],
   "source": [
    "# Read the vector layer and make sure it is project using WGS84 (EPSG:4326)\n",
    "vec_gdf = geopandas.read_file(vec_roi_file).to_crs(4326)\n",
    "\n",
    "# Get layer bbox: minx, miny, maxx, maxy\n",
    "gp_bbox = vec_gdf.total_bounds\n",
    "\n",
    "# Create the GEE geometry from the bbox.\n",
    "roi_west = gp_bbox[0]\n",
    "roi_east = gp_bbox[2]\n",
    "roi_north = gp_bbox[3]\n",
    "roi_south = gp_bbox[1]\n",
    "tile_aoi = ee.Geometry.BBox(roi_west, roi_south, roi_east, roi_north)"
   ]
  },
  {
   "cell_type": "code",
   "execution_count": null,
   "metadata": {
    "id": "cY5JP4LFxrwe"
   },
   "outputs": [],
   "source": [
    "# Get the landsat image collection\n",
    "pre_burn_ls_img_col = pb_gee_tools.datasets.get_landsat_sr_collection(\n",
    "    aoi=tile_aoi,\n",
    "    start_date=pre_burn_start_date,\n",
    "    end_date=pre_burn_end_date,\n",
    "    cloud_thres=70,\n",
    "    ignore_ls7=True,\n",
    "    out_lstm_bands=False,\n",
    ")\n",
    "\n",
    "# Filter the collection to a specific row/path\n",
    "pre_burn_ls_img_col = pre_burn_ls_img_col.filter(ee.Filter.eq(\"WRS_PATH\", 203)).filter(\n",
    "    ee.Filter.eq(\"WRS_ROW\", 32)\n",
    ")\n",
    "\n",
    "# Create a median composite\n",
    "pre_burn_ls_median = pre_burn_ls_img_col.median().unmask(out_no_data_val).clip(tile_aoi)\n",
    "\n",
    "# Scene with the least cloud\n",
    "pre_burn_ls_scn = pre_burn_ls_img_col.sort(\"CLOUD_COVER\").first()"
   ]
  },
  {
   "cell_type": "code",
   "execution_count": null,
   "metadata": {
    "id": "X9FUa-Jn2dmU"
   },
   "outputs": [],
   "source": [
    "pre_burn_ls_scn"
   ]
  },
  {
   "cell_type": "code",
   "execution_count": null,
   "metadata": {
    "id": "CUlHD-m7xry1"
   },
   "outputs": [],
   "source": [
    "# Get the landsat image collection\n",
    "post_burn_ls_img_col = pb_gee_tools.datasets.get_landsat_sr_collection(\n",
    "    aoi=tile_aoi,\n",
    "    start_date=post_burn_start_date,\n",
    "    end_date=post_burn_end_date,\n",
    "    cloud_thres=70,\n",
    "    ignore_ls7=True,\n",
    "    out_lstm_bands=False,\n",
    ")\n",
    "\n",
    "# Filter the collection to a specific row/path\n",
    "post_burn_ls_img_col = post_burn_ls_img_col.filter(\n",
    "    ee.Filter.eq(\"WRS_PATH\", 203)\n",
    ").filter(ee.Filter.eq(\"WRS_ROW\", 32))\n",
    "\n",
    "# Create a median composite\n",
    "post_burn_ls_median = (\n",
    "    post_burn_ls_img_col.median().unmask(out_no_data_val).clip(tile_aoi)\n",
    ")\n",
    "\n",
    "# Scene with least cloud\n",
    "post_burn_ls_scn = post_burn_ls_img_col.sort(\"CLOUD_COVER\").first()"
   ]
  },
  {
   "cell_type": "code",
   "execution_count": null,
   "metadata": {
    "id": "IMlZ8m9a1jMP"
   },
   "outputs": [],
   "source": [
    "post_burn_ls_scn"
   ]
  },
  {
   "cell_type": "code",
   "execution_count": null,
   "metadata": {
    "id": "brW-iBYgxr1a"
   },
   "outputs": [],
   "source": [
    "map_obj = geemap.Map()\n",
    "\n",
    "# Create the centre point for the map\n",
    "cnt_pt_x = roi_west + (roi_east - roi_west) / 2\n",
    "cnt_pt_y = roi_south + (roi_north - roi_south) / 2\n",
    "cnt_pt = ee.Geometry.Point([cnt_pt_x, cnt_pt_y])\n",
    "# Specify the centre point and scale of the map\n",
    "map_obj.centerObject(cnt_pt, 12)\n",
    "\n",
    "# Add Google Maps Basemap\n",
    "gg_maps_url = \"https://mt1.google.com/vt/lyrs=m&x={x}&y={y}&z={z}\"\n",
    "map_obj.add_tile_layer(gg_maps_url, name=\"Google Maps\", attribution=\"Google\")\n",
    "\n",
    "# Add Google Satellite Imagery Basemap\n",
    "gg_img_url = \"http://www.google.cn/maps/vt?lyrs=s@189&gl=cn&x={x}&y={y}&z={z}\"\n",
    "map_obj.add_tile_layer(gg_img_url, name=\"Google Imagery\", attribution=\"Google\")\n",
    "\n",
    "# Specify the visualisation options.\n",
    "vis_params = {\n",
    "    \"min\": [1320, 810, 20],\n",
    "    \"max\": [4050, 4070, 1620],\n",
    "    \"bands\": [\"NIR\", \"SWIR1\", \"Red\"],\n",
    "}\n",
    "\n",
    "# Add the Landsat Composite\n",
    "map_obj.addLayer(pre_burn_ls_median, vis_params, \"Pre-Burnt Landsat Median\")\n",
    "map_obj.addLayer(post_burn_ls_median, vis_params, \"Post-Burnt Landsat Median\")\n",
    "\n",
    "# Add the Landsat Scenes\n",
    "map_obj.addLayer(pre_burn_ls_scn, vis_params, \"Pre-Burnt Landsat Scene\")\n",
    "map_obj.addLayer(post_burn_ls_scn, vis_params, \"Post-Burnt Landsat Scene\")\n",
    "\n",
    "map_obj"
   ]
  },
  {
   "cell_type": "code",
   "execution_count": null,
   "metadata": {
    "id": "oAOtEhvXxr4A"
   },
   "outputs": [],
   "source": [
    "# Calculate the Normalised Burn Ratio (NBR) pre and post fire using the\n",
    "# median composite\n",
    "pre_med_nbr = pre_burn_ls_median.expression(\n",
    "    \"(NIR-SWIR)/(NIR+SWIR)\",\n",
    "    {\n",
    "        \"NIR\": pre_burn_ls_median.select(\"NIR\"),\n",
    "        \"SWIR\": pre_burn_ls_median.select(\"SWIR1\"),\n",
    "    },\n",
    ").rename(\"NBR\")\n",
    "\n",
    "post_med_nbr = post_burn_ls_median.expression(\n",
    "    \"(NIR-SWIR)/(NIR+SWIR)\",\n",
    "    {\n",
    "        \"NIR\": post_burn_ls_median.select(\"NIR\"),\n",
    "        \"SWIR\": post_burn_ls_median.select(\"SWIR1\"),\n",
    "    },\n",
    ").rename(\"NBR\")\n",
    "\n",
    "\n",
    "# Calculate the Normalised Burn Ratio (NBR) pre and post fire using the\n",
    "# single selected scene\n",
    "pre_scn_nbr = pre_burn_ls_scn.expression(\n",
    "    \"(NIR-SWIR)/(NIR+SWIR)\",\n",
    "    {\"NIR\": pre_burn_ls_scn.select(\"NIR\"), \"SWIR\": pre_burn_ls_scn.select(\"SWIR1\")},\n",
    ").rename(\"NBR\")\n",
    "\n",
    "post_scn_nbr = post_burn_ls_scn.expression(\n",
    "    \"(NIR-SWIR)/(NIR+SWIR)\",\n",
    "    {\"NIR\": post_burn_ls_scn.select(\"NIR\"), \"SWIR\": post_burn_ls_scn.select(\"SWIR1\")},\n",
    ").rename(\"NBR\")"
   ]
  },
  {
   "cell_type": "code",
   "execution_count": null,
   "metadata": {
    "id": "ss3QHk4x3PB1"
   },
   "outputs": [],
   "source": [
    "map_obj = geemap.Map()\n",
    "\n",
    "# Create the centre point for the map\n",
    "cnt_pt_x = roi_west + (roi_east - roi_west) / 2\n",
    "cnt_pt_y = roi_south + (roi_north - roi_south) / 2\n",
    "cnt_pt = ee.Geometry.Point([cnt_pt_x, cnt_pt_y])\n",
    "# Specify the centre point and scale of the map\n",
    "map_obj.centerObject(cnt_pt, 12)\n",
    "\n",
    "# Add Google Maps Basemap\n",
    "gg_maps_url = \"https://mt1.google.com/vt/lyrs=m&x={x}&y={y}&z={z}\"\n",
    "map_obj.add_tile_layer(gg_maps_url, name=\"Google Maps\", attribution=\"Google\")\n",
    "\n",
    "# Add Google Satellite Imagery Basemap\n",
    "gg_img_url = \"http://www.google.cn/maps/vt?lyrs=s@189&gl=cn&x={x}&y={y}&z={z}\"\n",
    "map_obj.add_tile_layer(gg_img_url, name=\"Google Imagery\", attribution=\"Google\")\n",
    "\n",
    "# Specify the visualisation options.\n",
    "vis_params = {\"min\": [-0.2], \"max\": [0.2], \"bands\": [\"NBR\"]}\n",
    "\n",
    "# Add the Landsat Composite\n",
    "map_obj.addLayer(pre_med_nbr, vis_params, \"Pre-Burnt Landsat Median NBR\")\n",
    "map_obj.addLayer(post_med_nbr, vis_params, \"Post-Burnt Landsat Median NBR\")\n",
    "\n",
    "# Add the Landsat Scenes\n",
    "map_obj.addLayer(pre_scn_nbr, vis_params, \"Pre-Burnt Landsat Scene NBR\")\n",
    "map_obj.addLayer(post_scn_nbr, vis_params, \"Post-Burnt Landsat Scene NBR\")\n",
    "\n",
    "map_obj"
   ]
  },
  {
   "cell_type": "code",
   "execution_count": null,
   "metadata": {
    "id": "HX1oYjF-3PEF"
   },
   "outputs": [],
   "source": [
    "# Create the Normalised Burn Ratio Difference (dNBR)\n",
    "dNBR = pre_med_nbr.subtract(post_med_nbr).rename(\"dNBR\")"
   ]
  },
  {
   "cell_type": "code",
   "execution_count": null,
   "metadata": {
    "id": "NN-a0czu3PGq"
   },
   "outputs": [],
   "source": [
    "map_obj = geemap.Map()\n",
    "\n",
    "# Create the centre point for the map\n",
    "cnt_pt_x = roi_west + (roi_east - roi_west) / 2\n",
    "cnt_pt_y = roi_south + (roi_north - roi_south) / 2\n",
    "cnt_pt = ee.Geometry.Point([cnt_pt_x, cnt_pt_y])\n",
    "# Specify the centre point and scale of the map\n",
    "map_obj.centerObject(cnt_pt, 12)\n",
    "\n",
    "# Add Google Maps Basemap\n",
    "gg_maps_url = \"https://mt1.google.com/vt/lyrs=m&x={x}&y={y}&z={z}\"\n",
    "map_obj.add_tile_layer(gg_maps_url, name=\"Google Maps\", attribution=\"Google\")\n",
    "\n",
    "# Add Google Satellite Imagery Basemap\n",
    "gg_img_url = \"http://www.google.cn/maps/vt?lyrs=s@189&gl=cn&x={x}&y={y}&z={z}\"\n",
    "map_obj.add_tile_layer(gg_img_url, name=\"Google Imagery\", attribution=\"Google\")\n",
    "\n",
    "\n",
    "# Specify the visualisation options.\n",
    "vis_params = {\n",
    "    \"min\": [1320, 810, 20],\n",
    "    \"max\": [4050, 4070, 1620],\n",
    "    \"bands\": [\"NIR\", \"SWIR1\", \"Red\"],\n",
    "}\n",
    "\n",
    "# Add the Landsat Composite\n",
    "map_obj.addLayer(pre_burn_ls_median, vis_params, \"Pre-Burnt Landsat Median\")\n",
    "map_obj.addLayer(post_burn_ls_median, vis_params, \"Post-Burnt Landsat Median\")\n",
    "\n",
    "# Specify the visualisation options.\n",
    "vis_dnbr_params = {\"min\": [-0.2], \"max\": [0.2], \"bands\": [\"dNBR\"]}\n",
    "\n",
    "# Add the Landsat Composite\n",
    "map_obj.addLayer(dNBR, vis_dnbr_params, \"dNBR (Landsat Median)\")\n",
    "\n",
    "map_obj"
   ]
  },
  {
   "cell_type": "code",
   "execution_count": null,
   "metadata": {
    "id": "hEQWQ4dc3PJP"
   },
   "outputs": [],
   "source": [
    "# Threshold the dNBR to identify the burnt area as a unique region\n",
    "burnt_area = dNBR.gt(0.1).rename(\"burnt_area\").toInt()\n",
    "burnt_area = burnt_area.mask(burnt_area.eq(1))"
   ]
  },
  {
   "cell_type": "code",
   "execution_count": null,
   "metadata": {
    "id": "VEcHs4zZ3PL1"
   },
   "outputs": [],
   "source": [
    "map_obj = geemap.Map()\n",
    "\n",
    "# Create the centre point for the map\n",
    "cnt_pt_x = roi_west + (roi_east - roi_west) / 2\n",
    "cnt_pt_y = roi_south + (roi_north - roi_south) / 2\n",
    "cnt_pt = ee.Geometry.Point([cnt_pt_x, cnt_pt_y])\n",
    "# Specify the centre point and scale of the map\n",
    "map_obj.centerObject(cnt_pt, 12)\n",
    "\n",
    "# Add Google Maps Basemap\n",
    "gg_maps_url = \"https://mt1.google.com/vt/lyrs=m&x={x}&y={y}&z={z}\"\n",
    "map_obj.add_tile_layer(gg_maps_url, name=\"Google Maps\", attribution=\"Google\")\n",
    "\n",
    "# Add Google Satellite Imagery Basemap\n",
    "gg_img_url = \"http://www.google.cn/maps/vt?lyrs=s@189&gl=cn&x={x}&y={y}&z={z}\"\n",
    "map_obj.add_tile_layer(gg_img_url, name=\"Google Imagery\", attribution=\"Google\")\n",
    "\n",
    "\n",
    "# Specify the visualisation options.\n",
    "vis_params = {\n",
    "    \"min\": [1320, 810, 20],\n",
    "    \"max\": [4050, 4070, 1620],\n",
    "    \"bands\": [\"NIR\", \"SWIR1\", \"Red\"],\n",
    "}\n",
    "\n",
    "# Add the Landsat Composite\n",
    "map_obj.addLayer(pre_burn_ls_median, vis_params, \"Pre-Burnt Landsat Median\")\n",
    "map_obj.addLayer(post_burn_ls_median, vis_params, \"Post-Burnt Landsat Median\")\n",
    "\n",
    "# Specify the visualisation options.\n",
    "vis_dnbr_params = {\"min\": [-0.2], \"max\": [0.2], \"bands\": [\"dNBR\"]}\n",
    "\n",
    "# Add the Landsat Composite\n",
    "map_obj.addLayer(dNBR, vis_dnbr_params, \"dNBR (Landsat Median)\")\n",
    "\n",
    "# Specify the visualisation options.\n",
    "vis_burnt_params = {\n",
    "    \"min\": 0,\n",
    "    \"max\": 1,\n",
    "    \"palette\": [\"000000\", \"fcc200\"],\n",
    "    \"bands\": [\"burnt_area\"],\n",
    "}\n",
    "\n",
    "# Add the Landsat Composite\n",
    "map_obj.addLayer(burnt_area, vis_burnt_params, \"Burnt Area (Landsat Median)\")\n",
    "\n",
    "map_obj"
   ]
  },
  {
   "cell_type": "code",
   "execution_count": null,
   "metadata": {
    "id": "8WZq8brd3POL"
   },
   "outputs": [],
   "source": [
    "# Convert the burnt area to a vector layer\n",
    "# (The burnt area region will be the largest polygon)\n",
    "burnt_area_vec = burnt_area.reduceToVectors(\n",
    "    geometry=tile_aoi,\n",
    "    scale=30,\n",
    "    geometryType=\"polygon\",\n",
    "    eightConnected=False,\n",
    "    labelProperty=\"zone\",\n",
    ")"
   ]
  },
  {
   "cell_type": "code",
   "execution_count": null,
   "metadata": {
    "id": "oIAWk76g3PQx"
   },
   "outputs": [],
   "source": [
    "burnt_area_vec.size()"
   ]
  },
  {
   "cell_type": "code",
   "execution_count": null,
   "metadata": {
    "id": "7EI4jEVa3PTU"
   },
   "outputs": [],
   "source": [
    "map_obj = geemap.Map()\n",
    "\n",
    "# Create the centre point for the map\n",
    "cnt_pt_x = roi_west + (roi_east - roi_west) / 2\n",
    "cnt_pt_y = roi_south + (roi_north - roi_south) / 2\n",
    "cnt_pt = ee.Geometry.Point([cnt_pt_x, cnt_pt_y])\n",
    "# Specify the centre point and scale of the map\n",
    "map_obj.centerObject(cnt_pt, 12)\n",
    "\n",
    "# Add Google Maps Basemap\n",
    "gg_maps_url = \"https://mt1.google.com/vt/lyrs=m&x={x}&y={y}&z={z}\"\n",
    "map_obj.add_tile_layer(gg_maps_url, name=\"Google Maps\", attribution=\"Google\")\n",
    "\n",
    "# Add Google Satellite Imagery Basemap\n",
    "gg_img_url = \"http://www.google.cn/maps/vt?lyrs=s@189&gl=cn&x={x}&y={y}&z={z}\"\n",
    "map_obj.add_tile_layer(gg_img_url, name=\"Google Imagery\", attribution=\"Google\")\n",
    "\n",
    "\n",
    "# Specify the visualisation options.\n",
    "vis_params = {\n",
    "    \"min\": [1320, 810, 20],\n",
    "    \"max\": [4050, 4070, 1620],\n",
    "    \"bands\": [\"NIR\", \"SWIR1\", \"Red\"],\n",
    "}\n",
    "\n",
    "# Add the Landsat Composite\n",
    "map_obj.addLayer(pre_burn_ls_median, vis_params, \"Pre-Burnt Landsat Median\")\n",
    "map_obj.addLayer(post_burn_ls_median, vis_params, \"Post-Burnt Landsat Median\")\n",
    "\n",
    "# Specify the visualisation options.\n",
    "vis_dnbr_params = {\"min\": [-0.2], \"max\": [0.2], \"bands\": [\"dNBR\"]}\n",
    "\n",
    "# Add the Landsat Composite\n",
    "map_obj.addLayer(dNBR, vis_dnbr_params, \"dNBR (Landsat Median)\")\n",
    "\n",
    "\n",
    "# Add the Landsat Composite\n",
    "map_obj.addLayer(burnt_area_vec, {}, \"Burnt Area (Vector)\")\n",
    "\n",
    "map_obj"
   ]
  },
  {
   "cell_type": "code",
   "execution_count": null,
   "metadata": {
    "id": "okZv0-el9o1q"
   },
   "outputs": [],
   "source": [
    "# Select the Largest Polygon\n",
    "burnt_area_vec_area = burnt_area_vec.map(\n",
    "    lambda feature: feature.set(\"area\", feature.geometry().area(maxError=1))\n",
    ")\n",
    "burnt_area_vec_area = burnt_area_vec_area.sort(\"area\", False)\n",
    "largest_burnt_area_poly_vec = ee.FeatureCollection([burnt_area_vec_area.first()])"
   ]
  },
  {
   "cell_type": "code",
   "execution_count": null,
   "metadata": {
    "id": "GyyBaUYZCt6-"
   },
   "outputs": [],
   "source": [
    "# Check the size - there should just be 1 output polygon.\n",
    "largest_burnt_area_poly_vec.size()"
   ]
  },
  {
   "cell_type": "code",
   "execution_count": null,
   "metadata": {
    "id": "OAxzUgFE9o9f"
   },
   "outputs": [],
   "source": [
    "map_obj = geemap.Map()\n",
    "\n",
    "# Create the centre point for the map\n",
    "cnt_pt_x = roi_west + (roi_east - roi_west) / 2\n",
    "cnt_pt_y = roi_south + (roi_north - roi_south) / 2\n",
    "cnt_pt = ee.Geometry.Point([cnt_pt_x, cnt_pt_y])\n",
    "# Specify the centre point and scale of the map\n",
    "map_obj.centerObject(cnt_pt, 12)\n",
    "\n",
    "# Add Google Maps Basemap\n",
    "gg_maps_url = \"https://mt1.google.com/vt/lyrs=m&x={x}&y={y}&z={z}\"\n",
    "map_obj.add_tile_layer(gg_maps_url, name=\"Google Maps\", attribution=\"Google\")\n",
    "\n",
    "# Add Google Satellite Imagery Basemap\n",
    "gg_img_url = \"http://www.google.cn/maps/vt?lyrs=s@189&gl=cn&x={x}&y={y}&z={z}\"\n",
    "map_obj.add_tile_layer(gg_img_url, name=\"Google Imagery\", attribution=\"Google\")\n",
    "\n",
    "\n",
    "# Specify the visualisation options.\n",
    "vis_params = {\n",
    "    \"min\": [1320, 810, 20],\n",
    "    \"max\": [4050, 4070, 1620],\n",
    "    \"bands\": [\"NIR\", \"SWIR1\", \"Red\"],\n",
    "}\n",
    "\n",
    "# Add the Landsat Composite\n",
    "map_obj.addLayer(pre_burn_ls_median, vis_params, \"Pre-Burnt Landsat Median\")\n",
    "map_obj.addLayer(post_burn_ls_median, vis_params, \"Post-Burnt Landsat Median\")\n",
    "\n",
    "# Specify the visualisation options.\n",
    "vis_dnbr_params = {\"min\": [-0.2], \"max\": [0.2], \"bands\": [\"dNBR\"]}\n",
    "\n",
    "# Add the Landsat Composite\n",
    "map_obj.addLayer(dNBR, vis_dnbr_params, \"dNBR (Landsat Median)\")\n",
    "\n",
    "\n",
    "# Add the Landsat Composite\n",
    "map_obj.addLayer(largest_burnt_area_poly_vec, {}, \"Burnt Area (Vector)\")\n",
    "\n",
    "map_obj"
   ]
  },
  {
   "cell_type": "code",
   "execution_count": null,
   "metadata": {
    "id": "hljaC2w_9pAL"
   },
   "outputs": [],
   "source": [
    "# Rasterise the Largest Polygon.\n",
    "\n",
    "# Specify the property (or properties) to use from the features.\n",
    "properties = [\"zone\"]  # Replace 'zone' with the actual property name if different\n",
    "\n",
    "# Specify the reducer to aggregate values (e.g., first, mean, median, etc.).\n",
    "reducer = ee.Reducer.first()  # Use ee.Reducer.first() to take the first value\n",
    "\n",
    "# Now call reduceToImage() with the required arguments.\n",
    "burnt_area_msk_img = largest_burnt_area_poly_vec.reduceToImage(\n",
    "    properties, reducer\n",
    ").rename(\"burnt_area\")"
   ]
  },
  {
   "cell_type": "code",
   "execution_count": null,
   "metadata": {
    "id": "WuT7gEK39pCm"
   },
   "outputs": [],
   "source": [
    "map_obj = geemap.Map()\n",
    "\n",
    "# Create the centre point for the map\n",
    "cnt_pt_x = roi_west + (roi_east - roi_west) / 2\n",
    "cnt_pt_y = roi_south + (roi_north - roi_south) / 2\n",
    "cnt_pt = ee.Geometry.Point([cnt_pt_x, cnt_pt_y])\n",
    "# Specify the centre point and scale of the map\n",
    "map_obj.centerObject(cnt_pt, 12)\n",
    "\n",
    "# Add Google Maps Basemap\n",
    "gg_maps_url = \"https://mt1.google.com/vt/lyrs=m&x={x}&y={y}&z={z}\"\n",
    "map_obj.add_tile_layer(gg_maps_url, name=\"Google Maps\", attribution=\"Google\")\n",
    "\n",
    "# Add Google Satellite Imagery Basemap\n",
    "gg_img_url = \"http://www.google.cn/maps/vt?lyrs=s@189&gl=cn&x={x}&y={y}&z={z}\"\n",
    "map_obj.add_tile_layer(gg_img_url, name=\"Google Imagery\", attribution=\"Google\")\n",
    "\n",
    "\n",
    "# Specify the visualisation options.\n",
    "vis_params = {\n",
    "    \"min\": [1320, 810, 20],\n",
    "    \"max\": [4050, 4070, 1620],\n",
    "    \"bands\": [\"NIR\", \"SWIR1\", \"Red\"],\n",
    "}\n",
    "\n",
    "# Add the Landsat Composite\n",
    "map_obj.addLayer(pre_burn_ls_median, vis_params, \"Pre-Burnt Landsat Median\")\n",
    "map_obj.addLayer(post_burn_ls_median, vis_params, \"Post-Burnt Landsat Median\")\n",
    "\n",
    "# Specify the visualisation options.\n",
    "vis_dnbr_params = {\"min\": [-0.2], \"max\": [0.2], \"bands\": [\"dNBR\"]}\n",
    "\n",
    "# Add the Landsat Composite\n",
    "map_obj.addLayer(dNBR, vis_dnbr_params, \"dNBR (Landsat Median)\")\n",
    "\n",
    "# Specify the visualisation options.\n",
    "vis_burnt_params = {\"min\": 0, \"max\": 1, \"palette\": [\"000000\", \"fcc200\"]}\n",
    "\n",
    "# Add the Landsat Composite\n",
    "map_obj.addLayer(burnt_area_msk_img, vis_burnt_params, \"Burnt Area (Landsat Median)\")\n",
    "\n",
    "map_obj"
   ]
  },
  {
   "cell_type": "code",
   "execution_count": null,
   "metadata": {
    "id": "2QE504cv9pE7"
   },
   "outputs": [],
   "source": [
    "# Classify fire severity based on dNBR thresholds\n",
    "fire_severity_img = (\n",
    "    dNBR.expression(\n",
    "        \"dNBR < 0.1 ? 0 : \"\n",
    "        + \"dNBR < 0.27 ? 1 : \"\n",
    "        + \"dNBR < 0.44 ? 2 : \"\n",
    "        + \"dNBR < 0.66 ? 3 : 4\",\n",
    "        {\"dNBR\": dNBR},\n",
    "    )\n",
    "    .rename(\"severity\")\n",
    "    .mask(burnt_area_msk_img.eq(1))\n",
    ")"
   ]
  },
  {
   "cell_type": "code",
   "execution_count": null,
   "metadata": {
    "id": "DxYPnjZxtJxj"
   },
   "outputs": [],
   "source": [
    "map_obj = geemap.Map()\n",
    "\n",
    "# Create the centre point for the map\n",
    "cnt_pt_x = roi_west + (roi_east - roi_west) / 2\n",
    "cnt_pt_y = roi_south + (roi_north - roi_south) / 2\n",
    "cnt_pt = ee.Geometry.Point([cnt_pt_x, cnt_pt_y])\n",
    "# Specify the centre point and scale of the map\n",
    "map_obj.centerObject(cnt_pt, 12)\n",
    "\n",
    "# Add Google Maps Basemap\n",
    "gg_maps_url = \"https://mt1.google.com/vt/lyrs=m&x={x}&y={y}&z={z}\"\n",
    "map_obj.add_tile_layer(gg_maps_url, name=\"Google Maps\", attribution=\"Google\")\n",
    "\n",
    "# Add Google Satellite Imagery Basemap\n",
    "gg_img_url = \"http://www.google.cn/maps/vt?lyrs=s@189&gl=cn&x={x}&y={y}&z={z}\"\n",
    "map_obj.add_tile_layer(gg_img_url, name=\"Google Imagery\", attribution=\"Google\")\n",
    "\n",
    "\n",
    "# Specify the visualisation options.\n",
    "vis_params = {\n",
    "    \"min\": [1320, 810, 20],\n",
    "    \"max\": [4050, 4070, 1620],\n",
    "    \"bands\": [\"NIR\", \"SWIR1\", \"Red\"],\n",
    "}\n",
    "\n",
    "# Add the Landsat Composite\n",
    "map_obj.addLayer(pre_burn_ls_median, vis_params, \"Pre-Burnt Landsat Median\")\n",
    "map_obj.addLayer(post_burn_ls_median, vis_params, \"Post-Burnt Landsat Median\")\n",
    "\n",
    "# Specify the visualisation options.\n",
    "vis_dnbr_params = {\"min\": [-0.2], \"max\": [0.2], \"bands\": [\"dNBR\"]}\n",
    "\n",
    "# Add the Landsat Composite\n",
    "map_obj.addLayer(dNBR, vis_dnbr_params, \"dNBR (Landsat Median)\")\n",
    "\n",
    "# Specify the visualisation options.\n",
    "vis_burnt_params = {\n",
    "    \"min\": 0,\n",
    "    \"max\": 4,\n",
    "    \"palette\": [\"003f5c\", \"58508d\", \"bc5090\", \"ff6361\", \"ffa600\"],\n",
    "}\n",
    "\n",
    "# Add the Landsat Composite\n",
    "map_obj.addLayer(fire_severity_img, vis_burnt_params, \"Burnt Severity\")\n",
    "\n",
    "map_obj"
   ]
  },
  {
   "cell_type": "code",
   "execution_count": null,
   "metadata": {
    "id": "BIvkzrNuu_Fg"
   },
   "outputs": [],
   "source": [
    "# Create an image collection with the burnt area and fire severity images\n",
    "out_img_collect = ee.ImageCollection([burnt_area_msk_img, fire_severity_img])\n",
    "# Convert the image collection to a 2 band image which will be exported.\n",
    "out_burn_img = out_img_collect.toBands().toInt().rename([\"burnt_area\", \"severity\"])"
   ]
  },
  {
   "cell_type": "code",
   "execution_count": null,
   "metadata": {
    "id": "V7-dc3hQGmuk"
   },
   "outputs": [],
   "source": [
    "out_burn_img"
   ]
  },
  {
   "cell_type": "code",
   "execution_count": null,
   "metadata": {
    "id": "CljPqz2mGj-a"
   },
   "outputs": [],
   "source": [
    "# Output file name and directory\n",
    "out_file_name = \"fire_extent_severity\"\n",
    "out_gdrive_dir = \"burnt_area_outputs\"\n",
    "\n",
    "# Run export to save image to google drive\n",
    "task = ee.batch.Export.image.toDrive(\n",
    "    image=out_burn_img,\n",
    "    description=out_file_name,\n",
    "    folder=out_gdrive_dir,\n",
    "    scale=30,\n",
    "    region=tile_aoi,\n",
    "    fileFormat=\"GeoTIFF\",\n",
    "    formatOptions={\"cloudOptimized\": True, \"noData\": out_no_data_val},\n",
    ")\n",
    "task.start()"
   ]
  },
  {
   "cell_type": "code",
   "execution_count": null,
   "metadata": {
    "id": "BPzVE5E6xH06"
   },
   "outputs": [],
   "source": [
    "# Run export to save image to google earth engine asset\n",
    "# REMEMBER TO CREATE THE burnt_veg_example FOLDER!!\n",
    "asset_id = f\"projects/{ee_prj_name}/assets/burnt_veg_example/burnt_area_severity\"\n",
    "out_task_descrip = \"fire_extent_severity_asset_export\"\n",
    "\n",
    "task = ee.batch.Export.image.toAsset(\n",
    "    image=out_burn_img,\n",
    "    description=out_task_descrip,\n",
    "    assetId=asset_id,\n",
    "    scale=30,\n",
    "    region=tile_aoi,\n",
    "    pyramidingPolicy={\"burnt_area\": \"mode\", \"severity\": \"mode\"},\n",
    ")\n",
    "task.start()"
   ]
  },
  {
   "cell_type": "code",
   "execution_count": null,
   "metadata": {
    "id": "7wy7_2IQEA3M"
   },
   "outputs": [],
   "source": []
  }
 ],
 "metadata": {
  "colab": {
   "provenance": []
  },
  "kernelspec": {
   "display_name": "Python 3 (ipykernel)",
   "language": "python",
   "name": "python3"
  },
  "language_info": {
   "codemirror_mode": {
    "name": "ipython",
    "version": 3
   },
   "file_extension": ".py",
   "mimetype": "text/x-python",
   "name": "python",
   "nbconvert_exporter": "python",
   "pygments_lexer": "ipython3",
   "version": "3.12.7"
  }
 },
 "nbformat": 4,
 "nbformat_minor": 4
}
