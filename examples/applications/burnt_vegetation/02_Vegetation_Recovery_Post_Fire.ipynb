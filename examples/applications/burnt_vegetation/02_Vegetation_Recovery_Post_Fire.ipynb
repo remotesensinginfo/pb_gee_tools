{
  "cells": [
    {
      "cell_type": "markdown",
      "metadata": {
        "id": "view-in-github",
        "colab_type": "text"
      },
      "source": [
        "<a href=\"https://colab.research.google.com/github/remotesensinginfo/pb_gee_tools/blob/main/examples/applications/burnt_vegetation/02_Vegetation_Recovery_Post_Fire.ipynb\" target=\"_parent\"><img src=\"https://colab.research.google.com/assets/colab-badge.svg\" alt=\"Open In Colab\"/></a>"
      ]
    },
    {
      "cell_type": "code",
      "execution_count": null,
      "metadata": {
        "id": "ru1s1agp4YGc"
      },
      "outputs": [],
      "source": [
        "# The Google Earth Engine module\n",
        "import ee\n",
        "\n",
        "# The datetime module is used to specify the dates\n",
        "# to search for imagery\n",
        "import datetime\n",
        "\n",
        "# Import the geemap (https://geemap.org/) module which\n",
        "# has a visualisation tool\n",
        "import geemap\n",
        "\n",
        "# Geopandas allows us to read the shapefile used to\n",
        "# define the region of interest (ROI)\n",
        "import geopandas\n",
        "\n",
        "# Load the matplotlib library for making plots\n",
        "import matplotlib.pyplot as plt\n",
        "\n",
        "# Import the numpy module\n",
        "import numpy\n",
        "\n",
        "# Pandas allows us to create a spreadsheet output\n",
        "# datasets\n",
        "import pandas\n",
        "\n",
        "# Import the scipy statistics module.\n",
        "import scipy.stats\n",
        "\n",
        "# The colab module to access data from your google drive\n",
        "from google.colab import drive"
      ]
    },
    {
      "cell_type": "code",
      "execution_count": null,
      "metadata": {
        "id": "2jMXzjXs4upo"
      },
      "outputs": [],
      "source": [
        "try:\n",
        "  import pb_gee_tools\n",
        "  import pb_gee_tools.datasets\n",
        "except:\n",
        "  !git clone https://github.com/remotesensinginfo/pb_gee_tools.git\n",
        "  !pip install ./pb_gee_tools/.\n",
        "  import pb_gee_tools\n",
        "  import pb_gee_tools.datasets"
      ]
    },
    {
      "cell_type": "code",
      "execution_count": null,
      "metadata": {
        "id": "zh59EaNp4uxU"
      },
      "outputs": [],
      "source": [
        "ee_prj_name = \"ee-pb-dev\"  # <==== Replace this with your own EE project string\n",
        "ee.Authenticate()\n",
        "ee.Initialize(project=ee_prj_name)"
      ]
    },
    {
      "cell_type": "code",
      "execution_count": null,
      "metadata": {
        "id": "EWaLE5eC4u0I"
      },
      "outputs": [],
      "source": [
        "drive.mount(\"/content/drive\")"
      ]
    },
    {
      "cell_type": "code",
      "execution_count": null,
      "metadata": {
        "id": "OiigKM_J4u28"
      },
      "outputs": [],
      "source": [
        "# The region of interest\n",
        "vec_roi_file = \"/content/drive/MyDrive/burnt_veg/burnt_area_roi.geojson\"\n",
        "\n",
        "# The date of the fire event\n",
        "fire_date = datetime.datetime(year=2015, month=8, day=20)\n",
        "\n",
        "# Dates before the fire\n",
        "pre_burn_start_date = datetime.datetime(year=2007, month=1, day=1)\n",
        "pre_burn_end_date = datetime.datetime(year=2015, month=8, day=20)\n",
        "\n",
        "# Dates after the fire\n",
        "post_burn_start_date = datetime.datetime(year=2015, month=8, day=20)\n",
        "post_burn_end_date = datetime.datetime(year=2024, month=12, day=31)\n",
        "\n",
        "# No Data Value\n",
        "out_no_data_val = 0.0"
      ]
    },
    {
      "cell_type": "code",
      "execution_count": null,
      "metadata": {
        "id": "AV37qMR34u5y"
      },
      "outputs": [],
      "source": [
        "# Read the vector layer and make sure it is project using WGS84 (EPSG:4326)\n",
        "vec_gdf = geopandas.read_file(vec_roi_file).to_crs(4326)\n",
        "\n",
        "# Get layer bbox: minx, miny, maxx, maxy\n",
        "gp_bbox = vec_gdf.total_bounds\n",
        "\n",
        "# Create the GEE geometry from the bbox.\n",
        "roi_west = gp_bbox[0]\n",
        "roi_east = gp_bbox[2]\n",
        "roi_north = gp_bbox[3]\n",
        "roi_south = gp_bbox[1]\n",
        "tile_aoi = ee.Geometry.BBox(roi_west, roi_south, roi_east, roi_north)"
      ]
    },
    {
      "cell_type": "code",
      "execution_count": null,
      "metadata": {
        "id": "jIfOYu7F4u8j"
      },
      "outputs": [],
      "source": [
        "# Get the landsat image collection\n",
        "pre_burn_ls_img_col = pb_gee_tools.datasets.get_landsat_sr_collection(\n",
        "    aoi=tile_aoi,\n",
        "    start_date=pre_burn_start_date,\n",
        "    end_date=pre_burn_end_date,\n",
        "    cloud_thres=70,\n",
        "    ignore_ls7=False,\n",
        "    out_lstm_bands=False,\n",
        ")\n",
        "\n",
        "# Filter the collection to a specific row/path\n",
        "pre_burn_ls_img_col = pre_burn_ls_img_col.filter(ee.Filter.eq(\"WRS_PATH\", 203)).filter(\n",
        "    ee.Filter.eq(\"WRS_ROW\", 32)\n",
        ")"
      ]
    },
    {
      "cell_type": "code",
      "execution_count": null,
      "metadata": {
        "id": "xBsyN-Cc4u_n"
      },
      "outputs": [],
      "source": [
        "# Get the landsat image collection\n",
        "post_burn_ls_img_col = pb_gee_tools.datasets.get_landsat_sr_collection(\n",
        "    aoi=tile_aoi,\n",
        "    start_date=post_burn_start_date,\n",
        "    end_date=post_burn_end_date,\n",
        "    cloud_thres=70,\n",
        "    ignore_ls7=False,\n",
        "    out_lstm_bands=False,\n",
        ")\n",
        "\n",
        "# Filter the collection to a specific row/path\n",
        "post_burn_ls_img_col = post_burn_ls_img_col.filter(\n",
        "    ee.Filter.eq(\"WRS_PATH\", 203)\n",
        ").filter(ee.Filter.eq(\"WRS_ROW\", 32))"
      ]
    },
    {
      "cell_type": "code",
      "execution_count": null,
      "metadata": {
        "id": "sZ4KACdX4_9B"
      },
      "outputs": [],
      "source": [
        "# Specify the path to the asset exported from the first notebook\n",
        "asset_id = f'projects/{ee_prj_name}/assets/burnt_veg_example/burnt_area_severity'\n"
      ]
    },
    {
      "cell_type": "code",
      "execution_count": null,
      "metadata": {
        "id": "EbG9wwj7_tf7"
      },
      "outputs": [],
      "source": [
        "# Load the burnt area image\n",
        "burn_area_severity_img = ee.Image.load(asset_id)\n",
        "# Select the first band 'burnt_area'\n",
        "burnt_area_img = burn_area_severity_img.select(\"burnt_area\")"
      ]
    },
    {
      "cell_type": "code",
      "execution_count": null,
      "metadata": {
        "id": "x_VU3RZt4__y"
      },
      "outputs": [],
      "source": [
        "# Convert the burnt area to a vector\n",
        "burnt_area_vec = burnt_area_img.reduceToVectors(\n",
        "    geometry=tile_aoi,\n",
        "    scale=30,\n",
        "    geometryType=\"polygon\",\n",
        "    eightConnected=False,\n",
        "    labelProperty=\"zone\",\n",
        ")"
      ]
    },
    {
      "cell_type": "code",
      "execution_count": null,
      "metadata": {
        "id": "RX2D7PJs5AC1"
      },
      "outputs": [],
      "source": [
        "# A function to calculate the NDVI for the Landsat images\n",
        "# This function will be mapped to the image collection\n",
        "# so the NDVI will be calculated for each of the Landsat\n",
        "# images in a image collection.\n",
        "def calculate_ndvi(image):\n",
        "    ndvi = image.normalizedDifference([\"NIR\", \"Red\"]).rename(\"NDVI\")\n",
        "    return image.addBands(ndvi)"
      ]
    },
    {
      "cell_type": "code",
      "execution_count": null,
      "metadata": {
        "id": "DTodnxTJ5AFq"
      },
      "outputs": [],
      "source": [
        "# Calculate the NDVI for each of the Landsat images pre-fire\n",
        "pre_burn_ndvi_ls_img_col = pre_burn_ls_img_col.map(calculate_ndvi)\n",
        "# Calculate the NDVI for each of the Landsat images post-fire\n",
        "post_burn_ndvi_ls_img_col = post_burn_ls_img_col.map(calculate_ndvi)"
      ]
    },
    {
      "cell_type": "code",
      "execution_count": null,
      "metadata": {
        "id": "oLpWfV3p5AIQ"
      },
      "outputs": [],
      "source": [
        "# Monitor vegetation recovery\n",
        "# Create a time series of NDVI values\n",
        "def create_time_series_ndvi(image):\n",
        "    stats = image.reduceRegion(\n",
        "        reducer=ee.Reducer.mean(), geometry=burnt_area_vec, scale=30, maxPixels=1e9\n",
        "    )\n",
        "    return ee.Feature(None, {\"date\": image.date().format(), \"NDVI\": stats.get(\"NDVI\")})"
      ]
    },
    {
      "cell_type": "code",
      "execution_count": null,
      "metadata": {
        "id": "TiBKcj8Q5ALD"
      },
      "outputs": [],
      "source": [
        "# Perform the zonal stats for the burnt area extracting the NDVI values\n",
        "# before the fire mapping the image collection of Landsat images.\n",
        "pre_burn_ndvi_time_series = pre_burn_ndvi_ls_img_col.map(\n",
        "    create_time_series_ndvi\n",
        ").getInfo()\n",
        "\n",
        "# Perform the zonal stats for the burnt area extracting the NDVI values\n",
        "# after the fire mapping the image collection of Landsat images.\n",
        "post_burn_ndvi_time_series = post_burn_ndvi_ls_img_col.map(\n",
        "    create_time_series_ndvi\n",
        ").getInfo()"
      ]
    },
    {
      "cell_type": "code",
      "execution_count": null,
      "metadata": {
        "id": "J8dfj0H5AdQ2"
      },
      "outputs": [],
      "source": [
        "# Convert time series to a pandas DataFrame\n",
        "pre_burn_feats = pre_burn_ndvi_time_series[\"features\"]\n",
        "\n",
        "# Create a list of the dates and NDVI data\n",
        "pre_burn_data = list()\n",
        "for pre_burn_feat in pre_burn_feats:\n",
        "    if \"NDVI\" in pre_burn_feat[\"properties\"]:\n",
        "        pre_burn_data.append(\n",
        "            {\n",
        "                \"date\": pre_burn_feat[\"properties\"][\"date\"],\n",
        "                \"NDVI\": pre_burn_feat[\"properties\"][\"NDVI\"],\n",
        "            }\n",
        "        )\n",
        "\n",
        "# Convert the list of a Pandas Dataframe\n",
        "pre_burn_ndvi_df = pandas.DataFrame(pre_burn_data)\n",
        "# Convert the date column to a datatime object\n",
        "pre_burn_ndvi_df[\"date\"] = pandas.to_datetime(pre_burn_ndvi_df[\"date\"])\n",
        "# Sort the Dataframe by the date\n",
        "pre_burn_ndvi_df = pre_burn_ndvi_df.sort_values(\"date\")\n",
        "pre_burn_ndvi_df"
      ]
    },
    {
      "cell_type": "code",
      "execution_count": null,
      "metadata": {
        "id": "IFEjy97DAdTR"
      },
      "outputs": [],
      "source": [
        "# Convert time series to a pandas DataFrame\n",
        "post_burn_feats = post_burn_ndvi_time_series[\"features\"]\n",
        "\n",
        "# Create a list of the dates and NDVI data\n",
        "post_burn_data = list()\n",
        "for post_burn_feat in post_burn_feats:\n",
        "    if \"NDVI\" in post_burn_feat[\"properties\"]:\n",
        "        post_burn_data.append(\n",
        "            {\n",
        "                \"date\": post_burn_feat[\"properties\"][\"date\"],\n",
        "                \"NDVI\": post_burn_feat[\"properties\"][\"NDVI\"],\n",
        "            }\n",
        "        )\n",
        "\n",
        "# Convert the list of a Pandas Dataframe\n",
        "post_burn_ndvi_df = pandas.DataFrame(post_burn_data)\n",
        "# Convert the date column to a datatime object\n",
        "post_burn_ndvi_df[\"date\"] = pandas.to_datetime(post_burn_ndvi_df[\"date\"])\n",
        "# Sort the Dataframe by the date\n",
        "post_burn_ndvi_df = post_burn_ndvi_df.sort_values(\"date\")\n",
        "post_burn_ndvi_df"
      ]
    },
    {
      "cell_type": "code",
      "execution_count": null,
      "metadata": {
        "id": "XmM4g7P4AdYW"
      },
      "outputs": [],
      "source": [
        "# Create a plot to visualise the NDVI before and after the fire\n",
        "\n",
        "plt.figure(figsize=(10, 6))\n",
        "plt.plot(\n",
        "    pre_burn_ndvi_df[\"date\"],\n",
        "    pre_burn_ndvi_df[\"NDVI\"],\n",
        "    label=\"Pre-fire NDVI\",\n",
        "    color=\"Green\",\n",
        ")\n",
        "plt.axhline(\n",
        "    y=pre_burn_ndvi_df[\"NDVI\"].mean(),\n",
        "    color=\"orange\",\n",
        "    linestyle=\"--\",\n",
        "    label=\"Pre-fire NDVI (mean)\",\n",
        ")\n",
        "\n",
        "plt.plot(\n",
        "    post_burn_ndvi_df[\"date\"],\n",
        "    post_burn_ndvi_df[\"NDVI\"],\n",
        "    label=\"Post-fire NDVI\",\n",
        "    color=\"blue\",\n",
        ")\n",
        "plt.axhline(\n",
        "    y=post_burn_ndvi_df[\"NDVI\"].mean(),\n",
        "    color=\"red\",\n",
        "    linestyle=\"--\",\n",
        "    label=\"Post-fire NDVI (mean)\",\n",
        ")\n",
        "\n",
        "plt.title(\"Vegetation Recovery Following Fire\")\n",
        "plt.xlabel(\"Date\")\n",
        "plt.ylabel(\"NDVI\")\n",
        "plt.legend()\n",
        "plt.grid(True)\n",
        "plt.show()"
      ]
    },
    {
      "cell_type": "code",
      "execution_count": null,
      "metadata": {
        "id": "bJd2AJwxAdbD"
      },
      "outputs": [],
      "source": [
        "# Save the pandas dataframes to the google drive\n",
        "pre_burn_ndvi_df.to_excel(\n",
        "    \"/content/drive/MyDrive/burnt_veg/pre_burn_ndvi.xlsx\", index=False\n",
        ")\n",
        "post_burn_ndvi_df.to_excel(\n",
        "    \"/content/drive/MyDrive/burnt_veg/post_burn_ndvi.xlsx\", index=False\n",
        ")"
      ]
    },
    {
      "cell_type": "code",
      "execution_count": null,
      "metadata": {
        "id": "2kaGsUlQQCEH"
      },
      "outputs": [],
      "source": [
        "# Monitor vegetation recovery\n",
        "# While the NDVI providing information on the vegetation cover\n",
        "# it does not relate to the structure of the vegetation.\n",
        "# L-Band SAR data relates to the vertical structure of the vegetation.\n",
        "def create_time_series_palsar(image):\n",
        "    stats = image.reduceRegion(\n",
        "        reducer=ee.Reducer.mean(), geometry=burnt_area_vec, scale=25, maxPixels=1e9\n",
        "    )\n",
        "    return ee.Feature(\n",
        "        None,\n",
        "        {\n",
        "            \"date\": image.date().format(),\n",
        "            \"HH\": stats.get(\"HH\"),\n",
        "            \"HV\": stats.get(\"HV\"),\n",
        "        },\n",
        "    )"
      ]
    },
    {
      "cell_type": "code",
      "execution_count": null,
      "metadata": {
        "id": "nGeyLLwXQDO9"
      },
      "outputs": [],
      "source": [
        "# Load the L-Band JAXA PALSAR and PALSAR-2 image collection.\n",
        "palsar_img_col = ee.ImageCollection(\"JAXA/ALOS/PALSAR/YEARLY/SAR_EPOCH\")"
      ]
    },
    {
      "cell_type": "code",
      "execution_count": null,
      "metadata": {
        "id": "ExubxEWkQZCv"
      },
      "outputs": [],
      "source": [
        "# Perform the zonal stats to extract the L-Band backscatter values\n",
        "# for the burnt area.\n",
        "palsar_time_series = palsar_img_col.map(create_time_series_palsar).getInfo()"
      ]
    },
    {
      "cell_type": "code",
      "execution_count": null,
      "metadata": {
        "id": "Mt_CKuDpNS2V"
      },
      "outputs": [],
      "source": [
        "# Not needed for this notebook but for reference this is the code to convert\n",
        "# the PALSAR images to dBs.\n",
        "def convert_palsar_db(img):\n",
        "    hh_db = img.select(\"HH\").pow(2).log10().multiply(10).subtract(83).rename(\"HH_dB\")\n",
        "    hv_db = img.select(\"HV\").pow(2).log10().multiply(10).subtract(83).rename(\"HV_dB\")\n",
        "    return img.addBands([hh_db, hv_db])\n",
        "\n",
        "\n",
        "palsar_dB_img_col = palsar_img_col.map(convert_palsar_db).filterBounds(tile_aoi)"
      ]
    },
    {
      "cell_type": "code",
      "execution_count": null,
      "metadata": {
        "id": "ah143RKlOFIg"
      },
      "outputs": [],
      "source": [
        "# Convert time series to a pandas DataFrame - the same process as\n",
        "# for the NDVI.\n",
        "palsar_burn_feats = palsar_time_series[\"features\"]\n",
        "palsar_burn_data = list()\n",
        "for palsar_burn_feat in palsar_burn_feats:\n",
        "    if \"HV\" in palsar_burn_feat[\"properties\"]:\n",
        "        palsar_burn_data.append(\n",
        "            {\n",
        "                \"date\": palsar_burn_feat[\"properties\"][\"date\"],\n",
        "                \"HH\": palsar_burn_feat[\"properties\"][\"HH\"],\n",
        "                \"HV\": palsar_burn_feat[\"properties\"][\"HV\"],\n",
        "            }\n",
        "        )\n",
        "\n",
        "palsar_df = pandas.DataFrame(palsar_burn_data)\n",
        "palsar_df[\"date\"] = pandas.to_datetime(palsar_df[\"date\"])\n",
        "palsar_df = palsar_df.sort_values(\"date\")\n",
        "palsar_df"
      ]
    },
    {
      "cell_type": "code",
      "execution_count": null,
      "metadata": {
        "id": "rxPHry3yRWkf"
      },
      "outputs": [],
      "source": [
        "# The SAR Backscatter (Power) values need converting to decibels (dB)\n",
        "# This should be done after taking the mean (i.e., the zonal stats step)\n",
        "# as the mean of values which have been through a log operation is not\n",
        "# the same as the log of mean of the values.\n",
        "\n",
        "palsar_df[\"HH_dB\"] = (numpy.log10(palsar_df[\"HH\"].pow(2)) * 10) - 83\n",
        "palsar_df[\"HV_dB\"] = (numpy.log10(palsar_df[\"HV\"].pow(2)) * 10) - 83"
      ]
    },
    {
      "cell_type": "code",
      "execution_count": null,
      "metadata": {
        "id": "v1sjo4ALRWnE"
      },
      "outputs": [],
      "source": [
        "# Plot the SAR Backscatter for the period.\n",
        "\n",
        "plt.figure(figsize=(10, 6))\n",
        "plt.plot(palsar_df[\"date\"], palsar_df[\"HH_dB\"], label=\"HH dB\", color=\"Green\")\n",
        "plt.plot(palsar_df[\"date\"], palsar_df[\"HV_dB\"], label=\"HV dB\", color=\"blue\")\n",
        "\n",
        "plt.axvline(x=fire_date, color=\"red\", linestyle=\"--\", label=\"Fire\")\n",
        "\n",
        "plt.title(\"Vegetation Recovery Following Fire\")\n",
        "plt.xlabel(\"Date\")\n",
        "plt.ylabel(\"dB\")\n",
        "plt.legend()\n",
        "plt.grid(True)\n",
        "plt.show()"
      ]
    },
    {
      "cell_type": "code",
      "execution_count": null,
      "metadata": {
        "id": "MapH6579Pf-P"
      },
      "outputs": [],
      "source": [
        "# Save the backscatter data to your google drive.\n",
        "palsar_df.to_excel(\n",
        "    \"/content/drive/MyDrive/burnt_veg/palsar_timeseries.xlsx\", index=False\n",
        ")"
      ]
    },
    {
      "cell_type": "code",
      "execution_count": null,
      "metadata": {
        "id": "eX0qdodOLjbJ"
      },
      "outputs": [],
      "source": [
        "# Create a plot with both the NDVI and Backscatter:\n",
        "\n",
        "fig, ax1 = plt.subplots(figsize=(12, 8))\n",
        "ax1.plot(\n",
        "    pre_burn_ndvi_df[\"date\"],\n",
        "    pre_burn_ndvi_df[\"NDVI\"],\n",
        "    label=\"Pre-fire NDVI\",\n",
        "    color=\"#FC1FBA\",\n",
        ")\n",
        "ax1.plot(\n",
        "    post_burn_ndvi_df[\"date\"],\n",
        "    post_burn_ndvi_df[\"NDVI\"],\n",
        "    label=\"Post-fire NDVI\",\n",
        "    color=\"#FDAD81\",\n",
        ")\n",
        "ax1.set_ylabel(\"NDVI\")\n",
        "\n",
        "ax2 = ax1.twinx()  # instantiate a second Axes that shares the same x-axis\n",
        "ax2.plot(\n",
        "    palsar_df[\"date\"], palsar_df[\"HH_dB\"], linewidth=2, label=\"HH dB\", color=\"#048BA8\"\n",
        ")\n",
        "ax2.set_ylabel(\"dB\")\n",
        "ax2.axvline(x=fire_date, color=\"red\", linestyle=\"--\", linewidth=3, label=\"Fire\")\n",
        "\n",
        "plt.title(\"Vegetation Recovery Following Fire\")\n",
        "plt.xlabel(\"Date\")\n",
        "\n",
        "handles_ax1, labels_ax1 = ax1.get_legend_handles_labels()\n",
        "handles_ax2, labels_ax2 = ax2.get_legend_handles_labels()\n",
        "handles = handles_ax1 + handles_ax2\n",
        "labels = labels_ax1 + labels_ax2\n",
        "plt.legend(handles, labels, loc=\"lower right\")\n",
        "\n",
        "plt.grid(True)\n",
        "plt.show()"
      ]
    },
    {
      "cell_type": "code",
      "execution_count": null,
      "metadata": {
        "id": "KclgPAiHLjd7"
      },
      "outputs": [],
      "source": [
        "# Split the NDVI into two sets:\n",
        "# 1) A period near when the fire occurred (i.e., rapid recovery)\n",
        "# 2) A period further away from when the fire occurred (i.e., cover might have recoved)\n",
        "pre_burn_ndvi = pre_burn_ndvi_df[\"NDVI\"].values\n",
        "post_p1_burn_ndvi = post_burn_ndvi_df[\n",
        "    (post_burn_ndvi_df[\"date\"] > \"2015-08-20\")\n",
        "    & (post_burn_ndvi_df[\"date\"] <= \"2018-01-01\")\n",
        "][\"NDVI\"].values\n",
        "post_p2_burn_ndvi = post_burn_ndvi_df[(post_burn_ndvi_df[\"date\"] > \"2019-01-01\")][\n",
        "    \"NDVI\"\n",
        "].values"
      ]
    },
    {
      "cell_type": "code",
      "execution_count": null,
      "metadata": {
        "id": "BFpjPFLDLjgn"
      },
      "outputs": [],
      "source": [
        "# plotting second histogram\n",
        "plt.hist(post_p1_burn_ndvi, alpha=0.5, label=\"Period 1\")\n",
        "# plotting first histogram\n",
        "plt.hist(pre_burn_ndvi, alpha=0.5, label=\"Period 2\")\n",
        "\n",
        "# Add legend to the plot\n",
        "plt.legend()\n",
        "# Showing the plot using plt.show()\n",
        "plt.show()"
      ]
    },
    {
      "cell_type": "code",
      "execution_count": null,
      "metadata": {
        "id": "IPPbzNsmLjjZ"
      },
      "outputs": [],
      "source": []
    },
    {
      "cell_type": "code",
      "execution_count": null,
      "metadata": {
        "id": "Rg5bCDrSjD0c"
      },
      "outputs": [],
      "source": [
        "# Use a Q-Q plot to test the data for normality\n",
        "# The distribution can be considered to be normally distributed\n",
        "# is the data points (blue points) largely align with the red line.\n",
        "\n",
        "scipy.stats.probplot(post_p1_burn_ndvi, dist=\"norm\", plot=plt)\n",
        "plt.show()\n",
        "\n",
        "# This would be considered to be normally distributed."
      ]
    },
    {
      "cell_type": "code",
      "execution_count": null,
      "metadata": {
        "id": "8AbCWqZ-jJJN"
      },
      "outputs": [],
      "source": [
        "# Use a Q-Q plot to test the data for normality\n",
        "# The distribution can be considered to be normally distributed\n",
        "# is the data points (blue points) largely align with the red line.\n",
        "\n",
        "scipy.stats.probplot(pre_burn_ndvi, dist=\"norm\", plot=plt)\n",
        "plt.show()\n",
        "\n",
        "# This would be considered to be normally distributed."
      ]
    },
    {
      "cell_type": "code",
      "execution_count": null,
      "metadata": {
        "id": "kF2bgrYejQOY"
      },
      "outputs": [],
      "source": [
        "# As we know the data are normally distributed we can undertake a t-test\n",
        "# to assess whether the NDVI pre and post fire are statistically different.\n",
        "scipy.stats.ttest_ind(pre_burn_ndvi, post_p1_burn_ndvi)"
      ]
    },
    {
      "cell_type": "markdown",
      "metadata": {
        "id": "PaXVN5L8TVln"
      },
      "source": [
        "\n",
        "*   The t-statistic of 11.43 is a measure of the difference between the two sample means in terms of standard error. A high absolute value of t indicates a large difference relative to the variability in the data. Therefore, this indicates there is significant difference between the NDVI values before and after the fire.\n",
        "\n",
        "*   The p-value is extremely small, effectively 0. This indicates that the observed difference between the two sample means is statistically significant. Therefore, you reject the null hypothesis that the NDVI values before and after the fire are identical.\n",
        "\n",
        "*   Degrees of freedom reflect the sample size and are used to determine the critical value of t for the given test. Here, df=237 suggests a relatively large dataset.\n",
        "\n",
        "The results suggest strong evidence to reject the null hypothesis that the two samples have identical average (expected) values. There is a statistically significant difference in NDVI values before and after the forest fire.\n",
        "\n",
        "This suggests that:\n",
        "1.   The forest fire likely caused a measurable reduction in vegetation health and/or density, as reflected in NDVI values.\n",
        "2.   The post-fire NDVI values are significantly lower than pre-fire NDVI values, aligning with the expectation that a fire damages vegetation.\n",
        "\n",
        "\n",
        "If you are unsure how to intepret the results from the t-test then ChatGPT can help, try asking the following:\n",
        "\n",
        "> \"Interpret the output from the t-test TtestResult(statistic=11.431690892741347, pvalue=2.1601506581083213e-24, df=237.0) which compared ndvi values from Landsat imagery before and after a forest fire\"\n",
        "\n",
        "\n",
        "In addition to the t-test it can be useful to calculate the Cohen's d. Cohen's d is a standardized measure of the effect size, which quantifies the magnitude of the difference between two groups in terms of standard deviations. This can helps answer the question:\n",
        "\n",
        "> \"How large is the impact of the forest fire on the NDVI?\"\n",
        "\n",
        "For interpreting the output from the Cohen's d metric the following thresholds are considered standard interpretations:\n",
        "\n",
        "*   d < 0.2 -  Negligible effect\n",
        "*   0.2 < d < 0.5 - Small effect\n",
        "*   0.5 < d < 0.8 - Medium effect\n",
        "*   d > 0.8 - Large effect\n"
      ]
    },
    {
      "cell_type": "code",
      "execution_count": null,
      "metadata": {
        "id": "wIU6lpMFlaEy"
      },
      "outputs": [],
      "source": [
        "# The next step is to calculate the Cohen's d:\n",
        "t_rslt = scipy.stats.ttest_ind(pre_burn_ndvi, post_p1_burn_ndvi)\n",
        "t_statistic = numpy.abs(t_rslt.statistic)\n",
        "\n",
        "n1 = pre_burn_ndvi.shape[0]\n",
        "n2 = post_p2_burn_ndvi.shape[0]\n",
        "\n",
        "cohens_d = t_statistic / numpy.sqrt(n1 + n2)\n",
        "print(\"Cohen's d:\", cohens_d)"
      ]
    },
    {
      "cell_type": "markdown",
      "metadata": {
        "id": "6bAbmcqbnBs2"
      },
      "source": [
        "A Cohen's d of 0.585 would suggest a reasonable ('medium') amount of degradation of vegetation health and density post-fire up until the end of 2017."
      ]
    },
    {
      "cell_type": "code",
      "execution_count": null,
      "metadata": {
        "id": "7AL35e2-k3re"
      },
      "outputs": [],
      "source": [
        "# The next step is to repeat that test but for period 2 (i.e., further away from the fire)\n",
        "scipy.stats.ttest_ind(pre_burn_ndvi, post_p2_burn_ndvi)"
      ]
    },
    {
      "cell_type": "markdown",
      "metadata": {
        "id": "NZmz_lJbdgIH"
      },
      "source": [
        "\n",
        "*   A negative t-statistic suggests that the mean NDVI values after the forest fire are likely lower than before the fire. The magnitude of t=2.20 reflects the size of the difference between the group means relative to the variability in the data.\n",
        "*   The p-value of 0.0284 is less than the typical significance level (α=0.05). This means there is sufficient evidence to reject the null hypothesis that NDVI values before and after the forest fire are identical. The results suggest that the forest fire had a statistically significant impact on NDVI values.\n",
        "\n",
        "\n",
        "The t-test indicates a statistically significant difference in NDVI values before and after the forest fire (p=0.0284), with lower NDVI values after the fire. This implies that the forest fire caused a measurable reduction in vegetation health or density, as captured by Landsat NDVI values.\n",
        "\n",
        "\n",
        "Now let's look at the Cohen's d:"
      ]
    },
    {
      "cell_type": "code",
      "execution_count": null,
      "metadata": {
        "id": "DtX-MlmfjVhg"
      },
      "outputs": [],
      "source": [
        "t_rslt = scipy.stats.ttest_ind(pre_burn_ndvi, post_p2_burn_ndvi)\n",
        "t_statistic = numpy.abs(t_rslt.statistic)\n",
        "\n",
        "n1 = pre_burn_ndvi.shape[0]\n",
        "n2 = post_p2_burn_ndvi.shape[0]\n",
        "\n",
        "cohens_d = t_statistic / numpy.sqrt(n1 + n2)\n",
        "print(\"Cohen's d:\", cohens_d)"
      ]
    },
    {
      "cell_type": "markdown",
      "metadata": {
        "id": "IXhJwnUWnnmN"
      },
      "source": [
        "A Cohen's d of 0.115 would suggest a negligible amount of degradation of vegetation health and density post-fire from the beginning of 2018 to the end of 2024.\n",
        "\n",
        "Therefore, while the t-test indicates that there is a change in the NDVI the Cohen's d indicates that the significance of the change has reduced compared to the period 2015-2018 as we would have expected - i.e., the vegetation is recovering."
      ]
    },
    {
      "cell_type": "code",
      "execution_count": null,
      "metadata": {
        "id": "fRxYizLYoaNB"
      },
      "outputs": [],
      "source": [
        "# Split the PALSAR data into pre and post fire periods\n",
        "pre_burn_palsar = palsar_df[(palsar_df[\"date\"] < \"2015-08-20\")][\"HV_dB\"].values\n",
        "post_burn_palsar = palsar_df[(palsar_df[\"date\"] > \"2015-08-20\")][\"HV_dB\"].values"
      ]
    },
    {
      "cell_type": "code",
      "execution_count": null,
      "metadata": {
        "id": "9YuWwceno6yL"
      },
      "outputs": [],
      "source": [
        "# Plot the histogram of the PALSAR backscatter pre and post\n",
        "# the fire.\n",
        "plt.hist(pre_burn_palsar, alpha=0.5, label=\"Pre-fire\")\n",
        "plt.hist(post_burn_palsar, alpha=0.5, label=\"Post-fire\")\n",
        "\n",
        "plt.legend()\n",
        "# Showing the plot using plt.show()\n",
        "plt.show()"
      ]
    },
    {
      "cell_type": "code",
      "execution_count": null,
      "metadata": {
        "id": "E4aeXhrrpANQ"
      },
      "outputs": [],
      "source": [
        "# Use a Q-Q plot to test the data for normality\n",
        "# The distribution can be considered to be normally distributed\n",
        "# is the data points (blue points) largely align with the red line.\n",
        "\n",
        "scipy.stats.probplot(pre_burn_palsar, dist=\"norm\", plot=plt)\n",
        "plt.show()"
      ]
    },
    {
      "cell_type": "code",
      "execution_count": null,
      "metadata": {
        "id": "AbKSF7jZpD9L"
      },
      "outputs": [],
      "source": [
        "# Use a Q-Q plot to test the data for normality\n",
        "# The distribution can be considered to be normally distributed\n",
        "# is the data points (blue points) largely align with the red line.\n",
        "\n",
        "scipy.stats.probplot(post_burn_palsar, dist=\"norm\", plot=plt)\n",
        "plt.show()"
      ]
    },
    {
      "cell_type": "code",
      "execution_count": null,
      "metadata": {
        "id": "PGVk2eUQo1GT"
      },
      "outputs": [],
      "source": [
        "# Let's calculate the t-test:\n",
        "scipy.stats.ttest_ind(pre_burn_palsar, post_burn_palsar)"
      ]
    },
    {
      "cell_type": "markdown",
      "metadata": {
        "id": "SmNj3HLYh11G"
      },
      "source": [
        "The t-test indicates a statistically significant difference in L-band HV backscatter values before and after the forest fire (p=0.00187). This implies that the forest fire caused a measurable reduction in L-band HV backscatter values, likely due to the destruction of vegetation and loss of biomass.\n",
        "\n",
        "If you are unsure how to intepret the results from the t-test then ChatGPT can help, try asking the following:\n",
        "\n",
        "> \"Interpret the output from the t-test TtestResult(statistic=4.063658173742494, pvalue=0.0018715134169640304, df=11.0) which compared L-band HV backscatter values from ALOS PALSAR imagery before and after a forest fire\"\n",
        "\n",
        "The Cohen's d works best with larger sample sizes (i.e., over 50 samples) but let's have a look at the value for the L-band backscatter:\n"
      ]
    },
    {
      "cell_type": "code",
      "execution_count": null,
      "metadata": {
        "id": "mjSZdmQVos7T"
      },
      "outputs": [],
      "source": [
        "t_rslt = scipy.stats.ttest_ind(pre_burn_palsar, post_burn_palsar)\n",
        "t_statistic = numpy.abs(t_rslt.statistic)\n",
        "\n",
        "n1 = pre_burn_ndvi.shape[0]\n",
        "n2 = post_p2_burn_ndvi.shape[0]\n",
        "\n",
        "cohens_d = t_statistic / numpy.sqrt(n1 + n2)\n",
        "print(\"Cohen's d:\", cohens_d)"
      ]
    },
    {
      "cell_type": "markdown",
      "metadata": {
        "id": "ASOdurQBode7"
      },
      "source": [
        "A Cohen's d of 0.208 would suggest a small amount of degradation of vegetation health and density post-fire. Note that unlike with the NDVI this is all the values from 2015 to 2024 and therefore while the change directly after the fire is a more extreme change this is reduced by the recovery later within the observed period."
      ]
    },
    {
      "cell_type": "code",
      "execution_count": null,
      "metadata": {
        "id": "s8Cek7pCljEE"
      },
      "outputs": [],
      "source": []
    }
  ],
  "metadata": {
    "colab": {
      "provenance": [],
      "include_colab_link": true
    },
    "kernelspec": {
      "display_name": "Python 3 (ipykernel)",
      "language": "python",
      "name": "python3"
    },
    "language_info": {
      "codemirror_mode": {
        "name": "ipython",
        "version": 3
      },
      "file_extension": ".py",
      "mimetype": "text/x-python",
      "name": "python",
      "nbconvert_exporter": "python",
      "pygments_lexer": "ipython3",
      "version": "3.12.7"
    }
  },
  "nbformat": 4,
  "nbformat_minor": 0
}