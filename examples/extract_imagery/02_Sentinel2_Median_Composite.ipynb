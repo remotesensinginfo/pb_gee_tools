{
  "cells": [
    {
      "cell_type": "markdown",
      "metadata": {
        "id": "view-in-github",
        "colab_type": "text"
      },
      "source": [
        "<a href=\"https://colab.research.google.com/github/remotesensinginfo/pb_gee_tools/blob/main/examples/extract_imagery/02_Sentinel2_Median_Composite.ipynb\" target=\"_parent\"><img src=\"https://colab.research.google.com/assets/colab-badge.svg\" alt=\"Open In Colab\"/></a>"
      ]
    },
    {
      "cell_type": "markdown",
      "metadata": {
        "id": "JuoEAHbQ9vgo"
      },
      "source": [
        "# Import Python Modules\n",
        "\n",
        "Import the Python modules needed for this notebook."
      ]
    },
    {
      "cell_type": "code",
      "execution_count": null,
      "metadata": {
        "id": "Om_7sTY0BZbl"
      },
      "outputs": [],
      "source": [
        "# The Google Earth Engine module\n",
        "import ee\n",
        "\n",
        "# The datetime module is used to specify the dates\n",
        "# to search for imagery\n",
        "import datetime\n",
        "\n",
        "# Import the geemap (https://geemap.org/) module which\n",
        "# has a visualisation tool\n",
        "import geemap\n",
        "\n",
        "# Geopandas allows us to read the shapefile used to\n",
        "# define the region of interest (ROI)\n",
        "import geopandas\n",
        "\n",
        "# The colab module to access data from your google drive\n",
        "from google.colab import drive"
      ]
    },
    {
      "cell_type": "markdown",
      "metadata": {
        "id": "RR4I6HrX-60i"
      },
      "source": [
        "## Install pb_gee_tools\n",
        "\n",
        "The pb_gee_tools module (https://github.com/remotesensinginfo/pb_gee_tools) is a collection of tools used to make it easier to access datasets on Google Earth Engine.\n",
        "\n",
        "The code below tests whether the module is available to import and if not will install the module from code repository."
      ]
    },
    {
      "cell_type": "code",
      "execution_count": null,
      "metadata": {
        "id": "UHfwtGnbB0Fh"
      },
      "outputs": [],
      "source": [
        "try:\n",
        "  import pb_gee_tools\n",
        "  import pb_gee_tools.datasets\n",
        "except:\n",
        "  !git clone https://github.com/remotesensinginfo/pb_gee_tools.git\n",
        "  !pip install ./pb_gee_tools/.\n",
        "  import pb_gee_tools\n",
        "  import pb_gee_tools.datasets"
      ]
    },
    {
      "cell_type": "markdown",
      "metadata": {
        "id": "5nhzy6cK_Wj8"
      },
      "source": [
        "# Autheticate with Google Earth Engine\n",
        "\n",
        "The next stage is to specify the project being used for your analysis and to autheticate with Google Earth Engine.\n",
        "\n",
        "The first time you run the following cell it will come up with a prompt asking your permission to access your GEE account and project."
      ]
    },
    {
      "cell_type": "code",
      "execution_count": null,
      "metadata": {
        "id": "jCylV9bZ7uKy"
      },
      "outputs": [],
      "source": [
        "ee.Authenticate()\n",
        "ee.Initialize(project=\"ee-pb-dev\")  # <==== Replace this with your own EE project string"
      ]
    },
    {
      "cell_type": "markdown",
      "metadata": {
        "id": "GXovxDg6ACKq"
      },
      "source": [
        "# Mount Google Drive\n",
        "\n",
        "To access files within your Google Drive we need to 'mount it' to this colab environment.\n",
        "\n",
        "Again, it will come up with a prompt asking your permission."
      ]
    },
    {
      "cell_type": "code",
      "execution_count": null,
      "metadata": {
        "id": "OwHDRgmqDwu1"
      },
      "outputs": [],
      "source": [
        "drive.mount(\"/content/drive\")"
      ]
    },
    {
      "cell_type": "markdown",
      "metadata": {
        "id": "vcJpQiNWALAU"
      },
      "source": [
        "# Customise Inputs\n",
        "\n",
        "This next section is where you need to specify input variables to control the Sentinel-2 image composite which is created.\n",
        "\n",
        "You need to specify:\n",
        "\n",
        "*   The path (on your google drive) to the vector layer specifying your region of interest. The vector layer can be any format that Geopandas is able to read (e.g., Shapefile, GeoJSON, GPKG).\n",
        "*   The start date (i.e., earlier date) for the image search\n",
        "*   The end date (i.e., later date) for the image search\n",
        "*   The output no date value used - should always be 0\n",
        "*   The output image file name (Note, do not specify the file extention - it will have .tif added when created)\n",
        "*   The output directory on your google drive where the output image will be saved.\n",
        "\n"
      ]
    },
    {
      "cell_type": "code",
      "execution_count": null,
      "metadata": {
        "id": "1cRLfqJ58ph8"
      },
      "outputs": [],
      "source": [
        "# The file path on google drive for ROI file.\n",
        "vec_file = \"/content/drive/MyDrive/test_shp/test_roi_poly.shp\"\n",
        "\n",
        "# Start and End date\n",
        "start_date = datetime.datetime(year=2020, month=1, day=1)\n",
        "end_date = datetime.datetime(year=2020, month=12, day=31)\n",
        "\n",
        "# Output no data value\n",
        "out_no_data_val = 0.0\n",
        "\n",
        "# Output Sentinel-2 composite file name\n",
        "out_file_name = \"sen2_2020_med_comp\"\n",
        "\n",
        "# Output Directory on Google Earth Engine\n",
        "out_gdrive_dir = \"test_gee_outs\""
      ]
    },
    {
      "cell_type": "markdown",
      "metadata": {
        "id": "skUwEf6FBa66"
      },
      "source": [
        "# Processing Stages"
      ]
    },
    {
      "cell_type": "code",
      "execution_count": null,
      "metadata": {
        "id": "rPBIl53-6w3J"
      },
      "outputs": [],
      "source": [
        "# Read the vector layer and make sure it is project using WGS84 (EPSG:4326)\n",
        "vec_gdf = geopandas.read_file(vec_file).to_crs(4326)\n",
        "\n",
        "# Get layer bbox: minx, miny, maxx, maxy\n",
        "gp_bbox = vec_gdf.total_bounds\n",
        "\n",
        "# Create the GEE geometry from the bbox.\n",
        "roi_west = gp_bbox[0]\n",
        "roi_east = gp_bbox[2]\n",
        "roi_north = gp_bbox[3]\n",
        "roi_south = gp_bbox[1]\n",
        "tile_aoi = ee.Geometry.BBox(roi_west, roi_south, roi_east, roi_north)"
      ]
    },
    {
      "cell_type": "code",
      "execution_count": null,
      "metadata": {
        "id": "qR_YbEBfFpHP"
      },
      "outputs": [],
      "source": [
        "sen2_img_col = pb_gee_tools.datasets.get_sen2_sr_collection(\n",
        "    aoi=tile_aoi,\n",
        "    start_date=start_date,\n",
        "    end_date=end_date,\n",
        "    cloud_thres=70,\n",
        "    cld_prb_thres=50,\n",
        "    nir_drk_thres=0.15,\n",
        "    cld_prj_dist=1,\n",
        "    clds_buffer=50,\n",
        ")\n",
        "sen2_median = sen2_img_col.median().unmask(out_no_data_val).clip(tile_aoi).toUint16()"
      ]
    },
    {
      "cell_type": "code",
      "execution_count": null,
      "metadata": {
        "id": "88IvPodv9gTP"
      },
      "outputs": [],
      "source": [
        "map_obj = geemap.Map()\n",
        "\n",
        "# Create the centre point for the map\n",
        "cnt_pt_x = roi_west + (roi_east - roi_west) / 2\n",
        "cnt_pt_y = roi_south + (roi_north - roi_south) / 2\n",
        "cnt_pt = ee.Geometry.Point([cnt_pt_x, cnt_pt_y])\n",
        "# Specify the centre point and scale of the map\n",
        "map_obj.centerObject(cnt_pt, 12)\n",
        "\n",
        "# Add Google Maps Basemap\n",
        "gg_maps_url = \"https://mt1.google.com/vt/lyrs=m&x={x}&y={y}&z={z}\"\n",
        "map_obj.add_tile_layer(gg_maps_url, name=\"Google Maps\", attribution=\"Google\")\n",
        "\n",
        "# Add Google Satellite Imagery Basemap\n",
        "gg_img_url = \"http://www.google.cn/maps/vt?lyrs=s@189&gl=cn&x={x}&y={y}&z={z}\"\n",
        "map_obj.add_tile_layer(gg_img_url, name=\"Google Imagery\", attribution=\"Google\")\n",
        "\n",
        "# Add ESRI Satellite Imagery Basemap\n",
        "esri_img_url = \"https://server.arcgisonline.com/ArcGIS/rest/services/World_Imagery/MapServer/tile/{z}/{y}/{x}\"\n",
        "map_obj.add_tile_layer(esri_img_url, name=\"ESRI Imagery\", attribution=\"ESRI\")\n",
        "\n",
        "# Specify the visualisation options.\n",
        "vis_params = {\"min\": 0, \"max\": 4000, \"bands\": [\"B8\", \"B11\", \"B4\"]}\n",
        "\n",
        "# Add the Sentinel-2 Composite\n",
        "map_obj.addLayer(sen2_median, vis_params, \"Sentinel-2\")\n",
        "\n",
        "map_obj"
      ]
    },
    {
      "cell_type": "code",
      "execution_count": null,
      "metadata": {
        "id": "XmRznIrU9pFJ"
      },
      "outputs": [],
      "source": [
        "# Export the median Sentinel-2 image to your Google Drive\n",
        "task = ee.batch.Export.image.toDrive(\n",
        "        image=sen2_median,\n",
        "        description=out_file_name,\n",
        "        folder=out_gdrive_dir,\n",
        "        scale=10, # export 10 m resolution image\n",
        "        fileFormat=\"GeoTIFF\",\n",
        "        formatOptions={\"cloudOptimized\": True, 'noData': out_no_data_val},\n",
        ")\n",
        "task.start()"
      ]
    }
  ],
  "metadata": {
    "colab": {
      "provenance": [],
      "include_colab_link": true
    },
    "kernelspec": {
      "display_name": "Python 3 (ipykernel)",
      "language": "python",
      "name": "python3"
    },
    "language_info": {
      "codemirror_mode": {
        "name": "ipython",
        "version": 3
      },
      "file_extension": ".py",
      "mimetype": "text/x-python",
      "name": "python",
      "nbconvert_exporter": "python",
      "pygments_lexer": "ipython3",
      "version": "3.12.4"
    }
  },
  "nbformat": 4,
  "nbformat_minor": 0
}