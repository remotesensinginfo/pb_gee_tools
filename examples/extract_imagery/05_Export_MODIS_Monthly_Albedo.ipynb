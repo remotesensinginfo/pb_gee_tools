{
  "cells": [
    {
      "cell_type": "markdown",
      "metadata": {
        "id": "view-in-github",
        "colab_type": "text"
      },
      "source": [
        "<a href=\"https://colab.research.google.com/github/remotesensinginfo/pb_gee_tools/blob/main/examples/extract_imagery/05_Export_MODIS_Monthly_Albedo.ipynb\" target=\"_parent\"><img src=\"https://colab.research.google.com/assets/colab-badge.svg\" alt=\"Open In Colab\"/></a>"
      ]
    },
    {
      "cell_type": "markdown",
      "metadata": {
        "id": "JuoEAHbQ9vgo"
      },
      "source": [
        "# Import Python Modules\n",
        "\n",
        "Import the Python modules needed for this notebook."
      ]
    },
    {
      "cell_type": "code",
      "execution_count": 1,
      "metadata": {
        "id": "Om_7sTY0BZbl"
      },
      "outputs": [],
      "source": [
        "# The Google Earth Engine module\n",
        "import ee\n",
        "\n",
        "# The datetime module is used to specify the dates\n",
        "# to search for imagery\n",
        "import datetime\n",
        "\n",
        "# Import the geemap (https://geemap.org/) module which\n",
        "# has a visualisation tool\n",
        "import geemap\n",
        "\n",
        "# Geopandas allows us to read the shapefile used to\n",
        "# define the region of interest (ROI)\n",
        "import geopandas\n",
        "\n",
        "# The colab module to access data from your google drive\n",
        "from google.colab import drive"
      ]
    },
    {
      "cell_type": "markdown",
      "metadata": {
        "id": "RR4I6HrX-60i"
      },
      "source": [
        "## Install pb_gee_tools\n",
        "\n",
        "The pb_gee_tools module (https://github.com/remotesensinginfo/pb_gee_tools) is a collection of tools used to make it easier to access datasets on Google Earth Engine.\n",
        "\n",
        "The code below tests whether the module is available to import and if not will install the module from code repository."
      ]
    },
    {
      "cell_type": "code",
      "execution_count": 2,
      "metadata": {
        "id": "UHfwtGnbB0Fh",
        "outputId": "eba8fdcf-ee62-4165-fb8a-4da454cb0cc0",
        "colab": {
          "base_uri": "https://localhost:8080/",
          "height": 948
        }
      },
      "outputs": [
        {
          "output_type": "display_data",
          "data": {
            "text/plain": [
              "<IPython.core.display.HTML object>"
            ],
            "text/html": [
              "\n",
              "            <style>\n",
              "                .geemap-dark {\n",
              "                    --jp-widgets-color: white;\n",
              "                    --jp-widgets-label-color: white;\n",
              "                    --jp-ui-font-color1: white;\n",
              "                    --jp-layout-color2: #454545;\n",
              "                    background-color: #383838;\n",
              "                }\n",
              "\n",
              "                .geemap-dark .jupyter-button {\n",
              "                    --jp-layout-color3: #383838;\n",
              "                }\n",
              "\n",
              "                .geemap-colab {\n",
              "                    background-color: var(--colab-primary-surface-color, white);\n",
              "                }\n",
              "\n",
              "                .geemap-colab .jupyter-button {\n",
              "                    --jp-layout-color3: var(--colab-primary-surface-color, white);\n",
              "                }\n",
              "            </style>\n",
              "            "
            ]
          },
          "metadata": {}
        },
        {
          "output_type": "stream",
          "name": "stdout",
          "text": [
            "Cloning into 'pb_gee_tools'...\n",
            "remote: Enumerating objects: 231, done.\u001b[K\n",
            "remote: Counting objects: 100% (231/231), done.\u001b[K\n",
            "remote: Compressing objects: 100% (160/160), done.\u001b[K\n",
            "remote: Total 231 (delta 127), reused 154 (delta 69), pack-reused 0 (from 0)\u001b[K\n",
            "Receiving objects: 100% (231/231), 82.76 KiB | 1.53 MiB/s, done.\n",
            "Resolving deltas: 100% (127/127), done.\n",
            "Processing ./pb_gee_tools\n",
            "  Preparing metadata (setup.py) ... \u001b[?25l\u001b[?25hdone\n",
            "Requirement already satisfied: earthengine-api in /usr/local/lib/python3.10/dist-packages (from pb_gee_tools==0.3.0) (1.4.3)\n",
            "Requirement already satisfied: geopandas in /usr/local/lib/python3.10/dist-packages (from pb_gee_tools==0.3.0) (1.0.1)\n",
            "Requirement already satisfied: google-cloud-storage in /usr/local/lib/python3.10/dist-packages (from earthengine-api->pb_gee_tools==0.3.0) (2.19.0)\n",
            "Requirement already satisfied: google-api-python-client>=1.12.1 in /usr/local/lib/python3.10/dist-packages (from earthengine-api->pb_gee_tools==0.3.0) (2.155.0)\n",
            "Requirement already satisfied: google-auth>=1.4.1 in /usr/local/lib/python3.10/dist-packages (from earthengine-api->pb_gee_tools==0.3.0) (2.27.0)\n",
            "Requirement already satisfied: google-auth-httplib2>=0.0.3 in /usr/local/lib/python3.10/dist-packages (from earthengine-api->pb_gee_tools==0.3.0) (0.2.0)\n",
            "Requirement already satisfied: httplib2<1dev,>=0.9.2 in /usr/local/lib/python3.10/dist-packages (from earthengine-api->pb_gee_tools==0.3.0) (0.22.0)\n",
            "Requirement already satisfied: requests in /usr/local/lib/python3.10/dist-packages (from earthengine-api->pb_gee_tools==0.3.0) (2.32.3)\n",
            "Requirement already satisfied: numpy>=1.22 in /usr/local/lib/python3.10/dist-packages (from geopandas->pb_gee_tools==0.3.0) (1.26.4)\n",
            "Requirement already satisfied: pyogrio>=0.7.2 in /usr/local/lib/python3.10/dist-packages (from geopandas->pb_gee_tools==0.3.0) (0.10.0)\n",
            "Requirement already satisfied: packaging in /usr/local/lib/python3.10/dist-packages (from geopandas->pb_gee_tools==0.3.0) (24.2)\n",
            "Requirement already satisfied: pandas>=1.4.0 in /usr/local/lib/python3.10/dist-packages (from geopandas->pb_gee_tools==0.3.0) (2.2.2)\n",
            "Requirement already satisfied: pyproj>=3.3.0 in /usr/local/lib/python3.10/dist-packages (from geopandas->pb_gee_tools==0.3.0) (3.7.0)\n",
            "Requirement already satisfied: shapely>=2.0.0 in /usr/local/lib/python3.10/dist-packages (from geopandas->pb_gee_tools==0.3.0) (2.0.6)\n",
            "Requirement already satisfied: google-api-core!=2.0.*,!=2.1.*,!=2.2.*,!=2.3.0,<3.0.0.dev0,>=1.31.5 in /usr/local/lib/python3.10/dist-packages (from google-api-python-client>=1.12.1->earthengine-api->pb_gee_tools==0.3.0) (2.19.2)\n",
            "Requirement already satisfied: uritemplate<5,>=3.0.1 in /usr/local/lib/python3.10/dist-packages (from google-api-python-client>=1.12.1->earthengine-api->pb_gee_tools==0.3.0) (4.1.1)\n",
            "Requirement already satisfied: cachetools<6.0,>=2.0.0 in /usr/local/lib/python3.10/dist-packages (from google-auth>=1.4.1->earthengine-api->pb_gee_tools==0.3.0) (5.5.0)\n",
            "Requirement already satisfied: pyasn1-modules>=0.2.1 in /usr/local/lib/python3.10/dist-packages (from google-auth>=1.4.1->earthengine-api->pb_gee_tools==0.3.0) (0.4.1)\n",
            "Requirement already satisfied: rsa<5,>=3.1.4 in /usr/local/lib/python3.10/dist-packages (from google-auth>=1.4.1->earthengine-api->pb_gee_tools==0.3.0) (4.9)\n",
            "Requirement already satisfied: pyparsing!=3.0.0,!=3.0.1,!=3.0.2,!=3.0.3,<4,>=2.4.2 in /usr/local/lib/python3.10/dist-packages (from httplib2<1dev,>=0.9.2->earthengine-api->pb_gee_tools==0.3.0) (3.2.0)\n",
            "Requirement already satisfied: python-dateutil>=2.8.2 in /usr/local/lib/python3.10/dist-packages (from pandas>=1.4.0->geopandas->pb_gee_tools==0.3.0) (2.8.2)\n",
            "Requirement already satisfied: pytz>=2020.1 in /usr/local/lib/python3.10/dist-packages (from pandas>=1.4.0->geopandas->pb_gee_tools==0.3.0) (2024.2)\n",
            "Requirement already satisfied: tzdata>=2022.7 in /usr/local/lib/python3.10/dist-packages (from pandas>=1.4.0->geopandas->pb_gee_tools==0.3.0) (2024.2)\n",
            "Requirement already satisfied: certifi in /usr/local/lib/python3.10/dist-packages (from pyogrio>=0.7.2->geopandas->pb_gee_tools==0.3.0) (2024.12.14)\n",
            "Requirement already satisfied: google-cloud-core<3.0dev,>=2.3.0 in /usr/local/lib/python3.10/dist-packages (from google-cloud-storage->earthengine-api->pb_gee_tools==0.3.0) (2.4.1)\n",
            "Requirement already satisfied: google-resumable-media>=2.7.2 in /usr/local/lib/python3.10/dist-packages (from google-cloud-storage->earthengine-api->pb_gee_tools==0.3.0) (2.7.2)\n",
            "Requirement already satisfied: google-crc32c<2.0dev,>=1.0 in /usr/local/lib/python3.10/dist-packages (from google-cloud-storage->earthengine-api->pb_gee_tools==0.3.0) (1.6.0)\n",
            "Requirement already satisfied: charset-normalizer<4,>=2 in /usr/local/lib/python3.10/dist-packages (from requests->earthengine-api->pb_gee_tools==0.3.0) (3.4.0)\n",
            "Requirement already satisfied: idna<4,>=2.5 in /usr/local/lib/python3.10/dist-packages (from requests->earthengine-api->pb_gee_tools==0.3.0) (3.10)\n",
            "Requirement already satisfied: urllib3<3,>=1.21.1 in /usr/local/lib/python3.10/dist-packages (from requests->earthengine-api->pb_gee_tools==0.3.0) (2.2.3)\n",
            "Requirement already satisfied: googleapis-common-protos<2.0.dev0,>=1.56.2 in /usr/local/lib/python3.10/dist-packages (from google-api-core!=2.0.*,!=2.1.*,!=2.2.*,!=2.3.0,<3.0.0.dev0,>=1.31.5->google-api-python-client>=1.12.1->earthengine-api->pb_gee_tools==0.3.0) (1.66.0)\n",
            "Requirement already satisfied: protobuf!=3.20.0,!=3.20.1,!=4.21.0,!=4.21.1,!=4.21.2,!=4.21.3,!=4.21.4,!=4.21.5,<6.0.0.dev0,>=3.19.5 in /usr/local/lib/python3.10/dist-packages (from google-api-core!=2.0.*,!=2.1.*,!=2.2.*,!=2.3.0,<3.0.0.dev0,>=1.31.5->google-api-python-client>=1.12.1->earthengine-api->pb_gee_tools==0.3.0) (4.25.5)\n",
            "Requirement already satisfied: proto-plus<2.0.0dev,>=1.22.3 in /usr/local/lib/python3.10/dist-packages (from google-api-core!=2.0.*,!=2.1.*,!=2.2.*,!=2.3.0,<3.0.0.dev0,>=1.31.5->google-api-python-client>=1.12.1->earthengine-api->pb_gee_tools==0.3.0) (1.25.0)\n",
            "Requirement already satisfied: pyasn1<0.7.0,>=0.4.6 in /usr/local/lib/python3.10/dist-packages (from pyasn1-modules>=0.2.1->google-auth>=1.4.1->earthengine-api->pb_gee_tools==0.3.0) (0.6.1)\n",
            "Requirement already satisfied: six>=1.5 in /usr/local/lib/python3.10/dist-packages (from python-dateutil>=2.8.2->pandas>=1.4.0->geopandas->pb_gee_tools==0.3.0) (1.17.0)\n",
            "Building wheels for collected packages: pb_gee_tools\n",
            "  Building wheel for pb_gee_tools (setup.py) ... \u001b[?25l\u001b[?25hdone\n",
            "  Created wheel for pb_gee_tools: filename=pb_gee_tools-0.3.0-py3-none-any.whl size=17966 sha256=157e1576a17cf1d892e2bb59396501747fd8dc39314af797351a0da11eb3c05c\n",
            "  Stored in directory: /tmp/pip-ephem-wheel-cache-mog9zbs8/wheels/e8/da/17/69dc01c6cbd07adb00923d8c1dd9a22fb31e96a17b74c93812\n",
            "Successfully built pb_gee_tools\n",
            "Installing collected packages: pb_gee_tools\n",
            "Successfully installed pb_gee_tools-0.3.0\n"
          ]
        }
      ],
      "source": [
        "try:\n",
        "  import pb_gee_tools\n",
        "  import pb_gee_tools.datasets\n",
        "  import pb_gee_tools.utils\n",
        "except:\n",
        "  !git clone https://github.com/remotesensinginfo/pb_gee_tools.git\n",
        "  !pip install ./pb_gee_tools/.\n",
        "  import pb_gee_tools\n",
        "  import pb_gee_tools.datasets\n",
        "  import pb_gee_tools.utils"
      ]
    },
    {
      "cell_type": "markdown",
      "metadata": {
        "id": "5nhzy6cK_Wj8"
      },
      "source": [
        "# Autheticate with Google Earth Engine\n",
        "\n",
        "The next stage is to specify the project being used for your analysis and to autheticate with Google Earth Engine.\n",
        "\n",
        "The first time you run the following cell it will come up with a prompt asking your permission to access your GEE account and project."
      ]
    },
    {
      "cell_type": "code",
      "execution_count": 3,
      "metadata": {
        "id": "jCylV9bZ7uKy",
        "outputId": "72e00334-0e46-481e-f324-4a4e9a95ea0f",
        "colab": {
          "base_uri": "https://localhost:8080/",
          "height": 17
        }
      },
      "outputs": [
        {
          "output_type": "display_data",
          "data": {
            "text/plain": [
              "<IPython.core.display.HTML object>"
            ],
            "text/html": [
              "\n",
              "            <style>\n",
              "                .geemap-dark {\n",
              "                    --jp-widgets-color: white;\n",
              "                    --jp-widgets-label-color: white;\n",
              "                    --jp-ui-font-color1: white;\n",
              "                    --jp-layout-color2: #454545;\n",
              "                    background-color: #383838;\n",
              "                }\n",
              "\n",
              "                .geemap-dark .jupyter-button {\n",
              "                    --jp-layout-color3: #383838;\n",
              "                }\n",
              "\n",
              "                .geemap-colab {\n",
              "                    background-color: var(--colab-primary-surface-color, white);\n",
              "                }\n",
              "\n",
              "                .geemap-colab .jupyter-button {\n",
              "                    --jp-layout-color3: var(--colab-primary-surface-color, white);\n",
              "                }\n",
              "            </style>\n",
              "            "
            ]
          },
          "metadata": {}
        }
      ],
      "source": [
        "ee.Authenticate()\n",
        "ee.Initialize(project=\"ee-pb-dev\")  # <==== Replace this with your own EE project string"
      ]
    },
    {
      "cell_type": "markdown",
      "metadata": {
        "id": "GXovxDg6ACKq"
      },
      "source": [
        "# Mount Google Drive\n",
        "\n",
        "To access files within your Google Drive we need to 'mount it' to this colab environment.\n",
        "\n",
        "Again, it will come up with a prompt asking your permission."
      ]
    },
    {
      "cell_type": "code",
      "execution_count": 4,
      "metadata": {
        "id": "OwHDRgmqDwu1",
        "outputId": "7445432c-6fb0-447f-c69a-161b62dd920d",
        "colab": {
          "base_uri": "https://localhost:8080/",
          "height": 35
        }
      },
      "outputs": [
        {
          "output_type": "display_data",
          "data": {
            "text/plain": [
              "<IPython.core.display.HTML object>"
            ],
            "text/html": [
              "\n",
              "            <style>\n",
              "                .geemap-dark {\n",
              "                    --jp-widgets-color: white;\n",
              "                    --jp-widgets-label-color: white;\n",
              "                    --jp-ui-font-color1: white;\n",
              "                    --jp-layout-color2: #454545;\n",
              "                    background-color: #383838;\n",
              "                }\n",
              "\n",
              "                .geemap-dark .jupyter-button {\n",
              "                    --jp-layout-color3: #383838;\n",
              "                }\n",
              "\n",
              "                .geemap-colab {\n",
              "                    background-color: var(--colab-primary-surface-color, white);\n",
              "                }\n",
              "\n",
              "                .geemap-colab .jupyter-button {\n",
              "                    --jp-layout-color3: var(--colab-primary-surface-color, white);\n",
              "                }\n",
              "            </style>\n",
              "            "
            ]
          },
          "metadata": {}
        },
        {
          "output_type": "stream",
          "name": "stdout",
          "text": [
            "Mounted at /content/drive\n"
          ]
        }
      ],
      "source": [
        "drive.mount(\"/content/drive\")"
      ]
    },
    {
      "cell_type": "markdown",
      "metadata": {
        "id": "vcJpQiNWALAU"
      },
      "source": [
        "# Customise Inputs\n",
        "\n",
        "This next section is where you need to specify input variables to control the MODIS Albedo which is read.\n",
        "\n",
        "You need to specify:\n",
        "\n",
        "*   The path (on your google drive) to the vector layer specifying your region of interest. The vector layer can be any format that Geopandas is able to read (e.g., Shapefile, GeoJSON, GPKG).\n",
        "*   The start date (i.e., earlier date) for the image search\n",
        "*   The end date (i.e., later date) for the image search\n",
        "*   The output no date value used - should always be 0\n",
        "*   The output image file name (Note, do not specify the file extention - it will have .tif added when created)\n",
        "*   The output directory on your google drive where the output image will be saved.\n",
        "\n"
      ]
    },
    {
      "cell_type": "code",
      "execution_count": 5,
      "metadata": {
        "id": "1cRLfqJ58ph8",
        "outputId": "bd4f218b-0bd6-4e15-aea6-4ed115b3e496",
        "colab": {
          "base_uri": "https://localhost:8080/",
          "height": 17
        }
      },
      "outputs": [
        {
          "output_type": "display_data",
          "data": {
            "text/plain": [
              "<IPython.core.display.HTML object>"
            ],
            "text/html": [
              "\n",
              "            <style>\n",
              "                .geemap-dark {\n",
              "                    --jp-widgets-color: white;\n",
              "                    --jp-widgets-label-color: white;\n",
              "                    --jp-ui-font-color1: white;\n",
              "                    --jp-layout-color2: #454545;\n",
              "                    background-color: #383838;\n",
              "                }\n",
              "\n",
              "                .geemap-dark .jupyter-button {\n",
              "                    --jp-layout-color3: #383838;\n",
              "                }\n",
              "\n",
              "                .geemap-colab {\n",
              "                    background-color: var(--colab-primary-surface-color, white);\n",
              "                }\n",
              "\n",
              "                .geemap-colab .jupyter-button {\n",
              "                    --jp-layout-color3: var(--colab-primary-surface-color, white);\n",
              "                }\n",
              "            </style>\n",
              "            "
            ]
          },
          "metadata": {}
        }
      ],
      "source": [
        "# The file path on google drive for ROI file.\n",
        "vec_file = \"/content/drive/MyDrive/test_shp/test_roi_poly.shp\"\n",
        "\n",
        "# Start year\n",
        "start_year = 2010\n",
        "# Start month\n",
        "start_month = 1\n",
        "# In addition to the start month so this will output a total of 12 months.\n",
        "n_months = 11\n",
        "\n",
        "# Output no data value\n",
        "out_no_data_val = 0.0\n",
        "\n",
        "# This is the band which will be outputted.\n",
        "modis_band_name = \"Albedo_BSA_vis\"\n",
        "\n",
        "# Output MODIS composite file name\n",
        "out_file_name = \"modis_albedo_month_2010\"\n",
        "\n",
        "# Output Directory on Google Earth Engine\n",
        "out_gdrive_dir = \"test_gee_outs\"\n"
      ]
    },
    {
      "cell_type": "markdown",
      "metadata": {
        "id": "skUwEf6FBa66"
      },
      "source": [
        "# Processing Stages"
      ]
    },
    {
      "cell_type": "code",
      "execution_count": 6,
      "metadata": {
        "id": "rPBIl53-6w3J",
        "outputId": "3b112b1b-ec43-4c92-b25a-279c9d5d6d41",
        "colab": {
          "base_uri": "https://localhost:8080/",
          "height": 17
        }
      },
      "outputs": [
        {
          "output_type": "display_data",
          "data": {
            "text/plain": [
              "<IPython.core.display.HTML object>"
            ],
            "text/html": [
              "\n",
              "            <style>\n",
              "                .geemap-dark {\n",
              "                    --jp-widgets-color: white;\n",
              "                    --jp-widgets-label-color: white;\n",
              "                    --jp-ui-font-color1: white;\n",
              "                    --jp-layout-color2: #454545;\n",
              "                    background-color: #383838;\n",
              "                }\n",
              "\n",
              "                .geemap-dark .jupyter-button {\n",
              "                    --jp-layout-color3: #383838;\n",
              "                }\n",
              "\n",
              "                .geemap-colab {\n",
              "                    background-color: var(--colab-primary-surface-color, white);\n",
              "                }\n",
              "\n",
              "                .geemap-colab .jupyter-button {\n",
              "                    --jp-layout-color3: var(--colab-primary-surface-color, white);\n",
              "                }\n",
              "            </style>\n",
              "            "
            ]
          },
          "metadata": {}
        }
      ],
      "source": [
        "# Read the vector layer and make sure it is project using WGS84 (EPSG:4326)\n",
        "vec_gdf = geopandas.read_file(vec_file).to_crs(4326)\n",
        "\n",
        "# Get layer bbox: minx, miny, maxx, maxy\n",
        "gp_bbox = vec_gdf.total_bounds\n",
        "\n",
        "# Create the GEE geometry from the bbox.\n",
        "roi_west = gp_bbox[0]\n",
        "roi_east = gp_bbox[2]\n",
        "roi_north = gp_bbox[3]\n",
        "roi_south = gp_bbox[1]\n",
        "tile_aoi = ee.Geometry.BBox(roi_west, roi_south, roi_east, roi_north)"
      ]
    },
    {
      "cell_type": "code",
      "execution_count": 7,
      "metadata": {
        "id": "aB4L8haiM3gh",
        "outputId": "9be2768b-062a-4c8a-fa36-dfadce16b55c",
        "colab": {
          "base_uri": "https://localhost:8080/",
          "height": 446
        }
      },
      "outputs": [
        {
          "output_type": "display_data",
          "data": {
            "text/plain": [
              "<IPython.core.display.HTML object>"
            ],
            "text/html": [
              "\n",
              "            <style>\n",
              "                .geemap-dark {\n",
              "                    --jp-widgets-color: white;\n",
              "                    --jp-widgets-label-color: white;\n",
              "                    --jp-ui-font-color1: white;\n",
              "                    --jp-layout-color2: #454545;\n",
              "                    background-color: #383838;\n",
              "                }\n",
              "\n",
              "                .geemap-dark .jupyter-button {\n",
              "                    --jp-layout-color3: #383838;\n",
              "                }\n",
              "\n",
              "                .geemap-colab {\n",
              "                    background-color: var(--colab-primary-surface-color, white);\n",
              "                }\n",
              "\n",
              "                .geemap-colab .jupyter-button {\n",
              "                    --jp-layout-color3: var(--colab-primary-surface-color, white);\n",
              "                }\n",
              "            </style>\n",
              "            "
            ]
          },
          "metadata": {}
        },
        {
          "output_type": "stream",
          "name": "stdout",
          "text": [
            "1 / 2010\n",
            "\tNumber of images: 30\n",
            "2 / 2010\n",
            "\tNumber of images: 27\n",
            "3 / 2010\n",
            "\tNumber of images: 30\n",
            "4 / 2010\n",
            "\tNumber of images: 29\n",
            "5 / 2010\n",
            "\tNumber of images: 30\n",
            "6 / 2010\n",
            "\tNumber of images: 29\n",
            "7 / 2010\n",
            "\tNumber of images: 30\n",
            "8 / 2010\n",
            "\tNumber of images: 30\n",
            "9 / 2010\n",
            "\tNumber of images: 29\n",
            "10 / 2010\n",
            "\tNumber of images: 30\n",
            "11 / 2010\n",
            "\tNumber of images: 29\n",
            "12 / 2010\n",
            "\tNumber of images: 30\n"
          ]
        }
      ],
      "source": [
        "# Get the list of years and months\n",
        "month_years = pb_gee_tools.utils.create_year_month_n_months_lst(\n",
        "    start_year, start_month, n_months\n",
        ")\n",
        "\n",
        "# Iterate through the months\n",
        "img_lst = list()\n",
        "for year, month in month_years:\n",
        "    print(f\"{month} / {year}\")\n",
        "    # Find the date of the last day of the month.\n",
        "    end_day = pb_gee_tools.utils.find_month_end_date(year, month)\n",
        "\n",
        "    # Specify the start and end years to search by\n",
        "    start_date = datetime.datetime(year=year, month=month, day=1)\n",
        "    end_date = datetime.datetime(year=year, month=month, day=end_day)\n",
        "\n",
        "    # Find the MODIS albedo scenes\n",
        "    modis_albedo_col = pb_gee_tools.datasets.get_modis_albedo_collection(\n",
        "        aoi=tile_aoi,\n",
        "        start_date=start_date,\n",
        "        end_date=end_date,\n",
        "    )\n",
        "\n",
        "    # Check how many scenes there are in the returned image collection\n",
        "    n_imgs = modis_albedo_col.size().toInt().getInfo()\n",
        "    print(f\"\\tNumber of images: {n_imgs}\")\n",
        "\n",
        "    if n_imgs > 0:\n",
        "        # If there are more than 0 scenes then calculate the median\n",
        "        # and select the band which is to be outputted and rename it\n",
        "        # to include the month/year.\n",
        "        modis_albedo_med_img = modis_albedo_col.select(\n",
        "            [modis_band_name], [f\"{modis_band_name}_{year}_{month}\"]\n",
        "        ).median()\n",
        "\n",
        "        # Add median image to output list.\n",
        "        img_lst.append(modis_albedo_med_img)\n",
        "    else:\n",
        "        print(f\"\\tNo images found for {month} / {year}\")\n",
        "\n",
        "# Create an image collection from the list of monthly medians.\n",
        "monthly_img_col = ee.ImageCollection.fromImages(ee.List(img_lst))"
      ]
    },
    {
      "cell_type": "code",
      "execution_count": null,
      "metadata": {
        "id": "XmRznIrU9pFJ"
      },
      "outputs": [],
      "source": [
        "# Export the median image to your Google Drive\n",
        "task = ee.batch.Export.image.toDrive(\n",
        "    image=monthly_img_col.toBands().int16(),\n",
        "    description=out_file_name,\n",
        "    folder=out_gdrive_dir,\n",
        "    region=tile_aoi,\n",
        "    scale=500,\n",
        "    fileFormat=\"GeoTIFF\",\n",
        "    formatOptions={\"cloudOptimized\": True, \"noData\": out_no_data_val},\n",
        ")\n",
        "task.start()"
      ]
    },
    {
      "cell_type": "code",
      "execution_count": null,
      "metadata": {
        "id": "cLSiHF5RQBGu"
      },
      "outputs": [],
      "source": []
    }
  ],
  "metadata": {
    "colab": {
      "provenance": [],
      "include_colab_link": true
    },
    "kernelspec": {
      "display_name": "Python 3 (ipykernel)",
      "language": "python",
      "name": "python3"
    },
    "language_info": {
      "codemirror_mode": {
        "name": "ipython",
        "version": 3
      },
      "file_extension": ".py",
      "mimetype": "text/x-python",
      "name": "python",
      "nbconvert_exporter": "python",
      "pygments_lexer": "ipython3",
      "version": "3.12.4"
    }
  },
  "nbformat": 4,
  "nbformat_minor": 0
}