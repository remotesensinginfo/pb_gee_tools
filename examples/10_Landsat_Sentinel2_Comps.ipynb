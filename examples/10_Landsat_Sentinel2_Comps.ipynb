{
  "nbformat": 4,
  "nbformat_minor": 0,
  "metadata": {
    "colab": {
      "provenance": []
    },
    "kernelspec": {
      "name": "python3",
      "display_name": "Python 3"
    },
    "language_info": {
      "name": "python"
    }
  },
  "cells": [
    {
      "cell_type": "markdown",
      "source": [
        "# Import Python Modules\n",
        "\n",
        "Import the Python modules needed for this notebook."
      ],
      "metadata": {
        "id": "JuoEAHbQ9vgo"
      }
    },
    {
      "cell_type": "code",
      "execution_count": null,
      "metadata": {
        "id": "Om_7sTY0BZbl"
      },
      "outputs": [],
      "source": [
        "# The Google Earth Engine module\n",
        "import ee\n",
        "# Import the geemap (https://geemap.org/) module which\n",
        "# has a visualisation tool\n",
        "import geemap\n",
        "# Geopandas allows us to read the shapefile used to\n",
        "# define the region of interest (ROI)\n",
        "import geopandas\n",
        "# The datetime module is used to specify the dates\n",
        "# to search for imagery\n",
        "import datetime\n",
        "# The colab module to access data from your google drive\n",
        "from google.colab import drive"
      ]
    },
    {
      "cell_type": "markdown",
      "source": [
        "## Install pb_gee_tools\n",
        "\n",
        "The pb_gee_tools module (https://github.com/remotesensinginfo/pb_gee_tools) is a collection of tools used to make it easier to access datasets on Google Earth Engine.\n",
        "\n",
        "The code below tests whether the module is available to import and if not will install the module from code repository."
      ],
      "metadata": {
        "id": "RR4I6HrX-60i"
      }
    },
    {
      "cell_type": "code",
      "source": [
        "try:\n",
        "  import pb_gee_tools\n",
        "  import pb_gee_tools.datasets\n",
        "except:\n",
        "  !git --version\n",
        "  !git clone https://github.com/remotesensinginfo/pb_gee_tools.git\n",
        "  !pip --version\n",
        "  !pip install ./pb_gee_tools/.\n",
        "  import pb_gee_tools\n",
        "  import pb_gee_tools.datasets"
      ],
      "metadata": {
        "id": "UHfwtGnbB0Fh"
      },
      "execution_count": null,
      "outputs": []
    },
    {
      "cell_type": "markdown",
      "source": [
        "# Autheticate with Google Earth Engine\n",
        "\n",
        "The next stage is to specify the project being used for your analysis and to autheticate with Google Earth Engine.\n",
        "\n",
        "The first time you run the following cell it will come up with a prompt asking your permission to access your GEE account and project."
      ],
      "metadata": {
        "id": "5nhzy6cK_Wj8"
      }
    },
    {
      "cell_type": "code",
      "source": [
        "ee.Authenticate()\n",
        "ee.Initialize(project='ee-petebunting-gmw') # <==== Replace this with your own EE project string"
      ],
      "metadata": {
        "id": "jCylV9bZ7uKy"
      },
      "execution_count": null,
      "outputs": []
    },
    {
      "cell_type": "markdown",
      "source": [
        "# Mount Google Drive\n",
        "\n",
        "To access files within your Google Drive we need to 'mount it' to this colab environment.\n",
        "\n",
        "Again, it will come up with a prompt asking your permission."
      ],
      "metadata": {
        "id": "GXovxDg6ACKq"
      }
    },
    {
      "cell_type": "code",
      "source": [
        "drive.mount('/content/drive')"
      ],
      "metadata": {
        "id": "OwHDRgmqDwu1"
      },
      "execution_count": null,
      "outputs": []
    },
    {
      "cell_type": "markdown",
      "source": [
        "# Customise Inputs\n",
        "\n",
        "This next section is where you need to specify input variables to control the Sentinel-2 image composite which is created.\n",
        "\n",
        "You need to specify:\n",
        "\n",
        "*   The path (on your google drive) to the vector layer specifying your region of interest. The vector layer can be any format that Geopandas is able to read (e.g., Shapefile, GeoJSON, GPKG).\n",
        "*   The start date (i.e., earlier date) for the image search\n",
        "*   The end date (i.e., later date) for the image search\n",
        "*   The output no date value used - should always be 0\n",
        "*   The output image file name (Note, do not specify the file extention - it will have .tif added when created)\n",
        "*   The output directory on your google drive where the output image will be saved.\n",
        "\n"
      ],
      "metadata": {
        "id": "vcJpQiNWALAU"
      }
    },
    {
      "cell_type": "code",
      "source": [
        "vec_file = '/content/drive/MyDrive/gmw_v4_xtra_cls/n0950e0060_roi.geojson'\n",
        "start_date = datetime.datetime(year=2020, month=1, day=1)\n",
        "end_date = datetime.datetime(year=2020, month=12, day=31)\n",
        "out_no_data_val = 0.0\n",
        "out_file_name = \"sen2_ls_n0950e0060_2020_med_comp\"\n",
        "out_gdrive_dir = \"test_gee_outs\""
      ],
      "metadata": {
        "id": "1cRLfqJ58ph8"
      },
      "execution_count": null,
      "outputs": []
    },
    {
      "cell_type": "markdown",
      "source": [
        "# Processing Stages"
      ],
      "metadata": {
        "id": "skUwEf6FBa66"
      }
    },
    {
      "cell_type": "code",
      "source": [
        "# Read the vector layer and make sure it is project using WGS84 (EPSG:4326)\n",
        "vec_gdf = geopandas.read_file(vec_file).to_crs(4326)\n",
        "\n",
        "# Get layer bbox: minx, miny, maxx, maxy\n",
        "gp_bbox = vec_gdf.total_bounds\n",
        "\n",
        "# Create the GEE geometry from the bbox.\n",
        "roi_west = gp_bbox[0]\n",
        "roi_east = gp_bbox[2]\n",
        "roi_north = gp_bbox[3]\n",
        "roi_south = gp_bbox[1]\n",
        "tile_aoi = ee.Geometry.BBox(roi_west, roi_south, roi_east, roi_north)"
      ],
      "metadata": {
        "id": "rPBIl53-6w3J"
      },
      "execution_count": null,
      "outputs": []
    },
    {
      "cell_type": "code",
      "source": [
        "# Extract the Sentinel-2 image collection\n",
        "sen2_img_col = pb_gee_tools.datasets.get_sen2_combined_cldmsk_sr_harm_collection(\n",
        "    aoi=tile_aoi,\n",
        "      start_date=start_date,\n",
        "      end_date=end_date,\n",
        "      cloud_thres=50,\n",
        "    cld_prb_thres = 50,\n",
        "    nir_drk_thres = 0.10,\n",
        "    cld_prj_dist = 1,\n",
        "    clds_buffer = 100,\n",
        "    cloud_clear_thres = 0.65,\n",
        ").select([\"B2\", \"B3\", \"B4\", \"B8\", \"B11\", \"B12\"], [\"Blue\", \"Green\", \"Red\", \"NIR\", \"SWIR1\", \"SWIR2\"])"
      ],
      "metadata": {
        "id": "n4udG3EEcvdO"
      },
      "execution_count": null,
      "outputs": []
    },
    {
      "cell_type": "code",
      "source": [
        "# Get the landsat image collection\n",
        "ls_img_col = pb_gee_tools.datasets.get_sr_landsat_collection(\n",
        "        aoi=tile_aoi,\n",
        "        start_date=start_date,\n",
        "        end_date=end_date,\n",
        "        cloud_thres=70,\n",
        "        ignore_ls7=False,\n",
        "        out_lstm_bands=True,\n",
        ").select([\"Blue\", \"Green\", \"Red\", \"NIR\", \"SWIR1\", \"SWIR2\"])\n"
      ],
      "metadata": {
        "id": "JgA49wHDqGsb"
      },
      "execution_count": null,
      "outputs": []
    },
    {
      "cell_type": "code",
      "source": [
        "# Change the Sentinel-2 image collection to float data\n",
        "# type to match the Landsat image collection.\n",
        "def _make_float(img):\n",
        "    return img.float()\n",
        "sen2_flt_img_col = sen2_img_col.map(_make_float)"
      ],
      "metadata": {
        "id": "fSuv9blhuFFu"
      },
      "execution_count": null,
      "outputs": []
    },
    {
      "cell_type": "code",
      "source": [
        "# Merge the Sentinel-2 and Landsat image collections\n",
        "sen2_ls_img_col = sen2_flt_img_col.merge(ls_img_col)"
      ],
      "metadata": {
        "id": "SYI3YSdgrB2k"
      },
      "execution_count": null,
      "outputs": []
    },
    {
      "cell_type": "code",
      "source": [
        "# Calculate the Median of the merged image collection\n",
        "sen2_ls_median = sen2_ls_img_col.median().unmask(out_no_data_val).clip(tile_aoi).toUint16()\n"
      ],
      "metadata": {
        "id": "qR_YbEBfFpHP"
      },
      "execution_count": null,
      "outputs": []
    },
    {
      "cell_type": "code",
      "source": [
        "map_obj = geemap.Map()\n",
        "\n",
        "# Create the centre point for the map\n",
        "cnt_pt_x = roi_west + (roi_east - roi_west)/2\n",
        "cnt_pt_y = roi_south + (roi_north - roi_south)/2\n",
        "cnt_pt = ee.Geometry.Point([cnt_pt_x, cnt_pt_y])\n",
        "# Specify the centre point and scale of the map\n",
        "map_obj.centerObject(cnt_pt, 12)\n",
        "\n",
        "# Add Google Maps Basemap\n",
        "gg_maps_url = \"https://mt1.google.com/vt/lyrs=m&x={x}&y={y}&z={z}\"\n",
        "map_obj.add_tile_layer(gg_maps_url, name=\"Google Maps\", attribution=\"Google\")\n",
        "\n",
        "# Add Google Satellite Imagery Basemap\n",
        "gg_img_url = \"http://www.google.cn/maps/vt?lyrs=s@189&gl=cn&x={x}&y={y}&z={z}\"\n",
        "map_obj.add_tile_layer(gg_img_url, name=\"Google Imagery\", attribution=\"Google\")\n",
        "\n",
        "# Add ESRI Satellite Imagery Basemap\n",
        "esri_img_url = \"https://server.arcgisonline.com/ArcGIS/rest/services/World_Imagery/MapServer/tile/{z}/{y}/{x}\"\n",
        "map_obj.add_tile_layer(esri_img_url, name=\"ESRI Imagery\", attribution=\"ESRI\")\n",
        "\n",
        "# Specify the visualisation options.\n",
        "vis_params = {\"min\": [1, 27, 179], \"max\": [3151, 3715, 1880], \"bands\": [\"NIR\", \"SWIR1\", \"Red\"]}\n",
        "\n",
        "# Add the Sentinel-2 Composite\n",
        "map_obj.addLayer(sen2_ls_median, vis_params, \"S2/LS Median\")\n",
        "\n",
        "map_obj"
      ],
      "metadata": {
        "id": "88IvPodv9gTP"
      },
      "execution_count": null,
      "outputs": []
    },
    {
      "cell_type": "code",
      "source": [
        "# Export the median image to your Google Drive\n",
        "task = ee.batch.Export.image.toDrive(\n",
        "        image=sen2_ls_median,\n",
        "        description=out_file_name,\n",
        "        folder=out_gdrive_dir,\n",
        "        scale=30,\n",
        "        fileFormat=\"GeoTIFF\",\n",
        "        formatOptions={\"cloudOptimized\": True, 'noData': out_no_data_val},\n",
        ")\n",
        "task.start()"
      ],
      "metadata": {
        "id": "XmRznIrU9pFJ"
      },
      "execution_count": null,
      "outputs": []
    },
    {
      "cell_type": "code",
      "source": [],
      "metadata": {
        "id": "OkNyGoOkyUd6"
      },
      "execution_count": null,
      "outputs": []
    }
  ]
}